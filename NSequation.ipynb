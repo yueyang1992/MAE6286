{
 "cells": [
  {
   "cell_type": "code",
   "execution_count": 1,
   "metadata": {
    "collapsed": true
   },
   "outputs": [],
   "source": [
    "from matplotlib import pyplot, cm\n",
    "import numpy\n",
    "%matplotlib inline\n",
    "from matplotlib import rcParams\n",
    "rcParams['font.family'] = 'serif'\n",
    "rcParams['font.size'] = 16"
   ]
  },
  {
   "cell_type": "code",
   "execution_count": 2,
   "metadata": {
    "collapsed": true
   },
   "outputs": [],
   "source": [
    "# Parameters\n",
    "nx = 41\n",
    "ny = 41\n",
    "\n",
    "l = 1.\n",
    "h = 1.\n",
    "\n",
    "dx = l/(nx-1)\n",
    "dy = h/(ny-1)\n",
    "\n",
    "l1_target = 1e-6 # difference between successive iterations"
   ]
  },
  {
   "cell_type": "code",
   "execution_count": 3,
   "metadata": {
    "collapsed": true
   },
   "outputs": [],
   "source": [
    "def L1norm(new, old):\n",
    "    norm = numpy.sum(numpy.abs(new-old))\n",
    "    return norm"
   ]
  },
  {
   "cell_type": "code",
   "execution_count": 4,
   "metadata": {
    "collapsed": true
   },
   "outputs": [],
   "source": [
    "def poisson(psi, omega, dx, dy, l1_target):\n",
    "    '''Performs Jacobi relaxation\n",
    "    \n",
    "    Parameters:\n",
    "    ----------\n",
    "    psi : 2D array of floats\n",
    "        Initial guess\n",
    "    omega : 2D array of floats\n",
    "        Source term\n",
    "    dx: float\n",
    "        Mesh spacing in x direction\n",
    "    dy: float\n",
    "        Mesh spacing in y direction\n",
    "    l1_target: float\n",
    "        Target difference between two consecutive iterates\n",
    "    \n",
    "    Returns:\n",
    "    -------\n",
    "    psi: 2D array of float\n",
    "    omega: 2D array of float \n",
    "        Distribution after relaxation\n",
    "    '''\n",
    "\n",
    "    \n",
    "    l1_norm = 1\n",
    "    \n",
    "    while l1_norm > l1_target:\n",
    "        psid = psi.copy()\n",
    "        omegan = omega.copy()\n",
    "        psi[1:-1,1:-1] = 1/(2*(dx**2 + dy**2)) * \\\n",
    "                        ((psid[1:-1,2:]+psid[1:-1,:-2])*dy**2 +\\\n",
    "                        (psid[2:,1:-1] + psid[:-2,1:-1])*dx**2 +\\\n",
    "                         omegan[1:-1,1:-1]*dx**2*dy**2)\n",
    "              \n",
    "        omega[1:-1,1:-1] = .25 * (omegan[1:-1,2:] + omegan[1:-1, :-2] \\\n",
    "                              + omegan[2:, 1:-1] + omegan[:-2, 1:-1]) \n",
    "        \n",
    "        # BCs are automatically enforced:top, bottom, right, left sides\n",
    "        u_j = 1\n",
    "        omega[-1,1:-1] = -1/2/dy**2 * (8* psi[-2,1:-1]-psi[-3,1:-1]) -\\\n",
    "                            3*u_j/dy\n",
    "        omega[0,1:-1] = -1/2/dy**2 * (8* psi[1,1:-1]-psi[2,1:-1])    \n",
    "        omega[1:-1,-1] = -1/2/dx**2 * (8* psi[1:-1,-2]-psi[1:-1,-3])\n",
    "        omega[1:-1,0] = -1/2/dx**2 * (8* psi[1:-1,1]-psi[1:-1,2])\n",
    "        \n",
    "        t1 = L1norm(psi, psid)\n",
    "        t2 = L1norm(omega, omegan)\n",
    "        l1_norm = max(t1, t2)\n",
    "    return psi, omega"
   ]
  },
  {
   "cell_type": "code",
   "execution_count": 5,
   "metadata": {
    "collapsed": true
   },
   "outputs": [],
   "source": [
    "# Mesh\n",
    "x = numpy.linspace(0,1,nx)\n",
    "y = numpy.linspace(0,1,ny)\n",
    "X,Y = numpy.meshgrid(x,y)\n",
    "\n",
    "# initialize\n",
    "psi = numpy.zeros((ny,nx))\n",
    "omega = numpy.zeros((ny,nx))"
   ]
  },
  {
   "cell_type": "code",
   "execution_count": 6,
   "metadata": {
    "collapsed": false
   },
   "outputs": [
    {
     "data": {
      "text/plain": [
       "0.099845172462224338"
      ]
     },
     "execution_count": 6,
     "metadata": {},
     "output_type": "execute_result"
    }
   ],
   "source": [
    "a = poisson(psi, omega, dx, dy, l1_target)\n",
    "b = a[0] # derive psi\n",
    "\n",
    "# maximum value of psi\n",
    "b_max = numpy.max(numpy.abs(b))\n",
    "b_max"
   ]
  },
  {
   "cell_type": "code",
   "execution_count": 7,
   "metadata": {
    "collapsed": false
   },
   "outputs": [
    {
     "data": {
      "text/plain": [
       "78.192661228600699"
      ]
     },
     "execution_count": 7,
     "metadata": {},
     "output_type": "execute_result"
    }
   ],
   "source": [
    "c = a[1] # derive omega\n",
    "\n",
    "# maximum value of omega\n",
    "d_max = numpy.max(numpy.abs(c))\n",
    "d_max"
   ]
  },
  {
   "cell_type": "code",
   "execution_count": 8,
   "metadata": {
    "collapsed": false
   },
   "outputs": [
    {
     "data": {
      "text/plain": [
       "array([ 0.    , -0.0575, -0.0944, -0.0944, -0.0575,  0.    ])"
      ]
     },
     "execution_count": 8,
     "metadata": {},
     "output_type": "execute_result"
    }
   ],
   "source": [
    "numpy.round(psi[32,::8], 4)"
   ]
  },
  {
   "cell_type": "code",
   "execution_count": 9,
   "metadata": {
    "collapsed": false
   },
   "outputs": [
    {
     "data": {
      "image/png": "[encoded data removed]",
      "text/plain": [
       "<matplotlib.figure.Figure at 0x7fcc0c5ec3c8>"
      ]
     },
     "metadata": {},
     "output_type": "display_data"
    }
   ],
   "source": [
    "pyplot.figure(figsize=(8,6))\n",
    "pyplot.contourf(X, Y, b, 12, cmap=cm.viridis)\n",
    "pyplot.xlabel('$x$')\n",
    "pyplot.ylabel('$y$')\n",
    "pyplot.colorbar();"
   ]
  },
  {
   "cell_type": "code",
   "execution_count": null,
   "metadata": {
    "collapsed": true
   },
   "outputs": [],
   "source": []
  }
 ],
 "metadata": {
  "anaconda-cloud": {},
  "kernelspec": {
   "display_name": "Python [default]",
   "language": "python",
   "name": "python3"
  },
  "language_info": {
   "codemirror_mode": {
    "name": "ipython",
    "version": 3
   },
   "file_extension": ".py",
   "mimetype": "text/x-python",
   "name": "python",
   "nbconvert_exporter": "python",
   "pygments_lexer": "ipython3",
   "version": "3.5.2"
  }
 },
 "nbformat": 4,
 "nbformat_minor": 1
}
