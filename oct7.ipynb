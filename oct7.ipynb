{
 "cells": [
  {
   "cell_type": "code",
   "execution_count": 1,
   "metadata": {
    "collapsed": true
   },
   "outputs": [],
   "source": [
    "import numpy\n",
    "from matplotlib import pyplot\n",
    "%matplotlib inline\n",
    "from matplotlib import rcParams\n",
    "rcParams['font.family'] = 'serif'\n",
    "rcParams['font.size'] = 16"
   ]
  },
  {
   "cell_type": "code",
   "execution_count": 2,
   "metadata": {
    "collapsed": true
   },
   "outputs": [],
   "source": [
    "### set boundary condition \n",
    "V_max = 80  # maximum velocity of traffic in km hr^{-1}\n",
    "rho_max = 250  # maximum traffic density in cars km^{-1}"
   ]
  },
  {
   "cell_type": "code",
   "execution_count": 3,
   "metadata": {
    "collapsed": true
   },
   "outputs": [],
   "source": [
    "### make spaced grid of points within spatial domain\n",
    "L = 11  # length of road in km\n",
    "nx = 51  # number of spatial grid points\n",
    "dx = L/(nx-1)  # distance between any pair of adjacent grid points\n",
    "dt = 0.001  # time-increment in hrs"
   ]
  },
  {
   "cell_type": "code",
   "execution_count": 4,
   "metadata": {
    "collapsed": true
   },
   "outputs": [],
   "source": [
    "### set initial condition for traffic density\n",
    "x = numpy.linspace(0,L,nx)\n",
    "rho0 = numpy.ones(nx)*10\n",
    "rho0[10:20] = 50\n",
    "rho = rho0\n",
    "rho[0] = 10"
   ]
  },
  {
   "cell_type": "code",
   "execution_count": 5,
   "metadata": {
    "collapsed": false
   },
   "outputs": [],
   "source": [
    "V = numpy.zeros(nx)\n",
    "F = numpy.zeros(nx)\n",
    "\n",
    "for n in range(nx):\n",
    "    V[n] = V_max*(1-rho[n]/rho_max)\n",
    "    F[n] = V[n]*rho[n]"
   ]
  },
  {
   "cell_type": "code",
   "execution_count": 6,
   "metadata": {
    "collapsed": false
   },
   "outputs": [
    {
     "name": "stdout",
     "output_type": "stream",
     "text": [
      "The minimum velocity at time t = 0 is v =64.00 km/hr\n"
     ]
    }
   ],
   "source": [
    "v_0_min = V[0]\n",
    "for i in range(1,nx):\n",
    "    if V[i] < v_0_min:\n",
    "        v_0_min = V[i]\n",
    "print('The minimum velocity at time t = 0 is v ={:.2f} km/hr'.format(v_0_min))"
   ]
  },
  {
   "cell_type": "code",
   "execution_count": 7,
   "metadata": {
    "collapsed": false
   },
   "outputs": [
    {
     "name": "stdout",
     "output_type": "stream",
     "text": [
      "The minimum velocity at time t = 0 is v =17.78 m/s\n"
     ]
    }
   ],
   "source": [
    "### change units\n",
    "print('The minimum velocity at time t = 0 is v ={:.2f} m/s'.format(v_0_min*1000/3600))"
   ]
  },
  {
   "cell_type": "code",
   "execution_count": 8,
   "metadata": {
    "collapsed": false
   },
   "outputs": [],
   "source": [
    "nt = int(3/(60*dt))\n",
    "for n in range(1,nt):\n",
    "    rhon = rho.copy()\n",
    "    for n in range(1,nx):\n",
    "        V[n] = V_max*(1-rho[n]/rho_max)\n",
    "        F[n] = V[n]*rho[n]\n",
    "        rho[1:] = rhon[1:]-dt/dx*(F[1:]-F[0:-1])"
   ]
  },
  {
   "cell_type": "code",
   "execution_count": 9,
   "metadata": {
    "collapsed": false
   },
   "outputs": [
    {
     "data": {
      "text/plain": [
       "[<matplotlib.lines.Line2D at 0x7f66e545fcf8>]"
      ]
     },
     "execution_count": 9,
     "metadata": {},
     "output_type": "execute_result"
    },
    {
     "data": {
      "image/png": "[encoded data removed]",
      "text/plain": [
       "<matplotlib.figure.Figure at 0x7f66e44d1e10>"
      ]
     },
     "metadata": {},
     "output_type": "display_data"
    }
   ],
   "source": [
    "pyplot.plot(x, rho, color='#003366', ls='--', lw=3)"
   ]
  },
  {
   "cell_type": "code",
   "execution_count": 10,
   "metadata": {
    "collapsed": false
   },
   "outputs": [
    {
     "name": "stdout",
     "output_type": "stream",
     "text": [
      "The average velocity at t=3 minutes is v =20.64 m/s\n"
     ]
    }
   ],
   "source": [
    "v_sum = 0\n",
    "for n in range (nx):\n",
    "    v_sum = v_sum + V[n]\n",
    "### change units    \n",
    "print('The average velocity at t=3 minutes is v ={:.2f} m/s'.format((v_sum/nx)/3.6))"
   ]
  },
  {
   "cell_type": "code",
   "execution_count": 11,
   "metadata": {
    "collapsed": false
   },
   "outputs": [
    {
     "name": "stdout",
     "output_type": "stream",
     "text": [
      "The average velocity at t=6 minutes is v =18.66 m/s\n"
     ]
    }
   ],
   "source": [
    "v_6_min = V[0]\n",
    "for i in range(0,nx):\n",
    "    if V[i] < v_6_min:\n",
    "        v_6_min = V[i]\n",
    "print('The average velocity at t=6 minutes is v ={:.2f} m/s'.format(v_6_min/3.6))"
   ]
  },
  {
   "cell_type": "code",
   "execution_count": null,
   "metadata": {
    "collapsed": true
   },
   "outputs": [],
   "source": []
  }
 ],
 "metadata": {
  "anaconda-cloud": {},
  "kernelspec": {
   "display_name": "Python [default]",
   "language": "python",
   "name": "python3"
  },
  "language_info": {
   "codemirror_mode": {
    "name": "ipython",
    "version": 3
   },
   "file_extension": ".py",
   "mimetype": "text/x-python",
   "name": "python",
   "nbconvert_exporter": "python",
   "pygments_lexer": "ipython3",
   "version": "3.5.2"
  }
 },
 "nbformat": 4,
 "nbformat_minor": 1
}
