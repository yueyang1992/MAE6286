{
 "cells": [
  {
   "cell_type": "code",
   "execution_count": 1,
   "metadata": {
    "collapsed": true
   },
   "outputs": [],
   "source": [
    "import numpy\n",
    "from matplotlib import pyplot\n",
    "%matplotlib inline\n",
    "from matplotlib import rcParams\n",
    "rcParams['font.family'] = 'serif'\n",
    "rcParams['font.size'] = 16"
   ]
  },
  {
   "cell_type": "code",
   "execution_count": 2,
   "metadata": {
    "collapsed": true
   },
   "outputs": [],
   "source": [
    "### set boundary condition \n",
    "V_max = 80  # maximum velocity of traffic in km hr^{-1}\n",
    "rho_max = 250  # maximum traffic density in cars km^{-1}"
   ]
  },
  {
   "cell_type": "code",
   "execution_count": 3,
   "metadata": {
    "collapsed": true
   },
   "outputs": [],
   "source": [
    "### make spaced grid of points within spatial domain\n",
    "L = 11  # length of road in km\n",
    "nx = 51  # number of spatial grid points\n",
    "dx = L/(nx-1)  # distance between any pair of adjacent grid points\n",
    "dt = 0.001  # time-increment in hrs"
   ]
  },
  {
   "cell_type": "code",
   "execution_count": 4,
   "metadata": {
    "collapsed": true
   },
   "outputs": [],
   "source": [
    "### set initial condition for traffic density\n",
    "x = numpy.linspace(0,L,nx)\n",
    "rho0 = numpy.ones(nx)*10\n",
    "rho0[10:20] = 50\n",
    "rho = rho0\n",
    "rho[0] = 10"
   ]
  },
  {
   "cell_type": "code",
   "execution_count": 5,
   "metadata": {
    "collapsed": false
   },
   "outputs": [],
   "source": [
    "V = numpy.zeros(nx)\n",
    "F = numpy.zeros(nx)\n",
    "\n",
    "for n in range(nx):\n",
    "    V[n] = V_max*(1-rho[n]/rho_max)\n",
    "    F[n] = V[n]*rho[n]"
   ]
  },
  {
   "cell_type": "code",
   "execution_count": 6,
   "metadata": {
    "collapsed": false
   },
   "outputs": [
    {
     "name": "stdout",
     "output_type": "stream",
     "text": [
      "The minimum velocity at time t = 0 is v =64.00 km/hr\n"
     ]
    }
   ],
   "source": [
    "v_0_min = V[0]\n",
    "for i in range(1,nx):\n",
    "    if V[i] < v_0_min:\n",
    "        v_0_min = V[i]\n",
    "print('The minimum velocity at time t = 0 is v ={:.2f} km/hr'.format(v_0_min))"
   ]
  },
  {
   "cell_type": "code",
   "execution_count": 7,
   "metadata": {
    "collapsed": false
   },
   "outputs": [
    {
     "name": "stdout",
     "output_type": "stream",
     "text": [
      "The minimum velocity at time t = 0 is v =17.78 m/s\n"
     ]
    }
   ],
   "source": [
    "### change units\n",
    "print('The minimum velocity at time t = 0 is v ={:.2f} m/s'.format(v_0_min*1000/3600))"
   ]
  },
  {
   "cell_type": "code",
   "execution_count": 8,
   "metadata": {
    "collapsed": false
   },
   "outputs": [],
   "source": [
    "nt = int(3/(60*dt))\n",
    "for n in range(1,nt):\n",
    "    rhon = rho.copy()\n",
    "    for n in range(1,nx):\n",
    "        V[n] = V_max*(1-rho[n]/rho_max)\n",
    "        F[n] = V[n]*rho[n]\n",
    "        rho[1:] = rhon[1:]-dt/dx*(F[1:]-F[0:-1])"
   ]
  },
  {
   "cell_type": "code",
   "execution_count": 9,
   "metadata": {
    "collapsed": false
   },
   "outputs": [
    {
     "data": {
      "text/plain": [
       "[<matplotlib.lines.Line2D at 0x7f54e677ae48>]"
      ]
     },
     "execution_count": 9,
     "metadata": {},
     "output_type": "execute_result"
    },
    {
     "data": {
      "image/png": "[encoded data removed]",
      "text/plain": [
       "<matplotlib.figure.Figure at 0x7f54e63b6d30>"
      ]
     },
     "metadata": {},
     "output_type": "display_data"
    }
   ],
   "source": [
    "pyplot.plot(x, rho, color='#003366', ls='--', lw=3)"
   ]
  },
  {
   "cell_type": "code",
   "execution_count": 10,
   "metadata": {
    "collapsed": false
   },
   "outputs": [
    {
     "name": "stdout",
     "output_type": "stream",
     "text": [
      "The average velocity at t=3 minutes is v =20.64 m/s\n"
     ]
    }
   ],
   "source": [
    "v_sum = 0\n",
    "for n in range (nx):\n",
    "    v_sum = v_sum + V[n]\n",
    "### change units    \n",
    "print('The average velocity at t=3 minutes is v ={:.2f} m/s'.format((v_sum/nx)/3.6))"
   ]
  },
  {
   "cell_type": "code",
   "execution_count": 11,
   "metadata": {
    "collapsed": true
   },
   "outputs": [],
   "source": [
    "nt_6 = int(6/(60*dt))\n",
    "for n in range(nt_6-1,nt_6):\n",
    "    rhon = rho.copy()\n",
    "    for n in range(1,nx):\n",
    "        V[n] = V_max*(1-rho[n]/rho_max)\n",
    "        F[n] = V[n]*rho[n]\n",
    "        rho[1:] = rhon[1:]-dt/dx*(F[1:]-F[0:-1])"
   ]
  },
  {
   "cell_type": "code",
   "execution_count": 12,
   "metadata": {
    "collapsed": false
   },
   "outputs": [
    {
     "name": "stdout",
     "output_type": "stream",
     "text": [
      "18.4794286896\n"
     ]
    }
   ],
   "source": [
    "V_max = 80.    # km/h\n",
    "L = 11.         # km\n",
    "rho_max = 250.  # cars/km\n",
    "nx = 51         # 1\n",
    "dt = 0.001      # hours\n",
    "\n",
    "time = 0.1\n",
    "\n",
    "dx = float(L)/(nx-1)\n",
    "nt = 1 + int(time/dt)\n",
    "\n",
    "# Initial settings\n",
    "\n",
    "rho = []\n",
    "\n",
    "rho_0 = list(numpy.zeros(nx))\n",
    "\n",
    "# Initializing matrix\n",
    "\n",
    "for t in range(nt):\n",
    "    rho.append(rho_0)\n",
    "\n",
    "rho0 = numpy.ones(nx)*20\n",
    "rho0[10:20] = 50.\n",
    "rho0 = list(rho0)\n",
    "\n",
    "rho[0] = rho0\n",
    "\n",
    "# Solving\n",
    "\n",
    "for t in range(nt-1):  \n",
    "    rho_temp = list(numpy.ones(nx)*20)\n",
    "    for x in range(1,nx): \n",
    "        rho_temp[x] = rho[t][x]  -  ((V_max*(1-rho[t][x]/rho_max))  *   (dt/dx)   *   (rho[t][x]-rho[t][x-1]))\n",
    "    rho[t+1] = rho_temp\n",
    "\n",
    "moment = 100 # Number of timesteps, each timestep is 0.001 h\n",
    "\n",
    "v_min = 100000\n",
    "for i in range(nx):\n",
    "    v_min = min(v_min,(V_max*(1-rho[moment][i]/rho_max)))\n",
    "\n",
    "\n",
    "print (v_min/3.6)"
   ]
  },
  {
   "cell_type": "code",
   "execution_count": 13,
   "metadata": {
    "collapsed": true
   },
   "outputs": [],
   "source": [
    "### set boundary condition \n",
    "V_max_b = 136  # maximum velocity of traffic in km hr^{-1}\n",
    "rho_max = 250  # maximum traffic density in cars km^{-1}"
   ]
  },
  {
   "cell_type": "code",
   "execution_count": 14,
   "metadata": {
    "collapsed": true
   },
   "outputs": [],
   "source": [
    "### make spaced grid of points within spatial domain\n",
    "L = 11  # length of road in km\n",
    "nx = 51  # number of spatial grid points\n",
    "dx = L/(nx-1)  # distance between any pair of adjacent grid points\n",
    "dt = 0.001  # time-increment in hrs"
   ]
  },
  {
   "cell_type": "code",
   "execution_count": 15,
   "metadata": {
    "collapsed": true
   },
   "outputs": [],
   "source": [
    "### set initial condition for traffic density\n",
    "x = numpy.linspace(0,L,nx)\n",
    "rho0_b = numpy.ones(nx)*20\n",
    "rho0_b[10:20] = 50\n",
    "rho_b = rho0_b\n",
    "rho_b[0] = 20"
   ]
  },
  {
   "cell_type": "code",
   "execution_count": 16,
   "metadata": {
    "collapsed": false
   },
   "outputs": [],
   "source": [
    "V_b = numpy.zeros(nx)\n",
    "F_b = numpy.zeros(nx)\n",
    "\n",
    "for n in range(nx):\n",
    "    V_b[n] = V_max_b*(1-rho_b[n]/rho_max)\n",
    "    F_b[n] = V_b[n]*rho_b[n]"
   ]
  },
  {
   "cell_type": "code",
   "execution_count": 17,
   "metadata": {
    "collapsed": false
   },
   "outputs": [
    {
     "name": "stdout",
     "output_type": "stream",
     "text": [
      "The minimum velocity at time t = 0 is v =30.22 m/s\n"
     ]
    }
   ],
   "source": [
    "v_0_min_b = V_b[0]\n",
    "for i in range(1,nx):\n",
    "    if V_b[i] < v_0_min_b:\n",
    "        v_0_min_b = V_b[i]\n",
    "print('The minimum velocity at time t = 0 is v ={:.2f} m/s'.format(v_0_min_b/3.6))"
   ]
  },
  {
   "cell_type": "code",
   "execution_count": 18,
   "metadata": {
    "collapsed": false
   },
   "outputs": [],
   "source": [
    "nt = int(3/(60*dt))\n",
    "for n in range(1,nt):\n",
    "    rhon_b = rho_b.copy()\n",
    "    for n in range(1,nx):\n",
    "        V_b[n] = V_max_b*(1-rho_b[n]/rho_max)\n",
    "        F_b[n] = V_b[n]*rho_b[n]\n",
    "        rho_b[1:] = rhon_b[1:]-dt/dx*(F_b[1:]-F_b[0:-1])"
   ]
  },
  {
   "cell_type": "code",
   "execution_count": 19,
   "metadata": {
    "collapsed": false
   },
   "outputs": [
    {
     "data": {
      "text/plain": [
       "[<matplotlib.lines.Line2D at 0x7f54e6ec20f0>]"
      ]
     },
     "execution_count": 19,
     "metadata": {},
     "output_type": "execute_result"
    },
    {
     "data": {
      "image/png": "[encoded data removed]",
      "text/plain": [
       "<matplotlib.figure.Figure at 0x7f54e635fb70>"
      ]
     },
     "metadata": {},
     "output_type": "display_data"
    }
   ],
   "source": [
    "pyplot.plot(x, rho_b, color='#003366', ls='--', lw=3)"
   ]
  },
  {
   "cell_type": "code",
   "execution_count": 20,
   "metadata": {
    "collapsed": false
   },
   "outputs": [
    {
     "name": "stdout",
     "output_type": "stream",
     "text": [
      "The average velocity at t=3 minutes is v =33.92 m/s\n"
     ]
    }
   ],
   "source": [
    "v_sum_b = 0\n",
    "for n in range (nx):\n",
    "    v_sum_b = v_sum_b + V_b[n]\n",
    "### change units    \n",
    "print('The average velocity at t=3 minutes is v ={:.2f} m/s'.format((v_sum_b/nx)/3.6))"
   ]
  },
  {
   "cell_type": "code",
   "execution_count": 21,
   "metadata": {
    "collapsed": false
   },
   "outputs": [
    {
     "name": "stdout",
     "output_type": "stream",
     "text": [
      "30.8671099856\n"
     ]
    }
   ],
   "source": [
    "V_max = 136.    # km/h\n",
    "L = 11.         # km\n",
    "rho_max = 250.  # cars/km\n",
    "nx = 51         # 1\n",
    "dt = 0.001      # hours\n",
    "\n",
    "time = 0.05\n",
    "\n",
    "dx = float(L)/(nx-1)\n",
    "nt = 1 + int(time/dt)\n",
    "\n",
    "# Initial settings\n",
    "\n",
    "rho = []\n",
    "\n",
    "rho_0 = list(numpy.zeros(nx))\n",
    "\n",
    "# Initializing matrix\n",
    "\n",
    "for t in range(nt):\n",
    "    rho.append(rho_0)\n",
    "\n",
    "rho0 = numpy.ones(nx)*20\n",
    "rho0[10:20] = 50.\n",
    "rho0 = list(rho0)\n",
    "\n",
    "rho[0] = rho0\n",
    "\n",
    "# Solving\n",
    "\n",
    "for t in range(nt-1):  \n",
    "    rho_temp = list(numpy.ones(nx)*20)\n",
    "    for x in range(1,nx): \n",
    "        rho_temp[x] = rho[t][x]  -  ((V_max*(1-rho[t][x]/rho_max))  *   (dt/dx)   *   (rho[t][x]-rho[t][x-1]))\n",
    "    rho[t+1] = rho_temp\n",
    "\n",
    "moment = 50 # Number of timesteps, each timestep is 0.001 h\n",
    "\n",
    "v_min = 100000\n",
    "for i in range(nx):\n",
    "    v_min = min(v_min,(V_max*(1-rho[moment][i]/rho_max)))\n",
    "\n",
    "\n",
    "print (v_min/3.6)"
   ]
  },
  {
   "cell_type": "code",
   "execution_count": null,
   "metadata": {
    "collapsed": true
   },
   "outputs": [],
   "source": []
  }
 ],
 "metadata": {
  "anaconda-cloud": {},
  "kernelspec": {
   "display_name": "Python [default]",
   "language": "python",
   "name": "python3"
  },
  "language_info": {
   "codemirror_mode": {
    "name": "ipython",
    "version": 3
   },
   "file_extension": ".py",
   "mimetype": "text/x-python",
   "name": "python",
   "nbconvert_exporter": "python",
   "pygments_lexer": "ipython3",
   "version": "3.5.2"
  }
 },
 "nbformat": 4,
 "nbformat_minor": 1
}
