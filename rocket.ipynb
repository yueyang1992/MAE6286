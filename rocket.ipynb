{
 "cells": [
  {
   "cell_type": "code",
   "execution_count": 14,
   "metadata": {
    "collapsed": false
   },
   "outputs": [],
   "source": [
    "from math import pi\n",
    "import numpy\n",
    "from matplotlib import pyplot\n",
    "%matplotlib inline\n",
    "from matplotlib import rcParams\n",
    "rcParams['font.family'] = 'serif'\n",
    "rcParams['font.size'] = 16"
   ]
  },
  {
   "cell_type": "code",
   "execution_count": 95,
   "metadata": {
    "collapsed": true
   },
   "outputs": [],
   "source": [
    "# model parameters:\n",
    "g = 9.81  # gravity in m s^{-2}\n",
    "p = 1.091  # average air density in kg m^{-3}\n",
    "C_D = 0.15  # drag coefficient\n",
    "\n",
    "### set initial conditions ###\n",
    "m_s = 50.0  # weight of the rocket in kg\n",
    "A = pi*0.5**2  # maximum cross sectional area of the rocket in m^{2}\n",
    "v_e = 325.0  # exhaust speed in m s^{-1}\n",
    "m_po = 100.0  # initial weight of the rocket propellant"
   ]
  },
  {
   "cell_type": "code",
   "execution_count": 96,
   "metadata": {
    "collapsed": true
   },
   "outputs": [],
   "source": [
    "def dotm_p(t):\n",
    "    if t <= 5.0:\n",
    "        return 20.0\n",
    "    else:\n",
    "        return 0.0"
   ]
  },
  {
   "cell_type": "code",
   "execution_count": 171,
   "metadata": {
    "collapsed": true
   },
   "outputs": [],
   "source": [
    "# set time-increment and discretize the time\n",
    "T = 50  # final time\n",
    "dt = 0.005  # set time-increment\n",
    "N = int(T/dt) + 1  # number of time-steps\n",
    "t = numpy.linspace(0.0, T, N)  # discretize the time using numpy.linspace()"
   ]
  },
  {
   "cell_type": "code",
   "execution_count": 172,
   "metadata": {
    "collapsed": true
   },
   "outputs": [],
   "source": [
    "# initialize an array to hold the changing elevation values\n",
    "m_p = numpy.zeros(N)\n",
    "m_p[0] = m_po"
   ]
  },
  {
   "cell_type": "code",
   "execution_count": 173,
   "metadata": {
    "collapsed": true
   },
   "outputs": [],
   "source": [
    "# time-loop using Euler's method\n",
    "for n in range(N):\n",
    "    if n <= 5/dt:\n",
    "        m_p[n] = m_po - dotm_p(n*dt)*n*dt\n",
    "    else:\n",
    "        m_p[n] = 0.0"
   ]
  },
  {
   "cell_type": "code",
   "execution_count": 174,
   "metadata": {
    "collapsed": false
   },
   "outputs": [
    {
     "data": {
      "text/plain": [
       "[<matplotlib.lines.Line2D at 0x7ffb66a36470>]"
      ]
     },
     "execution_count": 174,
     "metadata": {},
     "output_type": "execute_result"
    },
    {
     "data": {
      "image/png": "[encoded data removed]",
      "text/plain": [
       "<matplotlib.figure.Figure at 0x7ffb669eef98>"
      ]
     },
     "metadata": {},
     "output_type": "display_data"
    }
   ],
   "source": [
    "# plot the figure\n",
    "pyplot.figure(figsize=(10,4))  # set plot size\n",
    "pyplot.grid(True)  # turn on grid lines\n",
    "pyplot.xlabel('$t$', fontsize=16)  # x label\n",
    "pyplot.ylabel('$m_p$', fontsize=16)  # y label\n",
    "pyplot.plot(t, m_p)"
   ]
  },
  {
   "cell_type": "code",
   "execution_count": 175,
   "metadata": {
    "collapsed": false
   },
   "outputs": [
    {
     "name": "stdout",
     "output_type": "stream",
     "text": [
      "36.0\n"
     ]
    }
   ],
   "source": [
    "print(m_p[int(3.2/dt)])"
   ]
  },
  {
   "cell_type": "code",
   "execution_count": 176,
   "metadata": {
    "collapsed": true
   },
   "outputs": [],
   "source": [
    "# solve 2nd equation with Euler's method\n",
    "def f(u):\n",
    "    v = u[0]\n",
    "    y = u[1]\n",
    "    return numpy.array([-g + 1/(m_s + m_p[n])*v_e*dotm_p(n*dt) - 0.5*1/(m_s + m_p[n])*p*v*numpy.abs(v)*A*C_D, v])"
   ]
  },
  {
   "cell_type": "code",
   "execution_count": 177,
   "metadata": {
    "collapsed": true
   },
   "outputs": [],
   "source": [
    "def euler_step(u, f, dt):\n",
    "    return u + dt * f(u)"
   ]
  },
  {
   "cell_type": "code",
   "execution_count": 178,
   "metadata": {
    "collapsed": false
   },
   "outputs": [],
   "source": [
    "v0 = 0.0  # initial velocity in m s^{-1}\n",
    "y0 = 0.0  # initial height in m\n",
    "# initialize the array containing the solution for each time-step\n",
    "u = numpy.empty((N, 2))\n",
    "u[0] = numpy.array([v0, y0])  #fill 1st element with initial values\n",
    "\n",
    "#time loop - Euler method\n",
    "for n in range(N-1):\n",
    "    u[n+1] = euler_step(u[n], f, dt)"
   ]
  },
  {
   "cell_type": "code",
   "execution_count": 179,
   "metadata": {
    "collapsed": true
   },
   "outputs": [],
   "source": [
    "# get the rocket's height and velocity with respect to the time\n",
    "v = u[:,0]\n",
    "y = u[:,1]"
   ]
  },
  {
   "cell_type": "code",
   "execution_count": 180,
   "metadata": {
    "collapsed": false
   },
   "outputs": [
    {
     "data": {
      "text/plain": [
       "(0, 1500)"
      ]
     },
     "execution_count": 180,
     "metadata": {},
     "output_type": "execute_result"
    },
    {
     "data": {
      "image/png": "[encoded data removed]",
      "text/plain": [
       "<matplotlib.figure.Figure at 0x7ffb66a700f0>"
      ]
     },
     "metadata": {},
     "output_type": "display_data"
    }
   ],
   "source": [
    "# visualization of the height\n",
    "pyplot.figure(figsize=(8,6))\n",
    "pyplot.grid(True)\n",
    "pyplot.xlabel('$t$', fontsize=18)\n",
    "pyplot.ylabel('$h$', fontsize=18)\n",
    "pyplot.plot(t, y)\n",
    "pyplot.ylim(0, 1500)"
   ]
  },
  {
   "cell_type": "code",
   "execution_count": 181,
   "metadata": {
    "collapsed": false
   },
   "outputs": [
    {
     "data": {
      "text/plain": [
       "[<matplotlib.lines.Line2D at 0x7ffb66798eb8>]"
      ]
     },
     "execution_count": 181,
     "metadata": {},
     "output_type": "execute_result"
    },
    {
     "data": {
      "image/png": "[encoded data removed]",
      "text/plain": [
       "<matplotlib.figure.Figure at 0x7ffb669f2ef0>"
      ]
     },
     "metadata": {},
     "output_type": "display_data"
    }
   ],
   "source": [
    "# visualization of the velocity\n",
    "pyplot.figure(figsize=(8,6))\n",
    "pyplot.grid(True)\n",
    "pyplot.xlabel('$t$', fontsize=18)\n",
    "pyplot.ylabel('$v$', fontsize=18)\n",
    "pyplot.plot(t, v)"
   ]
  },
  {
   "cell_type": "code",
   "execution_count": 182,
   "metadata": {
    "collapsed": false
   },
   "outputs": [
    {
     "name": "stdout",
     "output_type": "stream",
     "text": [
      "232.426406824\n"
     ]
    }
   ],
   "source": [
    "print(u[int(5/dt), 0])"
   ]
  },
  {
   "cell_type": "code",
   "execution_count": 183,
   "metadata": {
    "collapsed": false
   },
   "outputs": [
    {
     "name": "stdout",
     "output_type": "stream",
     "text": [
      "536.961467643\n"
     ]
    }
   ],
   "source": [
    "print(u[int(5/dt), 1])"
   ]
  },
  {
   "cell_type": "code",
   "execution_count": 184,
   "metadata": {
    "collapsed": false
   },
   "outputs": [
    {
     "name": "stdout",
     "output_type": "stream",
     "text": [
      "1351.5171252 15.790000000000001\n"
     ]
    }
   ],
   "source": [
    "for n in range(N):\n",
    "    if u[n,0] < 0:\n",
    "        print(u[n, 1], n*dt)\n",
    "        break"
   ]
  },
  {
   "cell_type": "code",
   "execution_count": 185,
   "metadata": {
    "collapsed": false
   },
   "outputs": [
    {
     "name": "stdout",
     "output_type": "stream",
     "text": [
      "-86.0028813035 37.365\n"
     ]
    }
   ],
   "source": [
    "for n in range(N):\n",
    "    if u[n,1] < 0:\n",
    "        print(u[n,0], n*dt)\n",
    "        break"
   ]
  },
  {
   "cell_type": "code",
   "execution_count": null,
   "metadata": {
    "collapsed": true
   },
   "outputs": [],
   "source": []
  }
 ],
 "metadata": {
  "anaconda-cloud": {},
  "kernelspec": {
   "display_name": "Python [default]",
   "language": "python",
   "name": "python3"
  },
  "language_info": {
   "codemirror_mode": {
    "name": "ipython",
    "version": 3
   },
   "file_extension": ".py",
   "mimetype": "text/x-python",
   "name": "python",
   "nbconvert_exporter": "python",
   "pygments_lexer": "ipython3",
   "version": "3.5.2"
  }
 },
 "nbformat": 4,
 "nbformat_minor": 1
}
