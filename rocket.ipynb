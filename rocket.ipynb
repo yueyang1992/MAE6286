{
 "cells": [
  {
   "cell_type": "code",
   "execution_count": 14,
   "metadata": {
    "collapsed": false
   },
   "outputs": [],
   "source": [
    "from math import pi\n",
    "import numpy\n",
    "from matplotlib import pyplot\n",
    "%matplotlib inline\n",
    "from matplotlib import rcParams\n",
    "rcParams['font.family'] = 'serif'\n",
    "rcParams['font.size'] = 16"
   ]
  },
  {
   "cell_type": "code",
   "execution_count": 95,
   "metadata": {
    "collapsed": true
   },
   "outputs": [],
   "source": [
    "# model parameters:\n",
    "g = 9.81  # gravity in m s^{-2}\n",
    "p = 1.091  # average air density in kg m^{-3}\n",
    "C_D = 0.15  # drag coefficient\n",
    "\n",
    "### set initial conditions ###\n",
    "m_s = 50.0  # weight of the rocket in kg\n",
    "A = pi*0.5**2  # maximum cross sectional area of the rocket in m^{2}\n",
    "v_e = 325.0  # exhaust speed in m s^{-1}\n",
    "m_po = 100.0  # initial weight of the rocket propellant"
   ]
  },
  {
   "cell_type": "code",
   "execution_count": 96,
   "metadata": {
    "collapsed": true
   },
   "outputs": [],
   "source": [
    "def dotm_p(t):\n",
    "    if t <= 5.0:\n",
    "        return 20.0\n",
    "    else:\n",
    "        return 0.0"
   ]
  },
  {
   "cell_type": "code",
   "execution_count": 97,
   "metadata": {
    "collapsed": true
   },
   "outputs": [],
   "source": [
    "# set time-increment and discretize the time\n",
    "T = 50  # final time\n",
    "dt = 0.1  # set time-increment\n",
    "N = int(T/dt) + 1  # number of time-steps\n",
    "t = numpy.linspace(0.0, T, N)  # discretize the time using numpy.linspace()"
   ]
  },
  {
   "cell_type": "code",
   "execution_count": 98,
   "metadata": {
    "collapsed": true
   },
   "outputs": [],
   "source": [
    "# initialize an array to hold the changing elevation values\n",
    "m_p = numpy.zeros(N)\n",
    "m_p[0] = m_po"
   ]
  },
  {
   "cell_type": "code",
   "execution_count": 99,
   "metadata": {
    "collapsed": true
   },
   "outputs": [],
   "source": [
    "# time-loop using Euler's method\n",
    "for n in range(N):\n",
    "    if n <= 5/dt:\n",
    "        m_p[n] = m_po - dotm_p(n*dt)*n*dt\n",
    "    else:\n",
    "        m_p[n] = 0.0"
   ]
  },
  {
   "cell_type": "code",
   "execution_count": 100,
   "metadata": {
    "collapsed": false
   },
   "outputs": [
    {
     "data": {
      "text/plain": [
       "[<matplotlib.lines.Line2D at 0x7ffb66c15080>]"
      ]
     },
     "execution_count": 100,
     "metadata": {},
     "output_type": "execute_result"
    },
    {
     "data": {
      "image/png": "[encoded data removed]",
      "text/plain": [
       "<matplotlib.figure.Figure at 0x7ffb66c53518>"
      ]
     },
     "metadata": {},
     "output_type": "display_data"
    }
   ],
   "source": [
    "# plot the figure\n",
    "pyplot.figure(figsize=(10,4))  # set plot size\n",
    "pyplot.grid(True)  # turn on grid lines\n",
    "pyplot.xlabel('$t$', fontsize=16)  # x label\n",
    "pyplot.ylabel('$m_p$', fontsize=16)  # y label\n",
    "pyplot.plot(t, m_p)"
   ]
  },
  {
   "cell_type": "code",
   "execution_count": 101,
   "metadata": {
    "collapsed": false
   },
   "outputs": [
    {
     "name": "stdout",
     "output_type": "stream",
     "text": [
      "36.0\n"
     ]
    }
   ],
   "source": [
    "print(m_p[int(3.2/dt)])"
   ]
  },
  {
   "cell_type": "code",
   "execution_count": 121,
   "metadata": {
    "collapsed": true
   },
   "outputs": [],
   "source": [
    "# solve 2nd equation with Euler's method\n",
    "def f(u):\n",
    "    v = u[0]\n",
    "    y = u[1]\n",
    "    return numpy.array([-g + 1/(m_s + m_p[n])*v_e*dotm_p(n*dt) - 0.5*1/(m_s + m_p[n])*p*v*numpy.abs(v)*A*C_D, v])"
   ]
  },
  {
   "cell_type": "code",
   "execution_count": 122,
   "metadata": {
    "collapsed": true
   },
   "outputs": [],
   "source": [
    "def euler_step(u, f, dt):\n",
    "    return u + dt * f(u)"
   ]
  },
  {
   "cell_type": "code",
   "execution_count": 123,
   "metadata": {
    "collapsed": false
   },
   "outputs": [],
   "source": [
    "v0 = 0.0  # initial velocity in m s^{-1}\n",
    "y0 = 0.0  # initial height in m\n",
    "# initialize the array containing the solution for each time-step\n",
    "u = numpy.empty((N, 2))\n",
    "u[0] = numpy.array([v0, y0])  #fill 1st element with initial values\n",
    "\n",
    "#time loop - Euler method\n",
    "for n in range(N-1):\n",
    "    u[n+1] = euler_step(u[n], f, dt)"
   ]
  },
  {
   "cell_type": "code",
   "execution_count": 124,
   "metadata": {
    "collapsed": true
   },
   "outputs": [],
   "source": [
    "# get the rocket's height and velocity with respect to the time\n",
    "v = u[:,0]\n",
    "y = u[:,1]"
   ]
  },
  {
   "cell_type": "code",
   "execution_count": 128,
   "metadata": {
    "collapsed": false
   },
   "outputs": [
    {
     "data": {
      "text/plain": [
       "(0, 1500)"
      ]
     },
     "execution_count": 128,
     "metadata": {},
     "output_type": "execute_result"
    },
    {
     "data": {
      "image/png": "[encoded data removed]",
      "text/plain": [
       "<matplotlib.figure.Figure at 0x7ffb66a4d710>"
      ]
     },
     "metadata": {},
     "output_type": "display_data"
    }
   ],
   "source": [
    "# visualization of the height\n",
    "pyplot.figure(figsize=(8,6))\n",
    "pyplot.grid(True)\n",
    "pyplot.xlabel('$t$', fontsize=18)\n",
    "pyplot.ylabel('$h$', fontsize=18)\n",
    "pyplot.plot(t, y)\n",
    "pyplot.ylim(0, 1500)"
   ]
  },
  {
   "cell_type": "code",
   "execution_count": 130,
   "metadata": {
    "collapsed": false
   },
   "outputs": [
    {
     "data": {
      "text/plain": [
       "[<matplotlib.lines.Line2D at 0x7ffb66a4d9b0>]"
      ]
     },
     "execution_count": 130,
     "metadata": {},
     "output_type": "execute_result"
    },
    {
     "data": {
      "image/png": "[encoded data removed]",
      "text/plain": [
       "<matplotlib.figure.Figure at 0x7ffb66a40ef0>"
      ]
     },
     "metadata": {},
     "output_type": "display_data"
    }
   ],
   "source": [
    "# visualization of the velocity\n",
    "pyplot.figure(figsize=(8,6))\n",
    "pyplot.grid(True)\n",
    "pyplot.xlabel('$t$', fontsize=18)\n",
    "pyplot.ylabel('$v$', fontsize=18)\n",
    "pyplot.plot(t, v)"
   ]
  },
  {
   "cell_type": "code",
   "execution_count": 131,
   "metadata": {
    "collapsed": false
   },
   "outputs": [
    {
     "name": "stdout",
     "output_type": "stream",
     "text": [
      "232.106133413\n"
     ]
    }
   ],
   "source": [
    "print(u[int(5/dt), 0])"
   ]
  },
  {
   "cell_type": "code",
   "execution_count": 132,
   "metadata": {
    "collapsed": false
   },
   "outputs": [
    {
     "name": "stdout",
     "output_type": "stream",
     "text": [
      "523.522834292\n"
     ]
    }
   ],
   "source": [
    "print(u[int(5/dt), 1])"
   ]
  },
  {
   "cell_type": "code",
   "execution_count": 134,
   "metadata": {
    "collapsed": false
   },
   "outputs": [
    {
     "name": "stdout",
     "output_type": "stream",
     "text": [
      "1372.03511792 15.9\n"
     ]
    }
   ],
   "source": [
    "for n in range(N):\n",
    "    if u[n,0] < 0:\n",
    "        print(u[n, 1], n*dt)\n",
    "        break"
   ]
  },
  {
   "cell_type": "code",
   "execution_count": 136,
   "metadata": {
    "collapsed": false
   },
   "outputs": [
    {
     "name": "stdout",
     "output_type": "stream",
     "text": [
      "-86.1346092292 37.7\n",
      "-86.1620201548 37.800000000000004\n",
      "-86.1888240557 37.9\n",
      "-86.2150341879 38.0\n",
      "-86.2406635261 38.1\n",
      "-86.2657247695 38.2\n",
      "-86.2902303471 38.300000000000004\n",
      "-86.3141924231 38.400000000000006\n",
      "-86.3376229025 38.5\n",
      "-86.3605334359 38.6\n",
      "-86.382935425 38.7\n",
      "-86.4048400275 38.800000000000004\n",
      "-86.4262581619 38.900000000000006\n",
      "-86.4472005128 39.0\n",
      "-86.4676775352 39.1\n",
      "-86.4876994595 39.2\n",
      "-86.5072762959 39.300000000000004\n",
      "-86.5264178391 39.400000000000006\n",
      "-86.5451336726 39.5\n",
      "-86.5634331732 39.6\n",
      "-86.5813255151 39.7\n",
      "-86.5988196743 39.800000000000004\n",
      "-86.6159244325 39.900000000000006\n",
      "-86.6326483813 40.0\n",
      "-86.648999926 40.1\n",
      "-86.6649872897 40.2\n",
      "-86.6806185171 40.300000000000004\n",
      "-86.6959014779 40.400000000000006\n",
      "-86.7108438708 40.5\n",
      "-86.725453227 40.6\n",
      "-86.7397369138 40.7\n",
      "-86.753702138 40.800000000000004\n",
      "-86.7673559491 40.900000000000006\n",
      "-86.7807052428 41.0\n",
      "-86.7937567646 41.1\n",
      "-86.8065171121 41.2\n",
      "-86.8189927391 41.300000000000004\n",
      "-86.831189958 41.400000000000006\n",
      "-86.8431149432 41.5\n",
      "-86.8547737337 41.6\n",
      "-86.8661722364 41.7\n",
      "-86.8773162285 41.800000000000004\n",
      "-86.8882113605 41.900000000000006\n",
      "-86.8988631589 42.0\n",
      "-86.9092770289 42.1\n",
      "-86.9194582569 42.2\n",
      "-86.9294120131 42.300000000000004\n",
      "-86.9391433539 42.400000000000006\n",
      "-86.9486572246 42.5\n",
      "-86.9579584615 42.6\n",
      "-86.9670517945 42.7\n",
      "-86.9759418492 42.800000000000004\n",
      "-86.9846331492 42.900000000000006\n",
      "-86.9931301186 43.0\n",
      "-87.0014370835 43.1\n",
      "-87.0095582748 43.2\n",
      "-87.01749783 43.300000000000004\n",
      "-87.025259795 43.400000000000006\n",
      "-87.0328481265 43.5\n",
      "-87.0402666937 43.6\n",
      "-87.0475192802 43.7\n",
      "-87.0546095859 43.800000000000004\n",
      "-87.0615412289 43.900000000000006\n",
      "-87.0683177471 44.0\n",
      "-87.0749426001 44.1\n",
      "-87.0814191711 44.2\n",
      "-87.0877507679 44.300000000000004\n",
      "-87.0939406254 44.400000000000006\n",
      "-87.0999919066 44.5\n",
      "-87.1059077043 44.6\n",
      "-87.1116910429 44.7\n",
      "-87.1173448794 44.800000000000004\n",
      "-87.1228721055 44.900000000000006\n",
      "-87.1282755484 45.0\n",
      "-87.1335579727 45.1\n",
      "-87.1387220815 45.2\n",
      "-87.143770518 45.300000000000004\n",
      "-87.1487058665 45.400000000000006\n",
      "-87.1535306539 45.5\n",
      "-87.1582473509 45.6\n",
      "-87.1628583734 45.7\n",
      "-87.1673660832 45.800000000000004\n",
      "-87.17177279 45.900000000000006\n",
      "-87.1760807519 46.0\n",
      "-87.1802921766 46.1\n",
      "-87.1844092229 46.2\n",
      "-87.1884340013 46.300000000000004\n",
      "-87.1923685756 46.400000000000006\n",
      "-87.1962149634 46.5\n",
      "-87.1999751373 46.6\n",
      "-87.2036510261 46.7\n",
      "-87.2072445155 46.800000000000004\n",
      "-87.2107574494 46.900000000000006\n",
      "-87.2141916302 47.0\n",
      "-87.2175488204 47.1\n",
      "-87.2208307431 47.2\n",
      "-87.2240390831 47.300000000000004\n",
      "-87.2271754873 47.400000000000006\n",
      "-87.2302415662 47.5\n",
      "-87.2332388942 47.6\n",
      "-87.2361690105 47.7\n",
      "-87.23903342 47.800000000000004\n",
      "-87.2418335941 47.900000000000006\n",
      "-87.2445709712 48.0\n",
      "-87.2472469577 48.1\n",
      "-87.2498629285 48.2\n",
      "-87.2524202278 48.300000000000004\n",
      "-87.2549201698 48.400000000000006\n",
      "-87.2573640394 48.5\n",
      "-87.2597530926 48.6\n",
      "-87.2620885576 48.7\n",
      "-87.2643716349 48.800000000000004\n",
      "-87.2666034983 48.900000000000006\n",
      "-87.2687852954 49.0\n",
      "-87.2709181479 49.1\n",
      "-87.2730031528 49.2\n",
      "-87.2750413823 49.300000000000004\n",
      "-87.2770338846 49.400000000000006\n",
      "-87.2789816847 49.5\n",
      "-87.2808857843 49.6\n",
      "-87.2827471632 49.7\n",
      "-87.2845667787 49.800000000000004\n",
      "-87.2863455672 49.900000000000006\n",
      "-87.2880844438 50.0\n"
     ]
    }
   ],
   "source": [
    "for n in range(N):\n",
    "    if u[n,1] < 0:\n",
    "        print(u[n,0], n*dt)"
   ]
  },
  {
   "cell_type": "code",
   "execution_count": null,
   "metadata": {
    "collapsed": true
   },
   "outputs": [],
   "source": []
  }
 ],
 "metadata": {
  "anaconda-cloud": {},
  "kernelspec": {
   "display_name": "Python [default]",
   "language": "python",
   "name": "python3"
  },
  "language_info": {
   "codemirror_mode": {
    "name": "ipython",
    "version": 3
   },
   "file_extension": ".py",
   "mimetype": "text/x-python",
   "name": "python",
   "nbconvert_exporter": "python",
   "pygments_lexer": "ipython3",
   "version": "3.5.2"
  }
 },
 "nbformat": 4,
 "nbformat_minor": 1
}
