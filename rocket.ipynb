{
 "cells": [
  {
   "cell_type": "code",
   "execution_count": 14,
   "metadata": {
    "collapsed": false
   },
   "outputs": [],
   "source": [
    "from math import pi\n",
    "import numpy\n",
    "from matplotlib import pyplot\n",
    "%matplotlib inline\n",
    "from matplotlib import rcParams\n",
    "rcParams['font.family'] = 'serif'\n",
    "rcParams['font.size'] = 16"
   ]
  },
  {
   "cell_type": "code",
   "execution_count": 21,
   "metadata": {
    "collapsed": true
   },
   "outputs": [],
   "source": [
    "# model parameters:\n",
    "g = 9.81  # gravity in m s^{-2}\n",
    "p = 1.091  # average air density in kg m^{-3}\n",
    "C_D = 0.15  # drag coefficient\n",
    "\n",
    "### set initial conditions ###\n",
    "m_s = 50.0  # weight of the rocket in kg\n",
    "A = pi*0.5**2  # maximum cross sectional area of the rocket in m^{2}\n",
    "v_e = 325.0  # exhaust speed in m s^{-1}\n",
    "m_po = 100.0  # initial weight of the rocket propellant"
   ]
  },
  {
   "cell_type": "code",
   "execution_count": 22,
   "metadata": {
    "collapsed": true
   },
   "outputs": [],
   "source": [
    "def dotm_p(t):\n",
    "    if t <= 5.0:\n",
    "        return 20.0\n",
    "    else:\n",
    "        return 0.0"
   ]
  },
  {
   "cell_type": "code",
   "execution_count": 23,
   "metadata": {
    "collapsed": true
   },
   "outputs": [],
   "source": [
    "# set time-increment and discretize the time\n",
    "T = 50  # final time\n",
    "dt = 0.1  # set time-increment\n",
    "N = int(T/dt) + 1  # number of time-steps\n",
    "t = numpy.linspace(0.0, T, N)  # discretize the time using numpy.linspace()"
   ]
  },
  {
   "cell_type": "code",
   "execution_count": 24,
   "metadata": {
    "collapsed": true
   },
   "outputs": [],
   "source": [
    "# initialize an array to hold the changing elevation values\n",
    "m_p = numpy.zeros(N)\n",
    "m_p[0] = m_po"
   ]
  },
  {
   "cell_type": "code",
   "execution_count": 25,
   "metadata": {
    "collapsed": true
   },
   "outputs": [],
   "source": [
    "# time-loop using Euler's method\n",
    "for n in range(N):\n",
    "    if n <= 5/dt:\n",
    "        m_p[n] = m_po - dotm_p(n*dt)*n*dt\n",
    "    else:\n",
    "        m_p[n] = 0.0"
   ]
  },
  {
   "cell_type": "code",
   "execution_count": 27,
   "metadata": {
    "collapsed": false
   },
   "outputs": [
    {
     "data": {
      "text/plain": [
       "[<matplotlib.lines.Line2D at 0x7ffb9092ed30>]"
      ]
     },
     "execution_count": 27,
     "metadata": {},
     "output_type": "execute_result"
    },
    {
     "data": {
      "image/png": "[encoded data removed]",
      "text/plain": [
       "<matplotlib.figure.Figure at 0x7ffb6b8540f0>"
      ]
     },
     "metadata": {},
     "output_type": "display_data"
    }
   ],
   "source": [
    "# plot the figure\n",
    "pyplot.figure(figsize=(10,4))  # set plot size\n",
    "pyplot.grid(True)  # turn on grid lines\n",
    "pyplot.xlabel('$t$', fontsize=16)  # x label\n",
    "pyplot.ylabel('$m_p$', fontsize=16)  # y label\n",
    "pyplot.plot(t, m_p)"
   ]
  },
  {
   "cell_type": "code",
   "execution_count": 28,
   "metadata": {
    "collapsed": false
   },
   "outputs": [
    {
     "name": "stdout",
     "output_type": "stream",
     "text": [
      "36.0\n"
     ]
    }
   ],
   "source": [
    "print(m_p[int(3.2/dt)])"
   ]
  },
  {
   "cell_type": "code",
   "execution_count": null,
   "metadata": {
    "collapsed": true
   },
   "outputs": [],
   "source": []
  }
 ],
 "metadata": {
  "anaconda-cloud": {},
  "kernelspec": {
   "display_name": "Python [default]",
   "language": "python",
   "name": "python3"
  },
  "language_info": {
   "codemirror_mode": {
    "name": "ipython",
    "version": 3
   },
   "file_extension": ".py",
   "mimetype": "text/x-python",
   "name": "python",
   "nbconvert_exporter": "python",
   "pygments_lexer": "ipython3",
   "version": "3.5.2"
  }
 },
 "nbformat": 4,
 "nbformat_minor": 1
}
