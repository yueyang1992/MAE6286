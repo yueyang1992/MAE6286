{
 "cells": [
  {
   "cell_type": "code",
   "execution_count": 1,
   "metadata": {
    "collapsed": true
   },
   "outputs": [],
   "source": [
    "import numpy\n",
    "from scipy.linalg import solve"
   ]
  },
  {
   "cell_type": "code",
   "execution_count": 2,
   "metadata": {
    "collapsed": true
   },
   "outputs": [],
   "source": [
    "def generateMatrix(N, sigma):\n",
    "    \"\"\" Computes the matrix for the diffusion equation with Crank-Nicolson\n",
    "        Dirichlet condition at i=0, Neumann at i=-1\n",
    "    \n",
    "    Parameters:\n",
    "    ----------\n",
    "    N: int\n",
    "        Number of discretization points\n",
    "    sigma: float \n",
    "        alpha*dt/dx^2\n",
    "    \n",
    "    Returns:\n",
    "    -------\n",
    "    A: 2D numpy array of float\n",
    "        Matrix for diffusion equation\n",
    "    \"\"\"\n",
    "   \n",
    "    # Setup the diagonal\n",
    "    d = 2*numpy.diag(numpy.ones(N-2)*(1+1./sigma))\n",
    "    \n",
    "    # Consider Neumann BC\n",
    "    d[-1,-1] = 1+2./sigma\n",
    "    \n",
    "    # Setup upper diagonal\n",
    "    ud = numpy.diag(numpy.ones(N-3)*-1, 1)\n",
    "    \n",
    "    # Setup lower diagonal\n",
    "    ld = numpy.diag(numpy.ones(N-3)*-1, -1)\n",
    "    \n",
    "    A = d + ud + ld\n",
    "    \n",
    "    return A"
   ]
  },
  {
   "cell_type": "code",
   "execution_count": 3,
   "metadata": {
    "collapsed": true
   },
   "outputs": [],
   "source": [
    "def generateRHS(T, sigma):\n",
    "    \"\"\" Computes right-hand side of linear system for diffusion equation\n",
    "        with backward Euler\n",
    "    \n",
    "    Parameters:\n",
    "    ----------\n",
    "    T: array of float\n",
    "        Temperature at current time step\n",
    "    sigma: float\n",
    "        alpha*dt/dx^2\n",
    "    \n",
    "    Returns:\n",
    "    -------\n",
    "    b: array of float\n",
    "        Right-hand side of diffusion equation with backward Euler\n",
    "    \"\"\"\n",
    "    \n",
    "    b = T[1:-1]*2*(1./sigma-1) + T[:-2] + T[2:]\n",
    "    # Consider Dirichlet BC\n",
    "    b[0] += T[0]\n",
    "    \n",
    "    return b"
   ]
  },
  {
   "cell_type": "code",
   "execution_count": 4,
   "metadata": {
    "collapsed": true
   },
   "outputs": [],
   "source": [
    "def CrankNicolson(T, A, nt, sigma):\n",
    "    \"\"\" Advances diffusion equation in time with Crank-Nicolson\n",
    "   \n",
    "    Parameters:\n",
    "    ----------\n",
    "    T: array of float\n",
    "        initial temperature profile\n",
    "    A: 2D array of float\n",
    "        Matrix with discretized diffusion equation\n",
    "    nt: int\n",
    "        number of time steps\n",
    "    sigma: float\n",
    "        alpha*td/dx^2\n",
    "        \n",
    "    Returns:\n",
    "    -------\n",
    "    T: array of floats\n",
    "        temperature profile after nt time steps\n",
    "    \"\"\"\n",
    "    \n",
    "    for t in range(nt):\n",
    "        Tn = T.copy()\n",
    "        b = generateRHS(Tn, sigma)\n",
    "        # Use numpy.linalg.solve\n",
    "        T_interior = solve(A,b)\n",
    "        T[1:-1] = T_interior\n",
    "        # Enforce Neumann BC (Dirichlet is enforced automatically)\n",
    "        T[-1] = T[-2]\n",
    "\n",
    "    return T"
   ]
  },
  {
   "cell_type": "code",
   "execution_count": 5,
   "metadata": {
    "collapsed": true
   },
   "outputs": [],
   "source": [
    "L = 1\n",
    "nx = 21\n",
    "alpha = 1.22e-3\n",
    "\n",
    "dx = L/(nx-1)\n",
    "\n",
    "Ti = numpy.zeros(nx)\n",
    "Ti[0] = 100\n",
    "\n",
    "sigma = 0.5\n",
    "dt = sigma * dx*dx/alpha \n",
    "nt = 10\n",
    "\n",
    "A = generateMatrix(nx, sigma)"
   ]
  },
  {
   "cell_type": "code",
   "execution_count": 6,
   "metadata": {
    "collapsed": false
   },
   "outputs": [
    {
     "name": "stdout",
     "output_type": "stream",
     "text": [
      "[[ 6. -1.  0.  0.  0.  0.  0.  0.  0.  0.  0.  0.  0.  0.  0.  0.  0.  0.\n",
      "   0.]\n",
      " [-1.  6. -1.  0.  0.  0.  0.  0.  0.  0.  0.  0.  0.  0.  0.  0.  0.  0.\n",
      "   0.]\n",
      " [ 0. -1.  6. -1.  0.  0.  0.  0.  0.  0.  0.  0.  0.  0.  0.  0.  0.  0.\n",
      "   0.]\n",
      " [ 0.  0. -1.  6. -1.  0.  0.  0.  0.  0.  0.  0.  0.  0.  0.  0.  0.  0.\n",
      "   0.]\n",
      " [ 0.  0.  0. -1.  6. -1.  0.  0.  0.  0.  0.  0.  0.  0.  0.  0.  0.  0.\n",
      "   0.]\n",
      " [ 0.  0.  0.  0. -1.  6. -1.  0.  0.  0.  0.  0.  0.  0.  0.  0.  0.  0.\n",
      "   0.]\n",
      " [ 0.  0.  0.  0.  0. -1.  6. -1.  0.  0.  0.  0.  0.  0.  0.  0.  0.  0.\n",
      "   0.]\n",
      " [ 0.  0.  0.  0.  0.  0. -1.  6. -1.  0.  0.  0.  0.  0.  0.  0.  0.  0.\n",
      "   0.]\n",
      " [ 0.  0.  0.  0.  0.  0.  0. -1.  6. -1.  0.  0.  0.  0.  0.  0.  0.  0.\n",
      "   0.]\n",
      " [ 0.  0.  0.  0.  0.  0.  0.  0. -1.  6. -1.  0.  0.  0.  0.  0.  0.  0.\n",
      "   0.]\n",
      " [ 0.  0.  0.  0.  0.  0.  0.  0.  0. -1.  6. -1.  0.  0.  0.  0.  0.  0.\n",
      "   0.]\n",
      " [ 0.  0.  0.  0.  0.  0.  0.  0.  0.  0. -1.  6. -1.  0.  0.  0.  0.  0.\n",
      "   0.]\n",
      " [ 0.  0.  0.  0.  0.  0.  0.  0.  0.  0.  0. -1.  6. -1.  0.  0.  0.  0.\n",
      "   0.]\n",
      " [ 0.  0.  0.  0.  0.  0.  0.  0.  0.  0.  0.  0. -1.  6. -1.  0.  0.  0.\n",
      "   0.]\n",
      " [ 0.  0.  0.  0.  0.  0.  0.  0.  0.  0.  0.  0.  0. -1.  6. -1.  0.  0.\n",
      "   0.]\n",
      " [ 0.  0.  0.  0.  0.  0.  0.  0.  0.  0.  0.  0.  0.  0. -1.  6. -1.  0.\n",
      "   0.]\n",
      " [ 0.  0.  0.  0.  0.  0.  0.  0.  0.  0.  0.  0.  0.  0.  0. -1.  6. -1.\n",
      "   0.]\n",
      " [ 0.  0.  0.  0.  0.  0.  0.  0.  0.  0.  0.  0.  0.  0.  0.  0. -1.  6.\n",
      "  -1.]\n",
      " [ 0.  0.  0.  0.  0.  0.  0.  0.  0.  0.  0.  0.  0.  0.  0.  0.  0. -1.\n",
      "   5.]]\n"
     ]
    }
   ],
   "source": [
    "print(A)"
   ]
  },
  {
   "cell_type": "code",
   "execution_count": 7,
   "metadata": {
    "collapsed": true
   },
   "outputs": [],
   "source": [
    "T = CrankNicolson(Ti.copy(), A, nt, sigma)"
   ]
  },
  {
   "cell_type": "code",
   "execution_count": 8,
   "metadata": {
    "collapsed": true
   },
   "outputs": [],
   "source": [
    "from matplotlib import pyplot\n",
    "%matplotlib inline\n",
    "from matplotlib import rcParams\n",
    "rcParams['font.family'] = 'serif'\n",
    "rcParams['font.size'] = 16"
   ]
  },
  {
   "cell_type": "code",
   "execution_count": 9,
   "metadata": {
    "collapsed": false
   },
   "outputs": [
    {
     "data": {
      "image/png": "[encoded data removed]",
      "text/plain": [
       "<matplotlib.figure.Figure at 0x7f41fde6db38>"
      ]
     },
     "metadata": {},
     "output_type": "display_data"
    }
   ],
   "source": [
    "x = numpy.linspace(0,L,nx)\n",
    "\n",
    "pyplot.plot(x, T, color='#003366', ls='-', lw=3);"
   ]
  },
  {
   "cell_type": "code",
   "execution_count": 10,
   "metadata": {
    "collapsed": true
   },
   "outputs": [],
   "source": [
    "from math import pi\n",
    "def T_analytical(x, t, n_max, alpha, L):\n",
    "    \"\"\"Computes the exact solution for 1D diffusion with T=100 at x=0 and dT/dx=0 at x=L\n",
    "        \n",
    "    Paramters:\n",
    "    ---------\n",
    "    x    : array of float\n",
    "        Spatial position\n",
    "    t    : float\n",
    "        Evaluation time\n",
    "    n_max: int \n",
    "        Number of terms to evaluate expression\n",
    "    alpha: float\n",
    "        diffusion coefficient\n",
    "    L    : float\n",
    "        Size of rod\n",
    "        \n",
    "    Returns:\n",
    "    -------\n",
    "    T    : array of float\n",
    "        Temperature at each location x\n",
    "    \"\"\"\n",
    "    T = 100\n",
    "    for n in range(1,n_max+1):\n",
    "        k = (2*n-1)*pi/(2*L)\n",
    "        \n",
    "        summation = 400/((2*n-1)*pi) * numpy.sin(k*x) * numpy.exp(-alpha*k*k*t)\n",
    "        T -= summation\n",
    "\n",
    "    return T    "
   ]
  },
  {
   "cell_type": "code",
   "execution_count": 11,
   "metadata": {
    "collapsed": false
   },
   "outputs": [
    {
     "data": {
      "image/png": "[encoded data removed]",
      "text/plain": [
       "<matplotlib.figure.Figure at 0x7f41fabe52b0>"
      ]
     },
     "metadata": {},
     "output_type": "display_data"
    }
   ],
   "source": [
    "T_exact = T_analytical(x, dt*nt, 100, alpha, L)\n",
    "pyplot.plot(x, T_exact, color='#003366', ls='-', lw=3);"
   ]
  },
  {
   "cell_type": "code",
   "execution_count": 12,
   "metadata": {
    "collapsed": false
   },
   "outputs": [
    {
     "data": {
      "text/plain": [
       "6.9279171182600926e-13"
      ]
     },
     "execution_count": 12,
     "metadata": {},
     "output_type": "execute_result"
    }
   ],
   "source": [
    "T1 = T_analytical(x, .2, 100, alpha, L)\n",
    "T2 = T_analytical(x, .2, 200, alpha, L)\n",
    "numpy.sqrt(numpy.sum((T1-T2)**2)/numpy.sum(T2**2))"
   ]
  },
  {
   "cell_type": "code",
   "execution_count": 13,
   "metadata": {
    "collapsed": true
   },
   "outputs": [],
   "source": [
    "def L2_error(T, T_exact):\n",
    "    \"\"\"Computes L2 norm of error\n",
    "    \n",
    "    Parameters:\n",
    "    ----------\n",
    "    T      : array of float\n",
    "        array with numerical solution\n",
    "    T_exact: array of float\n",
    "        array with exact solution\n",
    "    Returns:\n",
    "    -------\n",
    "    e: L2 norm of error\n",
    "    \"\"\"\n",
    "    \n",
    "    e = numpy.sqrt(numpy.sum((T-T_exact)**2)/numpy.sum(T_exact)**2)\n",
    "    \n",
    "    return e"
   ]
  },
  {
   "cell_type": "code",
   "execution_count": 14,
   "metadata": {
    "collapsed": true
   },
   "outputs": [],
   "source": [
    "def generateMatrix_btcs(N, sigma):\n",
    "    \"\"\" Computes the matrix for the diffusion equation with backward Euler\n",
    "        Dirichlet condition at i=0, Neumann at i=-1\n",
    "    \n",
    "    Parameters:\n",
    "    ----------\n",
    "    T: array of float\n",
    "        Temperature at current time step\n",
    "    sigma: float \n",
    "        alpha*dt/dx^2\n",
    "    \n",
    "    Returns:\n",
    "    -------\n",
    "    A: 2D numpy array of float\n",
    "        Matrix for diffusion equation\n",
    "    \"\"\"\n",
    "   \n",
    "    # Setup the diagonal\n",
    "    d = numpy.diag(numpy.ones(N-2)*(2+1./sigma))\n",
    "    \n",
    "    # Consider Neumann BC\n",
    "    d[-1,-1] = 1+1./sigma\n",
    "    \n",
    "    # Setup upper diagonal\n",
    "    ud = numpy.diag(numpy.ones(N-3)*-1, 1)\n",
    "    \n",
    "    # Setup lower diagonal\n",
    "    ld = numpy.diag(numpy.ones(N-3)*-1, -1)\n",
    "    \n",
    "    A = d + ud + ld\n",
    "    \n",
    "    return A"
   ]
  },
  {
   "cell_type": "code",
   "execution_count": 15,
   "metadata": {
    "collapsed": true
   },
   "outputs": [],
   "source": [
    "def generateRHS_btcs(T, sigma):\n",
    "    \"\"\" Computes right-hand side of linear system for diffusion equation\n",
    "        with backward Euler\n",
    "    \n",
    "    Parameters:\n",
    "    ----------\n",
    "    T: array of float\n",
    "        Temperature at current time step\n",
    "    sigma: float\n",
    "        alpha*dt/dx^2\n",
    "    \n",
    "    Returns:\n",
    "    -------\n",
    "    b: array of float\n",
    "        Right-hand side of diffusion equation with backward Euler\n",
    "    \"\"\"\n",
    "    b = numpy.zeros_like(T)\n",
    "    \n",
    "    b = T[1:-1]*1./sigma\n",
    "    # Consider Dirichlet BC\n",
    "    b[0] += T[0]\n",
    "    \n",
    "    return b"
   ]
  },
  {
   "cell_type": "code",
   "execution_count": 16,
   "metadata": {
    "collapsed": true
   },
   "outputs": [],
   "source": [
    "def implicit_btcs(T, A, nt, sigma):\n",
    "    \"\"\" Advances diffusion equation in time with implicit central scheme\n",
    "   \n",
    "    Parameters:\n",
    "    ----------\n",
    "    T: array of float\n",
    "        initial temperature profile\n",
    "    A: 2D array of float\n",
    "        Matrix with discretized diffusion equation\n",
    "    nt: int\n",
    "        number of time steps\n",
    "    sigma: float\n",
    "        alpha*td/dx^2\n",
    "        \n",
    "    Returns:\n",
    "    -------\n",
    "    T: array of floats\n",
    "        temperature profile after nt time steps\n",
    "    \"\"\"\n",
    "    \n",
    "    for t in range(nt):\n",
    "        Tn = T.copy()\n",
    "        b = generateRHS_btcs(Tn, sigma)\n",
    "        # Use numpy.linalg.solve\n",
    "        T_interior = solve(A,b)\n",
    "        T[1:-1] = T_interior\n",
    "        # Enforce Neumann BC (Dirichlet is enforced automatically)\n",
    "        T[-1] = T[-2]\n",
    "\n",
    "    return T"
   ]
  },
  {
   "cell_type": "code",
   "execution_count": 17,
   "metadata": {
    "collapsed": true
   },
   "outputs": [],
   "source": [
    "nx = 1001\n",
    "dx = L/(nx-1)\n",
    "\n",
    "dt_values = numpy.asarray([1.0, 0.5, 0.25, 0.125])\n",
    "error = numpy.zeros(len(dt_values))\n",
    "error_btcs = numpy.zeros(len(dt_values))\n",
    "\n",
    "t_final = 10\n",
    "t_initial = 1\n",
    "\n",
    "x = numpy.linspace(0,L,nx)\n",
    "\n",
    "Ti =  T_analytical(x, t_initial, 100, alpha, L)\n",
    "T_exact = T_analytical(x, t_final, 100, alpha, L)\n",
    "\n",
    "for i,dt in enumerate(dt_values):\n",
    "    sigma = alpha*dt/dx**2\n",
    "\n",
    "    nt = int((t_final-t_initial)/dt)\n",
    "    \n",
    "    A = generateMatrix(nx, sigma)\n",
    "    \n",
    "    A_btcs = generateMatrix_btcs(nx, sigma)\n",
    "\n",
    "    T = CrankNicolson(Ti.copy(), A, nt, sigma)\n",
    "    \n",
    "    error[i] = L2_error(T,T_exact)\n",
    "    \n",
    "    T = implicit_btcs(Ti.copy(), A_btcs, nt, sigma)\n",
    "    \n",
    "    error_btcs[i] = L2_error(T,T_exact)"
   ]
  },
  {
   "cell_type": "code",
   "execution_count": 18,
   "metadata": {
    "collapsed": false
   },
   "outputs": [
    {
     "data": {
      "image/png": "[encoded data removed]",
      "text/plain": [
       "<matplotlib.figure.Figure at 0x7f41fa3e0a90>"
      ]
     },
     "metadata": {},
     "output_type": "display_data"
    }
   ],
   "source": [
    "pyplot.figure(figsize=(8,8))\n",
    "pyplot.grid(True)\n",
    "pyplot.xlabel(r'$\\Delta t$', fontsize=18)\n",
    "pyplot.ylabel(r'$L_2$-norm of the error', fontsize=18)\n",
    "pyplot.axis('equal')\n",
    "pyplot.loglog(dt_values, error, color='k', ls='--', lw=2, marker='o')\n",
    "pyplot.loglog(dt_values, error_btcs, color='k', ls='--', lw=2, marker='s')\n",
    "pyplot.legend(['Crank-Nicolson', 'BTCS']);"
   ]
  },
  {
   "cell_type": "code",
   "execution_count": 19,
   "metadata": {
    "collapsed": true
   },
   "outputs": [],
   "source": [
    "nx_values = numpy.asarray([11, 21, 41, 81, 161])\n",
    "\n",
    "dt = 0.1\n",
    "error = numpy.zeros(len(nx_values))\n",
    "\n",
    "t_final = 20\n",
    "\n",
    "x = numpy.linspace(0,L,nx)\n",
    "\n",
    "for i,nx in enumerate(nx_values):\n",
    "    \n",
    "    dx = L/(nx-1)\n",
    "    x = numpy.linspace(0,L,nx)\n",
    "   \n",
    "    sigma = alpha*dt/dx**2\n",
    "\n",
    "    nt = int(t_final/dt)\n",
    "    \n",
    "    A = generateMatrix(nx, sigma)\n",
    "\n",
    "    Ti = numpy.zeros(nx)\n",
    "    Ti[0] = 100\n",
    "      \n",
    "    T = CrankNicolson(Ti.copy(), A, nt, sigma)\n",
    "    \n",
    "    T_exact = T_analytical(x, t_final, 100, alpha, L)\n",
    "    \n",
    "    error[i] = L2_error(T,T_exact)"
   ]
  },
  {
   "cell_type": "code",
   "execution_count": 20,
   "metadata": {
    "collapsed": false
   },
   "outputs": [
    {
     "data": {
      "image/png": "[encoded data removed]",
      "text/plain": [
       "<matplotlib.figure.Figure at 0x7f41f8400d30>"
      ]
     },
     "metadata": {},
     "output_type": "display_data"
    }
   ],
   "source": [
    "pyplot.figure(figsize=(8,8))\n",
    "pyplot.grid(True)\n",
    "pyplot.xlabel(r'$n_x$', fontsize=18)\n",
    "pyplot.ylabel(r'$L_2$-norm of the error', fontsize=18)\n",
    "pyplot.axis('equal')\n",
    "pyplot.loglog(nx_values, error, color='k', ls='--', lw=2, marker='o');"
   ]
  },
  {
   "cell_type": "code",
   "execution_count": 21,
   "metadata": {
    "collapsed": true
   },
   "outputs": [],
   "source": [
    "nx_values = numpy.asarray([11, 21, 41, 81, 161])\n",
    "\n",
    "dt = 0.1\n",
    "error = numpy.zeros(len(nx_values))\n",
    "\n",
    "t_final = 1000\n",
    "\n",
    "x = numpy.linspace(0,L,nx)\n",
    "\n",
    "for i,nx in enumerate(nx_values):\n",
    "    \n",
    "    dx = L/(nx-1)\n",
    "    x = numpy.linspace(0,L,nx)\n",
    "   \n",
    "    sigma = alpha*dt/dx**2\n",
    "\n",
    "    nt = int(t_final/dt)\n",
    "    \n",
    "    A = generateMatrix(nx, sigma)\n",
    "\n",
    "    Ti = numpy.zeros(nx)\n",
    "    Ti[0] = 100\n",
    "      \n",
    "    T = CrankNicolson(Ti.copy(), A, nt, sigma)\n",
    "    \n",
    "    T_exact = T_analytical(x, t_final, 100, alpha, L)\n",
    "    \n",
    "    error[i] = L2_error(T,T_exact)"
   ]
  },
  {
   "cell_type": "code",
   "execution_count": 22,
   "metadata": {
    "collapsed": false
   },
   "outputs": [
    {
     "data": {
      "image/png": "[encoded data removed]",
      "text/plain": [
       "<matplotlib.figure.Figure at 0x7f41f9af2208>"
      ]
     },
     "metadata": {},
     "output_type": "display_data"
    }
   ],
   "source": [
    "pyplot.figure(figsize=(8,8))\n",
    "pyplot.grid(True)\n",
    "pyplot.xlabel(r'$n_x$', fontsize=18)\n",
    "pyplot.ylabel(r'$L_2$-norm of the error', fontsize=18)\n",
    "pyplot.xlim(1, 1000)\n",
    "pyplot.ylim(1e-5, 1e-2)\n",
    "pyplot.loglog(nx_values, error, color='k', ls='--', lw=2, marker='o');"
   ]
  },
  {
   "cell_type": "code",
   "execution_count": 23,
   "metadata": {
    "collapsed": false
   },
   "outputs": [
    {
     "data": {
      "text/plain": [
       "array([  3.59569224e-03,   1.34923182e-03,   4.90905474e-04,\n",
       "         1.76021088e-04,   6.26681531e-05])"
      ]
     },
     "execution_count": 23,
     "metadata": {},
     "output_type": "execute_result"
    }
   ],
   "source": [
    "error"
   ]
  },
  {
   "cell_type": "code",
   "execution_count": null,
   "metadata": {
    "collapsed": true
   },
   "outputs": [],
   "source": []
  }
 ],
 "metadata": {
  "anaconda-cloud": {},
  "kernelspec": {
   "display_name": "Python [default]",
   "language": "python",
   "name": "python3"
  },
  "language_info": {
   "codemirror_mode": {
    "name": "ipython",
    "version": 3
   },
   "file_extension": ".py",
   "mimetype": "text/x-python",
   "name": "python",
   "nbconvert_exporter": "python",
   "pygments_lexer": "ipython3",
   "version": "3.5.2"
  }
 },
 "nbformat": 4,
 "nbformat_minor": 1
}
