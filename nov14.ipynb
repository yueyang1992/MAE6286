{
 "cells": [
  {
   "cell_type": "code",
   "execution_count": 1,
   "metadata": {
    "collapsed": true
   },
   "outputs": [],
   "source": [
    "import numpy\n",
    "from scipy.linalg import solve"
   ]
  },
  {
   "cell_type": "code",
   "execution_count": 2,
   "metadata": {
    "collapsed": true
   },
   "outputs": [],
   "source": [
    "def constructMatrix(nx, ny, sigma):\n",
    "    \"\"\" Generate implicit matrix for 2D heat equation with Dirichlet in bottom and right and Neumann in top and left\n",
    "        Assumes dx = dy\n",
    "    \n",
    "    Parameters:\n",
    "    ----------\n",
    "    nx   : int\n",
    "        number of discretization points in x\n",
    "    ny   : int\n",
    "        number of discretization points in y\n",
    "    sigma: float\n",
    "        alpha*dt/dx\n",
    "        \n",
    "    Returns:\n",
    "    -------\n",
    "    A: 2D array of floats\n",
    "        Matrix of implicit 2D heat equation\n",
    "    \"\"\"\n",
    "    \n",
    "    A = numpy.zeros(((nx-2)*(ny-2),(nx-2)*(ny-2)))\n",
    "    \n",
    "    row_number = 0 # row counter\n",
    "    for j in range(1,ny-1):\n",
    "        for i in range(1,nx-1):\n",
    "            \n",
    "            # Corners\n",
    "            if i==1 and j==1: # Bottom left corner (Dirichlet down and left)\n",
    "                A[row_number,row_number] = 1/sigma+4 # Set diagonal\n",
    "                A[row_number,row_number+1] = -1      # fetch i+1\n",
    "                A[row_number,row_number+nx-2] = -1   # fetch j+1\n",
    "                \n",
    "            elif i==nx-2 and j==1: # Bottom right corner (Dirichlet down, Neumann right)\n",
    "                A[row_number,row_number] = 1/sigma+3 # Set diagonal\n",
    "                A[row_number,row_number-1] = -1      # Fetch i-1\n",
    "                A[row_number,row_number+nx-2] = -1   # fetch j+1\n",
    "                \n",
    "            elif i==1 and j==ny-2: # Top left corner (Neumann up, Dirichlet left)\n",
    "                A[row_number,row_number] = 1/sigma+3   # Set diagonal\n",
    "                A[row_number,row_number+1] = -1        # fetch i+1\n",
    "                A[row_number,row_number-(nx-2)] = -1   # fetch j-1\n",
    "                \n",
    "            elif i==nx-2 and j==ny-2: # Top right corner (Neumann up and right)\n",
    "                A[row_number,row_number] = 1/sigma+2   # Set diagonal\n",
    "                A[row_number,row_number-1] = -1        # Fetch i-1\n",
    "                A[row_number,row_number-(nx-2)] = -1   # fetch j-1\n",
    "              \n",
    "            # Sides\n",
    "            elif i==1: # Left boundary (Dirichlet)\n",
    "                A[row_number,row_number] = 1/sigma+4 # Set diagonal\n",
    "                A[row_number,row_number+1] = -1      # fetch i+1\n",
    "                A[row_number,row_number+nx-2] = -1   # fetch j+1\n",
    "                A[row_number,row_number-(nx-2)] = -1 # fetch j-1\n",
    "            \n",
    "            elif i==nx-2: # Right boundary (Neumann)\n",
    "                A[row_number,row_number] = 1/sigma+3 # Set diagonal\n",
    "                A[row_number,row_number-1] = -1      # Fetch i-1\n",
    "                A[row_number,row_number+nx-2] = -1   # fetch j+1\n",
    "                A[row_number,row_number-(nx-2)] = -1 # fetch j-1\n",
    "                \n",
    "            elif j==1: # Bottom boundary (Dirichlet)\n",
    "                A[row_number,row_number] = 1/sigma+4 # Set diagonal\n",
    "                A[row_number,row_number+1] = -1      # fetch i+1\n",
    "                A[row_number,row_number-1] = -1      # fetch i-1\n",
    "                A[row_number,row_number+nx-2] = -1   # fetch j+1\n",
    "                \n",
    "            elif j==ny-2: # Top boundary (Neumann)\n",
    "                A[row_number,row_number] = 1/sigma+3 # Set diagonal\n",
    "                A[row_number,row_number+1] = -1      # fetch i+1\n",
    "                A[row_number,row_number-1] = -1      # fetch i-1\n",
    "                A[row_number,row_number-(nx-2)] = -1 # fetch j-1\n",
    "                \n",
    "            # Interior points\n",
    "            else:\n",
    "                A[row_number,row_number] = 1/sigma+4 # Set diagonal\n",
    "                A[row_number,row_number+1] = -1      # fetch i+1\n",
    "                A[row_number,row_number-1] = -1      # fetch i-1\n",
    "                A[row_number,row_number+nx-2] = -1   # fetch j+1\n",
    "                A[row_number,row_number-(nx-2)] = -1 # fetch j-1\n",
    "                \n",
    "            row_number += 1 # Jump to next row of the matrix!\n",
    "    \n",
    "    return A"
   ]
  },
  {
   "cell_type": "code",
   "execution_count": 3,
   "metadata": {
    "collapsed": true
   },
   "outputs": [],
   "source": [
    "def generateRHS(nx, ny, sigma, T, T_bc):\n",
    "    \"\"\" Generates right-hand side for 2D implicit heat equation with Dirichlet in bottom and left and Neumann in top and right\n",
    "        Assumes dx=dy, Neumann BCs = 0, and constant Dirichlet BCs\n",
    "        \n",
    "        Paramenters:\n",
    "        -----------\n",
    "        nx   : int\n",
    "            number of discretization points in x\n",
    "        ny   : int\n",
    "            number of discretization points in y\n",
    "        sigma: float\n",
    "            alpha*dt/dx\n",
    "        T    : array of float\n",
    "            Temperature in current time step\n",
    "        T_bc : float\n",
    "            Temperature in Dirichlet BC\n",
    "        \n",
    "        Returns:\n",
    "        -------\n",
    "        RHS  : array of float\n",
    "            Right hand side of 2D implicit heat equation\n",
    "    \"\"\"\n",
    "    RHS = numpy.zeros((nx-2)*(ny-2))\n",
    "    \n",
    "    row_number = 0 # row counter\n",
    "    for j in range(1,ny-1):\n",
    "        for i in range(1,nx-1):\n",
    "            \n",
    "            # Corners\n",
    "            if i==1 and j==1: # Bottom left corner (Dirichlet down and left)\n",
    "                RHS[row_number] = T[j,i]*1/sigma + 2*T_bc\n",
    "                \n",
    "            elif i==nx-2 and j==1: # Bottom right corner (Dirichlet down, Neumann right)\n",
    "                RHS[row_number] = T[j,i]*1/sigma + T_bc\n",
    "                           \n",
    "            elif i==1 and j==ny-2: # Top left corner (Neumann up, Dirichlet left)\n",
    "                RHS[row_number] = T[j,i]*1/sigma + T_bc\n",
    "                \n",
    "            elif i==nx-2 and j==ny-2: # Top right corner (Neumann up and right)\n",
    "                RHS[row_number] = T[j,i]*1/sigma \n",
    "              \n",
    "            # Sides\n",
    "            elif i==1: # Left boundary (Dirichlet)\n",
    "                RHS[row_number] = T[j,i]*1/sigma + T_bc\n",
    "            \n",
    "            elif i==nx-2: # Right boundary (Neumann)\n",
    "                RHS[row_number] = T[j,i]*1/sigma \n",
    "                \n",
    "            elif j==1: # Bottom boundary (Dirichlet)\n",
    "                RHS[row_number] = T[j,i]*1/sigma + T_bc\n",
    "                \n",
    "            elif j==ny-2: # Top boundary (Neumann)\n",
    "                RHS[row_number] = T[j,i]*1/sigma\n",
    "                \n",
    "            # Interior points\n",
    "            else:\n",
    "                RHS[row_number] = T[j,i]*1/sigma \n",
    "                \n",
    "            row_number += 1 # Jump to next row!\n",
    "    \n",
    "    return RHS"
   ]
  },
  {
   "cell_type": "code",
   "execution_count": 4,
   "metadata": {
    "collapsed": true
   },
   "outputs": [],
   "source": [
    "def map_1Dto2D(nx, ny, T_1D, T_bc):\n",
    "    \"\"\" Takes temperatures of solution of linear system, stored in 1D, \n",
    "    and puts them in a 2D array with the BCs\n",
    "    Valid for constant Dirichlet bottom and left, and Neumann with zero \n",
    "    flux top and right\n",
    "        \n",
    "    Parameters:\n",
    "    ----------\n",
    "        nx  : int\n",
    "            number of nodes in x direction\n",
    "        ny  : int\n",
    "            number of nodes in y direction\n",
    "        T_1D: array of floats\n",
    "            solution of linear system\n",
    "        T_bc: float\n",
    "            Dirichlet BC\n",
    "            \n",
    "    Returns:\n",
    "    -------\n",
    "        T: 2D array of float\n",
    "            Temperature stored in 2D array with BCs\n",
    "    \"\"\"\n",
    "    T = numpy.zeros((ny,nx))\n",
    "    \n",
    "    row_number = 0\n",
    "    for j in range(1,ny-1):\n",
    "        for i in range(1,nx-1):\n",
    "            T[j,i] = T_1D[row_number]\n",
    "            row_number += 1\n",
    "    # Dirichlet BC\n",
    "    T[0,:] = T_bc\n",
    "    T[:,0] = T_bc\n",
    "    #Neumann BC\n",
    "    T[-1,:] = T[-2,:]\n",
    "    T[:,-1] = T[:,-2]\n",
    "    \n",
    "    return T    "
   ]
  },
  {
   "cell_type": "code",
   "execution_count": 5,
   "metadata": {
    "collapsed": true
   },
   "outputs": [],
   "source": [
    "def btcs_2D(T, A, nt, sigma, T_bc, nx, ny, dt):\n",
    "    \"\"\" Advances diffusion equation in time with backward Euler\n",
    "   \n",
    "    Parameters:\n",
    "    ----------\n",
    "    T: 2D array of float\n",
    "        initial temperature profile\n",
    "    A: 2D array of float\n",
    "        Matrix with discretized diffusion equation\n",
    "    nt: int\n",
    "        number of time steps\n",
    "    sigma: float\n",
    "        alpha*dt/dx^2\n",
    "    T_bc : float \n",
    "        Dirichlet BC temperature\n",
    "    nx   : int\n",
    "        Discretization points in x\n",
    "    ny   : int\n",
    "        Discretization points in y\n",
    "    dt   : float\n",
    "        Time step size\n",
    "        \n",
    "    Returns:\n",
    "    -------\n",
    "    T: 2D array of floats\n",
    "        temperature profile after nt time steps\n",
    "    \"\"\"\n",
    "    \n",
    "    j_mid = int((numpy.shape(T)[0])/2)\n",
    "    i_mid = int((numpy.shape(T)[1])/2)\n",
    "    \n",
    "    for t in range(nt):\n",
    "        Tn = T.copy()\n",
    "        b = generateRHS(nx, ny, sigma, Tn, T_bc)\n",
    "        # Use numpy.linalg.solve\n",
    "        T_interior = solve(A,b)\n",
    "        T = map_1Dto2D(nx, ny, T_interior, T_bc)\n",
    "        \n",
    "        # Check if we reached T=70C\n",
    "        if T[j_mid, i_mid] >= 70:\n",
    "            print (\"Center of plate reached 70C at time {0:.2f}s, in time step {1:d}.\".format(dt*t, t))\n",
    "            break\n",
    "        \n",
    "    if T[j_mid, i_mid]<70:\n",
    "        print (\"Center has not reached 70C yet, it is only {0:.2f}C.\".format(T[j_mid, i_mid]))\n",
    "        \n",
    "    return T"
   ]
  },
  {
   "cell_type": "code",
   "execution_count": 6,
   "metadata": {
    "collapsed": true
   },
   "outputs": [],
   "source": [
    "alpha = 1e-4\n",
    "\n",
    "L = 1.0e-2\n",
    "H = 1.0e-2\n",
    "\n",
    "nx = 21\n",
    "ny = 21\n",
    "nt = 300\n",
    "\n",
    "dx = L/(nx-1)\n",
    "dy = H/(ny-1)\n",
    "\n",
    "x = numpy.linspace(0,L,nx)\n",
    "y = numpy.linspace(0,H,ny)\n",
    "\n",
    "T_bc = 100\n",
    "\n",
    "Ti = numpy.ones((ny, nx))*20\n",
    "Ti[0,:]= T_bc\n",
    "Ti[:,0] = T_bc"
   ]
  },
  {
   "cell_type": "code",
   "execution_count": 7,
   "metadata": {
    "collapsed": true
   },
   "outputs": [],
   "source": [
    "sigma = 0.25\n",
    "A = constructMatrix(nx, ny, sigma)"
   ]
  },
  {
   "cell_type": "code",
   "execution_count": 8,
   "metadata": {
    "collapsed": false
   },
   "outputs": [
    {
     "name": "stdout",
     "output_type": "stream",
     "text": [
      "Center of plate reached 70C at time 0.16s, in time step 256.\n"
     ]
    }
   ],
   "source": [
    "dt = sigma * min(dx, dy)**2 / alpha\n",
    "T = btcs_2D(Ti.copy(), A, nt, sigma, T_bc, nx, ny, dt)"
   ]
  },
  {
   "cell_type": "code",
   "execution_count": 9,
   "metadata": {
    "collapsed": true
   },
   "outputs": [],
   "source": [
    "from matplotlib import pyplot\n",
    "%matplotlib inline\n",
    "from matplotlib import rcParams, cm\n",
    "rcParams['font.family'] = 'serif'\n",
    "rcParams['font.size'] = 16"
   ]
  },
  {
   "cell_type": "code",
   "execution_count": 10,
   "metadata": {
    "collapsed": false
   },
   "outputs": [
    {
     "data": {
      "image/png": "[encoded data removed]",
      "text/plain": [
       "<matplotlib.figure.Figure at 0x7f79e843bef0>"
      ]
     },
     "metadata": {},
     "output_type": "display_data"
    }
   ],
   "source": [
    "pyplot.figure(figsize=(7,7))\n",
    "pyplot.contourf(x,y,T,20, cmap=cm.viridis);"
   ]
  },
  {
   "cell_type": "code",
   "execution_count": null,
   "metadata": {
    "collapsed": true
   },
   "outputs": [],
   "source": []
  }
 ],
 "metadata": {
  "kernelspec": {
   "display_name": "Python [default]",
   "language": "python",
   "name": "python3"
  },
  "language_info": {
   "codemirror_mode": {
    "name": "ipython",
    "version": 3
   },
   "file_extension": ".py",
   "mimetype": "text/x-python",
   "name": "python",
   "nbconvert_exporter": "python",
   "pygments_lexer": "ipython3",
   "version": "3.5.2"
  }
 },
 "nbformat": 4,
 "nbformat_minor": 1
}
