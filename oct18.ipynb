{
 "cells": [
  {
   "cell_type": "code",
   "execution_count": 1,
   "metadata": {
    "collapsed": true
   },
   "outputs": [],
   "source": [
    "import sympy\n",
    "sympy.init_printing()\n",
    "\n",
    "(u_max, u_star, rho_max, \n",
    " rho_star, A, B) = sympy.symbols('u_max u_star rho_max rho_star A B')"
   ]
  },
  {
   "cell_type": "code",
   "execution_count": 2,
   "metadata": {
    "collapsed": true
   },
   "outputs": [],
   "source": [
    "eq1 = sympy.Eq( 0, u_max*rho_max*(1 - A*rho_max-B*rho_max**2) )\n",
    "eq2 = sympy.Eq( 0, u_max*(1 - 2*A*rho_star-3*B*rho_star**2) )\n",
    "eq3 = sympy.Eq( u_star, u_max*(1 - A*rho_star - B*rho_star**2) )"
   ]
  },
  {
   "cell_type": "code",
   "execution_count": 3,
   "metadata": {
    "collapsed": false
   },
   "outputs": [
    {
     "data": {
      "image/png": "[encoded data removed]",
      "text/latex": [
       "$$0 = \\rho_{max} u_{max} \\left(- A \\rho_{max} - B \\rho_{max}^{2} + 1\\right)$$"
      ],
      "text/plain": [
       "              ⎛                2    ⎞\n",
       "0 = ρₘₐₓ⋅uₘₐₓ⋅⎝-A⋅ρₘₐₓ - B⋅ρₘₐₓ  + 1⎠"
      ]
     },
     "execution_count": 3,
     "metadata": {},
     "output_type": "execute_result"
    }
   ],
   "source": [
    "eq1"
   ]
  },
  {
   "cell_type": "code",
   "execution_count": 4,
   "metadata": {
    "collapsed": false
   },
   "outputs": [
    {
     "data": {
      "image/png": "[encoded data removed]",
      "text/latex": [
       "$$0 = u_{max} \\left(- 2 A \\rho_{star} - 3 B \\rho_{star}^{2} + 1\\right)$$"
      ],
      "text/plain": [
       "         ⎛                      2    ⎞\n",
       "0 = uₘₐₓ⋅⎝-2⋅A⋅ρₛₜₐᵣ - 3⋅B⋅ρₛₜₐᵣ  + 1⎠"
      ]
     },
     "execution_count": 4,
     "metadata": {},
     "output_type": "execute_result"
    }
   ],
   "source": [
    "eq2"
   ]
  },
  {
   "cell_type": "code",
   "execution_count": 5,
   "metadata": {
    "collapsed": false
   },
   "outputs": [
    {
     "data": {
      "image/png": "[encoded data removed]",
      "text/latex": [
       "$$u_{star} = u_{max} \\left(- A \\rho_{star} - B \\rho_{star}^{2} + 1\\right)$$"
      ],
      "text/plain": [
       "             ⎛                  2    ⎞\n",
       "uₛₜₐᵣ = uₘₐₓ⋅⎝-A⋅ρₛₜₐᵣ - B⋅ρₛₜₐᵣ  + 1⎠"
      ]
     },
     "execution_count": 5,
     "metadata": {},
     "output_type": "execute_result"
    }
   ],
   "source": [
    "eq3"
   ]
  },
  {
   "cell_type": "code",
   "execution_count": 6,
   "metadata": {
    "collapsed": false
   },
   "outputs": [
    {
     "data": {
      "image/png": "[encoded data removed]",
      "text/latex": [
       "$$\\left(0 = u_{max} \\left(- 2 A \\rho_{star} - 3 B \\rho_{star}^{2} + 1\\right)\\right) - 3 \\left(u_{star} = u_{max} \\left(- A \\rho_{star} - B \\rho_{star}^{2} + 1\\right)\\right)$$"
      ],
      "text/plain": [
       "⎛         ⎛                      2    ⎞⎞     ⎛             ⎛                  \n",
       "⎝0 = uₘₐₓ⋅⎝-2⋅A⋅ρₛₜₐᵣ - 3⋅B⋅ρₛₜₐᵣ  + 1⎠⎠ - 3⋅⎝uₛₜₐᵣ = uₘₐₓ⋅⎝-A⋅ρₛₜₐᵣ - B⋅ρₛₜₐᵣ\n",
       "\n",
       "2    ⎞⎞\n",
       "  + 1⎠⎠"
      ]
     },
     "execution_count": 6,
     "metadata": {},
     "output_type": "execute_result"
    }
   ],
   "source": [
    "eq2 - 3*eq3"
   ]
  },
  {
   "cell_type": "code",
   "execution_count": 7,
   "metadata": {
    "collapsed": false
   },
   "outputs": [
    {
     "data": {
      "image/png": "[encoded data removed]",
      "text/latex": [
       "$$- 3 u_{star} = u_{max} \\left(- 2 A \\rho_{star} - 3 B \\rho_{star}^{2} + 1\\right) - 3 u_{max} \\left(- A \\rho_{star} - B \\rho_{star}^{2} + 1\\right)$$"
      ],
      "text/plain": [
       "                ⎛                      2    ⎞          ⎛                  2   \n",
       "-3⋅uₛₜₐᵣ = uₘₐₓ⋅⎝-2⋅A⋅ρₛₜₐᵣ - 3⋅B⋅ρₛₜₐᵣ  + 1⎠ - 3⋅uₘₐₓ⋅⎝-A⋅ρₛₜₐᵣ - B⋅ρₛₜₐᵣ  + \n",
       "\n",
       " ⎞\n",
       "1⎠"
      ]
     },
     "execution_count": 7,
     "metadata": {},
     "output_type": "execute_result"
    }
   ],
   "source": [
    "eq4 = sympy.Eq(eq2.lhs - 3*eq3.lhs, eq2.rhs - 3*eq3.rhs)\n",
    "eq4"
   ]
  },
  {
   "cell_type": "code",
   "execution_count": 8,
   "metadata": {
    "collapsed": false
   },
   "outputs": [
    {
     "data": {
      "image/png": "[encoded data removed]",
      "text/latex": [
       "$$3 u_{star} = - u_{max} \\left(A \\rho_{star} - 2\\right)$$"
      ],
      "text/plain": [
       "3⋅uₛₜₐᵣ = -uₘₐₓ⋅(A⋅ρₛₜₐᵣ - 2)"
      ]
     },
     "execution_count": 8,
     "metadata": {},
     "output_type": "execute_result"
    }
   ],
   "source": [
    "eq4.simplify()"
   ]
  },
  {
   "cell_type": "code",
   "execution_count": 9,
   "metadata": {
    "collapsed": false
   },
   "outputs": [
    {
     "data": {
      "image/png": "[encoded data removed]",
      "text/latex": [
       "$$- 3 u_{star} = u_{max} \\left(- 2 A \\rho_{star} - 3 B \\rho_{star}^{2} + 1\\right) - 3 u_{max} \\left(- A \\rho_{star} - B \\rho_{star}^{2} + 1\\right)$$"
      ],
      "text/plain": [
       "                ⎛                      2    ⎞          ⎛                  2   \n",
       "-3⋅uₛₜₐᵣ = uₘₐₓ⋅⎝-2⋅A⋅ρₛₜₐᵣ - 3⋅B⋅ρₛₜₐᵣ  + 1⎠ - 3⋅uₘₐₓ⋅⎝-A⋅ρₛₜₐᵣ - B⋅ρₛₜₐᵣ  + \n",
       "\n",
       " ⎞\n",
       "1⎠"
      ]
     },
     "execution_count": 9,
     "metadata": {},
     "output_type": "execute_result"
    }
   ],
   "source": [
    "eq4"
   ]
  },
  {
   "cell_type": "code",
   "execution_count": 10,
   "metadata": {
    "collapsed": false
   },
   "outputs": [
    {
     "data": {
      "image/png": "[encoded data removed]",
      "text/latex": [
       "$$- 3 u_{star} = A \\rho_{star} u_{max} - 2 u_{max}$$"
      ],
      "text/plain": [
       "-3⋅uₛₜₐᵣ = A⋅ρₛₜₐᵣ⋅uₘₐₓ - 2⋅uₘₐₓ"
      ]
     },
     "execution_count": 10,
     "metadata": {},
     "output_type": "execute_result"
    }
   ],
   "source": [
    "eq4.expand()"
   ]
  },
  {
   "cell_type": "code",
   "execution_count": 11,
   "metadata": {
    "collapsed": false
   },
   "outputs": [
    {
     "data": {
      "image/png": "[encoded data removed]",
      "text/latex": [
       "$$\\frac{1}{A u_{max}} \\left(2 u_{max} - 3 u_{star}\\right)$$"
      ],
      "text/plain": [
       "2⋅uₘₐₓ - 3⋅uₛₜₐᵣ\n",
       "────────────────\n",
       "     A⋅uₘₐₓ     "
      ]
     },
     "execution_count": 11,
     "metadata": {},
     "output_type": "execute_result"
    }
   ],
   "source": [
    "rho_sol = sympy.solve(eq4,rho_star)[0]\n",
    "rho_sol"
   ]
  },
  {
   "cell_type": "code",
   "execution_count": 12,
   "metadata": {
    "collapsed": false
   },
   "outputs": [
    {
     "data": {
      "image/png": "[encoded data removed]",
      "text/latex": [
       "$$\\frac{1}{\\rho_{max}^{2}} \\left(- A \\rho_{max} + 1\\right)$$"
      ],
      "text/plain": [
       "-A⋅ρₘₐₓ + 1\n",
       "───────────\n",
       "       2   \n",
       "   ρₘₐₓ    "
      ]
     },
     "execution_count": 12,
     "metadata": {},
     "output_type": "execute_result"
    }
   ],
   "source": [
    "B_sol = sympy.solve(eq1,B)[0]\n",
    "B_sol"
   ]
  },
  {
   "cell_type": "code",
   "execution_count": 13,
   "metadata": {
    "collapsed": false
   },
   "outputs": [
    {
     "data": {
      "image/png": "[encoded data removed]",
      "text/latex": [
       "$$0 = u_{max} \\left(1 - \\frac{1}{u_{max}} \\left(4 u_{max} - 6 u_{star}\\right) - \\frac{3 \\left(2 u_{max} - 3 u_{star}\\right)^{2}}{A^{2} \\rho_{max}^{2} u_{max}^{2}} \\left(- A \\rho_{max} + 1\\right)\\right)$$"
      ],
      "text/plain": [
       "         ⎛                                               2              ⎞\n",
       "         ⎜    2⋅(2⋅uₘₐₓ - 3⋅uₛₜₐᵣ)   3⋅(2⋅uₘₐₓ - 3⋅uₛₜₐᵣ) ⋅(-A⋅ρₘₐₓ + 1)⎟\n",
       "0 = uₘₐₓ⋅⎜1 - ──────────────────── - ───────────────────────────────────⎟\n",
       "         ⎜            uₘₐₓ                       2     2     2          ⎟\n",
       "         ⎝                                      A ⋅ρₘₐₓ ⋅uₘₐₓ           ⎠"
      ]
     },
     "execution_count": 13,
     "metadata": {},
     "output_type": "execute_result"
    }
   ],
   "source": [
    "quadA = eq2.subs([(rho_star, rho_sol), (B,B_sol)])\n",
    "quadA"
   ]
  },
  {
   "cell_type": "code",
   "execution_count": 14,
   "metadata": {
    "collapsed": false
   },
   "outputs": [
    {
     "data": {
      "image/png": "[encoded data removed]",
      "text/latex": [
       "$$- 3 u_{max} + 6 u_{star} + \\frac{3 \\left(2 u_{max} - 3 u_{star}\\right)^{2}}{A \\rho_{max} u_{max}} - \\frac{3 \\left(2 u_{max} - 3 u_{star}\\right)^{2}}{A^{2} \\rho_{max}^{2} u_{max}} = 0$$"
      ],
      "text/plain": [
       "                                        2                       2    \n",
       "                    3⋅(2⋅uₘₐₓ - 3⋅uₛₜₐᵣ)    3⋅(2⋅uₘₐₓ - 3⋅uₛₜₐᵣ)     \n",
       "-3⋅uₘₐₓ + 6⋅uₛₜₐᵣ + ───────────────────── - ───────────────────── = 0\n",
       "                         A⋅ρₘₐₓ⋅uₘₐₓ             2     2             \n",
       "                                                A ⋅ρₘₐₓ ⋅uₘₐₓ        "
      ]
     },
     "execution_count": 14,
     "metadata": {},
     "output_type": "execute_result"
    }
   ],
   "source": [
    "quadA.simplify()"
   ]
  },
  {
   "cell_type": "code",
   "execution_count": 15,
   "metadata": {
    "collapsed": true
   },
   "outputs": [],
   "source": [
    "A_sol = sympy.solve(quadA, A)"
   ]
  },
  {
   "cell_type": "code",
   "execution_count": 16,
   "metadata": {
    "collapsed": false
   },
   "outputs": [
    {
     "data": {
      "image/png": "[encoded data removed]",
      "text/latex": [
       "$$\\frac{1}{2 \\rho_{max} u_{max} \\left(u_{max} - 2 u_{star}\\right)} \\left(\\sqrt{- u_{star} \\left(4 u_{max} - 9 u_{star}\\right)} \\left(- 2 u_{max} + 3 u_{star}\\right) + \\left(2 u_{max} - 3 u_{star}\\right)^{2}\\right)$$"
      ],
      "text/plain": [
       "  ___________________________                                         2\n",
       "╲╱ -uₛₜₐᵣ⋅(4⋅uₘₐₓ - 9⋅uₛₜₐᵣ) ⋅(-2⋅uₘₐₓ + 3⋅uₛₜₐᵣ) + (2⋅uₘₐₓ - 3⋅uₛₜₐᵣ) \n",
       "───────────────────────────────────────────────────────────────────────\n",
       "                      2⋅ρₘₐₓ⋅uₘₐₓ⋅(uₘₐₓ - 2⋅uₛₜₐᵣ)                     "
      ]
     },
     "execution_count": 16,
     "metadata": {},
     "output_type": "execute_result"
    }
   ],
   "source": [
    "A_sol[0]"
   ]
  },
  {
   "cell_type": "code",
   "execution_count": 17,
   "metadata": {
    "collapsed": false
   },
   "outputs": [
    {
     "data": {
      "image/png": "[encoded data removed]",
      "text/latex": [
       "$$\\frac{1}{2 \\rho_{max} u_{max} \\left(u_{max} - 2 u_{star}\\right)} \\left(2 u_{max} - 3 u_{star}\\right) \\left(2 u_{max} - 3 u_{star} + \\sqrt{- u_{star} \\left(4 u_{max} - 9 u_{star}\\right)}\\right)$$"
      ],
      "text/plain": [
       "                   ⎛                     ___________________________⎞\n",
       "(2⋅uₘₐₓ - 3⋅uₛₜₐᵣ)⋅⎝2⋅uₘₐₓ - 3⋅uₛₜₐᵣ + ╲╱ -uₛₜₐᵣ⋅(4⋅uₘₐₓ - 9⋅uₛₜₐᵣ) ⎠\n",
       "─────────────────────────────────────────────────────────────────────\n",
       "                     2⋅ρₘₐₓ⋅uₘₐₓ⋅(uₘₐₓ - 2⋅uₛₜₐᵣ)                    "
      ]
     },
     "execution_count": 17,
     "metadata": {},
     "output_type": "execute_result"
    }
   ],
   "source": [
    "A_sol[1]"
   ]
  },
  {
   "cell_type": "code",
   "execution_count": 18,
   "metadata": {
    "collapsed": false
   },
   "outputs": [
    {
     "data": {
      "image/png": "[encoded data removed]",
      "text/latex": [
       "$$-0.0281023443605751$$"
      ],
      "text/plain": [
       "-0.0281023443605751"
      ]
     },
     "execution_count": 18,
     "metadata": {},
     "output_type": "execute_result"
    }
   ],
   "source": [
    "aval = A_sol[0].evalf(subs={u_star: 1.5, u_max:2.0, rho_max:15.0} )\n",
    "aval"
   ]
  },
  {
   "cell_type": "code",
   "execution_count": 19,
   "metadata": {
    "collapsed": false
   },
   "outputs": [
    {
     "data": {
      "image/png": "[encoded data removed]",
      "text/latex": [
       "$$0.0197690110272418$$"
      ],
      "text/plain": [
       "0.0197690110272418"
      ]
     },
     "execution_count": 19,
     "metadata": {},
     "output_type": "execute_result"
    }
   ],
   "source": [
    "ava2 = A_sol[1].evalf(subs={u_star: 1.5, u_max:2.0, rho_max:15.0} )\n",
    "ava2"
   ]
  },
  {
   "cell_type": "code",
   "execution_count": 20,
   "metadata": {
    "collapsed": false
   },
   "outputs": [
    {
     "data": {
      "image/png": "[encoded data removed]",
      "text/latex": [
       "$$0.00312651037596166$$"
      ],
      "text/plain": [
       "0.00312651037596166"
      ]
     },
     "execution_count": 20,
     "metadata": {},
     "output_type": "execute_result"
    }
   ],
   "source": [
    "bval = B_sol.evalf(subs={rho_max:15.0, A:ava2} )\n",
    "bval"
   ]
  },
  {
   "cell_type": "code",
   "execution_count": 21,
   "metadata": {
    "collapsed": true
   },
   "outputs": [],
   "source": [
    "sympy.init_printing(use_latex=False)"
   ]
  },
  {
   "cell_type": "code",
   "execution_count": 22,
   "metadata": {
    "collapsed": false
   },
   "outputs": [
    {
     "name": "stdout",
     "output_type": "stream",
     "text": [
      "<class 'sympy.core.symbol.Symbol'> <class 'sympy.core.symbol.Symbol'>\n"
     ]
    }
   ],
   "source": [
    "print(type(rho_max), type(u_max))"
   ]
  },
  {
   "cell_type": "code",
   "execution_count": 23,
   "metadata": {
    "collapsed": true
   },
   "outputs": [],
   "source": [
    "rho_max = 15.\n",
    "u_max = 2.0"
   ]
  },
  {
   "cell_type": "code",
   "execution_count": 24,
   "metadata": {
    "collapsed": true
   },
   "outputs": [],
   "source": [
    "def computeF(u_max, rho, ava2, bval):\n",
    "    return u_max*rho*(1 - ava2*rho-bval*rho**2)"
   ]
  },
  {
   "cell_type": "code",
   "execution_count": 25,
   "metadata": {
    "collapsed": true
   },
   "outputs": [],
   "source": [
    "import numpy\n",
    "from matplotlib import pyplot\n",
    "%matplotlib inline\n",
    "from matplotlib import rcParams\n",
    "rcParams['font.family'] = 'serif'\n",
    "rcParams['font.size'] = 16"
   ]
  },
  {
   "cell_type": "code",
   "execution_count": 26,
   "metadata": {
    "collapsed": true
   },
   "outputs": [],
   "source": [
    "def rho_green_light(nx, rho_light):\n",
    "    \"\"\"Computes \"green light\" initial condition with shock, and linear distribution behind\n",
    "\n",
    "    Parameters\n",
    "    ----------\n",
    "    nx        : int\n",
    "        Number of grid points in x\n",
    "    rho_light : float\n",
    "        Density of cars at stoplight\n",
    "\n",
    "    Returns\n",
    "    -------\n",
    "    rho_initial: array of floats\n",
    "        Array with initial values of density\n",
    "    \"\"\"    \n",
    "    rho_initial = numpy.arange(nx)*2./nx*rho_light  # Before stoplight\n",
    "    rho_initial[int((nx-1)/2):] = 0\n",
    "    \n",
    "    return rho_initial"
   ]
  },
  {
   "cell_type": "code",
   "execution_count": 27,
   "metadata": {
    "collapsed": true
   },
   "outputs": [],
   "source": [
    "#Basic initial condition parameters\n",
    "#defining grid size, time steps\n",
    "nx = 81\n",
    "nt = 30\n",
    "dx = 4.0/(nx-1)\n",
    "\n",
    "x = numpy.linspace(0,4,nx)\n",
    "\n",
    "rho_light = 7.5"
   ]
  },
  {
   "cell_type": "code",
   "execution_count": 28,
   "metadata": {
    "collapsed": true
   },
   "outputs": [],
   "source": [
    "rho_initial = rho_green_light(nx, rho_light)"
   ]
  },
  {
   "cell_type": "code",
   "execution_count": 29,
   "metadata": {
    "collapsed": false
   },
   "outputs": [
    {
     "data": {
      "image/png": "[encoded data removed]",
      "text/plain": [
       "<matplotlib.figure.Figure at 0x7f7abbd54080>"
      ]
     },
     "metadata": {},
     "output_type": "display_data"
    }
   ],
   "source": [
    "pyplot.plot(x, rho_initial, color='#003366', ls='-', lw=3)\n",
    "pyplot.ylim(-0.5,11.);"
   ]
  },
  {
   "cell_type": "code",
   "execution_count": 30,
   "metadata": {
    "collapsed": true
   },
   "outputs": [],
   "source": [
    "def ftbs(rho, nt, dt, dx, rho_max, u_max):\n",
    "    \"\"\" Computes the solution with forward in time, backward in space\n",
    "    \n",
    "    Parameters\n",
    "    ----------\n",
    "    rho    : array of floats\n",
    "            Density at current time-step\n",
    "    nt     : int\n",
    "            Number of time steps\n",
    "    dt     : float\n",
    "            Time-step size\n",
    "    dx     : float\n",
    "            Mesh spacing\n",
    "    rho_max: float\n",
    "            Maximum allowed car density\n",
    "    u_max  : float\n",
    "            Speed limit\n",
    "    \n",
    "    Returns\n",
    "    -------\n",
    "    rho_n : array of floats\n",
    "            Density after nt time steps at every point x\n",
    "    \"\"\"\n",
    "    \n",
    "    #initialize our results array with dimensions nt by nx\n",
    "    rho_n = numpy.zeros((nt,len(rho))) \n",
    "    \n",
    "    #copy the initial u array into each row of our new array\n",
    "    rho_n[0,:] = rho.copy()              \n",
    "    \n",
    "    for t in range(1,nt):\n",
    "        F = computeF(u_max, rho, ava2, bval)\n",
    "        rho_n[t,1:] = rho[1:] - dt/dx*(F[1:]-F[:-1])\n",
    "        rho_n[t,0] = rho[0]\n",
    "        rho_n[t,-1] = rho[-1]\n",
    "        rho = rho_n[t].copy()\n",
    "\n",
    "    return rho_n"
   ]
  },
  {
   "cell_type": "code",
   "execution_count": 31,
   "metadata": {
    "collapsed": false
   },
   "outputs": [],
   "source": [
    "sigma = 1.\n",
    "dt = sigma*dx/u_max\n",
    "\n",
    "rho_n = ftbs(rho_initial, nt, dt, dx, rho_max, u_max)"
   ]
  },
  {
   "cell_type": "code",
   "execution_count": 32,
   "metadata": {
    "collapsed": false
   },
   "outputs": [
    {
     "data": {
      "text/plain": [
       "7.22222222222"
      ]
     },
     "execution_count": 32,
     "metadata": {},
     "output_type": "execute_result"
    }
   ],
   "source": [
    "rho_n_max = ftbs(rho_initial, nt, dt, dx, rho_max, u_max).max()\n",
    "rho_n_max"
   ]
  },
  {
   "cell_type": "code",
   "execution_count": 33,
   "metadata": {
    "collapsed": true
   },
   "outputs": [],
   "source": [
    "from matplotlib import animation\n",
    "from IPython.display import HTML"
   ]
  },
  {
   "cell_type": "code",
   "execution_count": 34,
   "metadata": {
    "collapsed": false
   },
   "outputs": [
    {
     "data": {
      "image/png": "[encoded data removed]",
      "text/plain": [
       "<matplotlib.figure.Figure at 0x7f7a9c566f28>"
      ]
     },
     "metadata": {},
     "output_type": "display_data"
    }
   ],
   "source": [
    "fig = pyplot.figure();\n",
    "ax = pyplot.axes(xlim=(0,4),ylim=(-1,8),xlabel=('Distance'),ylabel=('Traffic density'));\n",
    "line, = ax.plot([],[],color='#003366', lw=2);\n",
    "\n",
    "def animate(data):\n",
    "    x = numpy.linspace(0,4,nx)\n",
    "    y = data\n",
    "    line.set_data(x,y)\n",
    "    return line,\n",
    "\n",
    "anim = animation.FuncAnimation(fig, animate, frames=rho_n, interval=50)"
   ]
  },
  {
   "cell_type": "code",
   "execution_count": 35,
   "metadata": {
    "collapsed": false
   },
   "outputs": [
    {
     "data": {
      "text/html": [
       "<video width=\"432.0\" height=\"288.0\" controls autoplay loop>\n",
       "  <source type=\"video/mp4\" src=\"data:video/mp4;base64,AAAAHGZ0eXBNNFYgAAACAGlzb21pc28yYXZjMQAAAAhmcmVlAAA/IG1kYXQAAAKuBgX//6rcRem9\n",
       "5tlIt5Ys2CDZI+7veDI2NCAtIGNvcmUgMTQ4IHIyNjQzIDVjNjU3MDQgLSBILjI2NC9NUEVHLTQg\n",
       "QVZDIGNvZGVjIC0gQ29weWxlZnQgMjAwMy0yMDE1IC0gaHR0cDovL3d3dy52aWRlb2xhbi5vcmcv\n",
       "eDI2NC5odG1sIC0gb3B0aW9uczogY2FiYWM9MSByZWY9MyBkZWJsb2NrPTE6MDowIGFuYWx5c2U9\n",
       "MHgzOjB4MTEzIG1lPWhleCBzdWJtZT03IHBzeT0xIHBzeV9yZD0xLjAwOjAuMDAgbWl4ZWRfcmVm\n",
       "PTEgbWVfcmFuZ2U9MTYgY2hyb21hX21lPTEgdHJlbGxpcz0xIDh4OGRjdD0xIGNxbT0wIGRlYWR6\n",
       "b25lPTIxLDExIGZhc3RfcHNraXA9MSBjaHJvbWFfcXBfb2Zmc2V0PS0yIHRocmVhZHM9OSBsb29r\n",
       "YWhlYWRfdGhyZWFkcz0xIHNsaWNlZF90aHJlYWRzPTAgbnI9MCBkZWNpbWF0ZT0xIGludGVybGFj\n",
       "ZWQ9MCBibHVyYXlfY29tcGF0PTAgY29uc3RyYWluZWRfaW50cmE9MCBiZnJhbWVzPTMgYl9weXJh\n",
       "bWlkPTIgYl9hZGFwdD0xIGJfYmlhcz0wIGRpcmVjdD0xIHdlaWdodGI9MSBvcGVuX2dvcD0wIHdl\n",
       "aWdodHA9MiBrZXlpbnQ9MjUwIGtleWludF9taW49MjAgc2NlbmVjdXQ9NDAgaW50cmFfcmVmcmVz\n",
       "aD0wIHJjX2xvb2thaGVhZD00MCByYz1jcmYgbWJ0cmVlPTEgY3JmPTIzLjAgcWNvbXA9MC42MCBx\n",
       "cG1pbj0wIHFwbWF4PTY5IHFwc3RlcD00IGlwX3JhdGlvPTEuNDAgYXE9MToxLjAwAIAAABfSZYiE\n",
       "ADv//vdOvwKbRZdqA5JXCvbKpCZZuVJrAfKmAAADAAARsIY/aJvYgOIA4Z/2ZyXw+295iesdRypa\n",
       "JELSRFfi0i1d++b3067/TvzkpCnGQ58iqQhIKnv2jOCJJk//h1/lDyZvegcggMoDNGAqJA1100zn\n",
       "8aPxQX6g9gZHIdcKzwO+OAlvNYEBIxoNiNeIjXR5F9cc4twaRNzzJmUVwoh+uRgYn0Y+vAOat9vZ\n",
       "QNBKrflVZ9glFKUNmczLJ64VP5a/nCOPeujXFOYxBLF1ztD8VW7Zf2X6EP6sVgck+kEueQdDC78U\n",
       "lNXCLhl3cTqJIP7ZP/K+ckO7a1A3wnZ9w2G1KSGHul0FKbKD1T3+YuF2YUlrm4/ZKRzBBBYBTlfW\n",
       "rEHB7yO6805p+S395pqoEQHPORiJWyRvp6bLW1IAi+ghJY42Qju/K/HfDwE19QFQUyIpH2POezsO\n",
       "v7OVfMjCDsBVHzWzDtBjq2u/Evn3PgQatP2Lxirr0PHNb78qbrs85xZ0mI6sWuMbqW98VeDdDNY1\n",
       "tGdLH/8aJgJCHtr8BGP+u94J+N3SpMU+BK8g2BLR9iUx8Nnj/Sv6iywL+VQMNyCwIpTp1miZKHMT\n",
       "pnkyJBN1VDQmjR4IQOlix7EvMRvYevcDNCrKlHS+NV1krWWYednoDWovRDxfHGi1wRL65R618xAb\n",
       "QvOPnLLXwH9uO6dWDbOhwQV93bPJZ1eW/5m/Bn+inGGzMT2lwU1UYXfVUevdUlKR+IcyYaCifoqc\n",
       "6ZvsV8O5zkA/B5cbuaIW0bHCrXKVS+L8vkG72crKA/+fuerd/O/gc9J/S7z06RD1qdIKbVi8cRJ2\n",
       "YuJigC1bfJk0lNs2kMUbOu2w5fVgP8CMSRTcm34+w8jsRrBuOmb/HnqXfC8q1h1y3MdVan3GGmVt\n",
       "kBW1RqNQc7rq3/SWUuLEJQEfZVnZ9r179b9ABlmk4twpZW60V1fPuhgJnJLBRJtE5PIH+OOUGhEd\n",
       "USM9lWacq//GHmo9UdDZ+CjYs845waJ3EQWJe5kMke4KW64P1gsSngqpnP5+iDDaAIVmorOnFbJ2\n",
       "yy/qpJtF7FYgRMJ3w/383er5R9DxwDQqVNCueSfYBxezjtJq4sIrZ3wIv32Fk//cw1pUn9bmohhM\n",
       "yMJP8GxGBZXXe3NhwT4qG8gAiCiCQHlsNPN9eduRA4vhKbOV0vWd25qtGTOCvK69LHAiuVfdW6iy\n",
       "EyOWfJXckiJy5/O9MyCDx/hsYyJwPfuDP7bsxoNdjpxStT7FIGIjqL0Jw2twGzzaWiISRtRmp6T/\n",
       "EgHznUtWI5S44t+w0ynzHG5LLNrFWn3ia/8aAkIGaDrcU9dyjtoAUm46qTLEvlDUs1VAGkFMDYwM\n",
       "7E9qbZ7KVIimGveYrL8w6QSR2xLpuobprwz5rkBx0bSc+dXPUQKBAt5FkMjITHAq/ID+amY+jGaA\n",
       "nQNM7BcoUhRELMvTupZWxITF7rEdaqxH/jLiTh40daasdkk1ADv65eQra0Mz66+yG46EmL9cJXjk\n",
       "pd+xAbvJ8n+ahPLfy1GG8hg0Vq/RUYqVOJfnZvF0Tv2UYOEo5/CE4gAzCpvViZFMTWj8QY/NhLVA\n",
       "MVftohhibLGRyn9Vj7hS280MwYGdX+FcJZFg8zxwyEUUcd/YyPb6FcrC1J1J/sY04eBBtH6ih5qj\n",
       "dYbO9ENizEuEcf7FLnfJq/Irs1vr4v4yWaIc28U60FsAga2MtYIPH8JgoyD/2KDILhVxa+bgOZIH\n",
       "OnqZBhJ1tHhJPUGgQYcpomkpIlkNiZtqHzRhV4kp/RQi9MNaQREJQGyBFmAiY4XmlfmofCSpB3rE\n",
       "NfP3/17rJCKMbcP5Ss/JNy3Xawb4rhjfcAIxKtcCoJgwE2meYINWpzly935BvNxKTTMmYQw/8ZYR\n",
       "+Id0wkO8BJtHtY4AgnxyNxYDYO7Dmab8srQwaBE/7d9vzpIQVYU+5d553Gi63cXmdPvaxdG6pe//\n",
       "QVM3GLhovof0YmOL5SPzLFiEQ5jkuVHoVtRzoYBSJIDIV+fCfjgnj4ZhnnIwN2eBzJ73g8ezrscy\n",
       "RjP03Fwr+QSiXgdhv56UZBb2QXr/+EppP0OQ5ZwoHAh2B/PsxpOr5yns5bzTt2rJICkAnjhYuAEn\n",
       "CSmSIavjkoKhDFTzvG09dbAIta7+JL4Wijn96F1iYBcpAyeujXK5Oc6JvdYHyaArPjgcI8zrwFLi\n",
       "efbvQ1bg8Wm/t0WVPDjCsUAA/yaVT3R/mCSYCySQvH/9jJQJMWpMfwV2dDJYqXBDilSvseBtQjXo\n",
       "daAevbLUaZUxmt7wF2q3TGqMG9PqTVgqMf8Iv/AQEYmGQqFgphJs4bDQOCZZSQhsHfZ2qjFFP8B8\n",
       "znRWSvnlBmsujWNGyMpaCa3l2q/x17lG0dCbPVKjr3aDwdxEO/urTOn/tRLGXlR+WucaWiN+5eGv\n",
       "fR3WBigAWkCzpDk+5WaR2Lh/LWfp4ysHSt3XmjMjVMzA9zeRBXdf+buCfNOuOd7l6Gp61iSw7twU\n",
       "4ar8y5vCxRvAc3vEcB+Ih1M0q4eGZ4nooufDBVHdyqS10+vNtxV/AJgZREtvfOJScDYEEEaQST9K\n",
       "E7RvN9H8cmMEFeFdKFZhqvRJXRGHDGQWiPlsbNasLlzygy8jEYS1fgZT1UhoQomHa1C4Hq5MODtY\n",
       "/t9LOA4662o7F0ntMiEGlfpyOLwKN98zXhib6OJR5V1zFxhnZ3cHJs6JZWpO3hD72ioby16MGDJN\n",
       "XnKJoD7ViNuXIOwS3WO0+eKzIErJ5lLDCyvur4zVFst73XoagD3LurLchFuA2gx1ka/wXdxwpyAq\n",
       "erf7QnfUF5eci4vFpsEJwXn+i5HmCSHxhvNBkpGyX9lqTvxSYXYDeUg6b1wr/wjkMMFTXHnIgH/6\n",
       "SpwVIDcgJHvEg8Ry+8KWwR5HRmp6ZzHgi07FkDT4tKInDFns8qRghUxICus+oDK3rvVHWtOdB2eP\n",
       "B0BtLZSB6ycSuEUofb7cX9OMBng6ZeLzLtgaUiWso0azJftrj16hMu/q92qU8c8IzcILRfuoWewo\n",
       "n2LFyvG6bb7AcwLaMC4i+i8GqvW6HMJu6ouU/sFWKmSfdqQ6xSGuvGdUz6V87SiXtY0D94VcHBLC\n",
       "/lSObRIuUj4wu2xLmyKk7brlRfSsNvZJKgsjr2hy6Zc6B3CEym93UmyF5/G18Q2MnQ+Cxt2kZ3JP\n",
       "f5DqpakYmDhN4drxz6sAaUlrfmmenMAX8lEul2jRkq4hBRkaQIPl1/Ens6UXoJo1TKJ1E5j9JclZ\n",
       "vG1qnLz90UaNFUApn3LBUtbn+JjL5gEAK1RXsdEphB+YJp27VuJzycBmInI/QYGM+hAzlIyiJJ4j\n",
       "ox4/iGT5b1RPB5BMqWXNcv/RhbLJ4Xc6MoR/4k06Z1MDKofp973+6lChHTKKNs3cKHIKYBlvbsVW\n",
       "qj+KcgXw3K2tGKCug8sCSi3yV/Xzc/c5D3oQziryq8mOcrW+vBq9s2riQFJr/892QyVyP01acQGP\n",
       "FeVCTqA5D18eYzFSGU8jpiLy7ZBIXZR8pUibAoYTkClhGpjlfiNt955SiDYO9VztRSG90unA/LTZ\n",
       "g6xK3IiqAloNPdaZ2y5tkP9tLfkuNA4xHP+X02RpQwG2QTyqTNY+nKBRBCVf7kzCPQ7pydWbJzD6\n",
       "5XMoBH4m56dW1bHa5eXyqNSdMvDh7wF8wYytAfvkn9/7LuR/+PYb2dEFkcyhxtSixhOqq1TMcslJ\n",
       "oIRCdL3P0lt9JnjpRQG8ReVpQSiAPAY9rVpudKucuGKbZyAbx6Zp5aCinNrLbyFLEUVBzA2SxVEY\n",
       "rZqFX+NrKqBQcDeaTmQv056XlfM4CE9lDd2gJvkn5AxbdwklX9sM/TTBK41z0Am2ygsyi6v+NNlD\n",
       "dKpytsaTrv+iTlRxk+WW0udw5uutMmyqXuhAIpahmcpOwfegMsipc6SCkAw3rGrHDTz1qwM9xNJn\n",
       "j0SO6dLAgpQs016TONNatIt/ppNO/5HeeVjgIRPmPSZvDmTgBjPsVzHJLWp/SVDhxWgm5N4TXRYs\n",
       "oGJCYf6udj0Ua4RpDzBg1niU27tIsVsNCVmIe13elzB6lFi6F+E7tmqAbJexQ0OHGEmAZt26vQXv\n",
       "1ZaLeLlx/XrDKUltLxJdPziy+T9Kb/3yxiGVVszNEtoS9R35h4gtYPLRBXKjSEF0ZFbfPdHCP8+O\n",
       "QTjeraxo4jyJuLsToyPQu4YOkigh6ZkT8fqQWoJumdEqIcdrSR1D2dVGdQsFO315awu2E3EZ5MHL\n",
       "ETue6pp2rxguh7XmU8HgubRG3CUKP8Ka1rWjPzpe+GkX+purwpCBNUHuuJ0dSYZfxpcFpeDTD1oc\n",
       "u8/WdgS6dgLNTLiANr3wqbS+tKi6+xHmfm/PlpKGtsK22VqlZaHqjiGUqT1wcyaSP9P6959e8bw3\n",
       "OhEnjcDfCuKUjCuG0hXm5/Btt6CmGWEbhan5oqbSuIcufja7yrhj/zu/Co9MH077TncrfWptTPSY\n",
       "0c0lTwssfLhOfLlRMQHXIan0TopOdoF4GZgD3TzIpINT3MbUSDAgjSH87cuLR68256603gT4/YsW\n",
       "i+77YqhvEHyiRZzrzMW/xAZGUDXbw38DfutQuQgXRXDwi7/LXtu5jLJ2Lga3tBS2ntDkp71TgeXN\n",
       "oSIg1Ksh/w7xFkI1CpQNpXcof+LfFbz900a4xsF+z/pkhZKjgFVA/ZpnG9SJK4dANR6RsYNiUy4N\n",
       "Sy/2QgPUSpwZBPDyDqzPYCJXlYeRgYJftkcAVM1snUWh8DEq10oOM80MpHYaYhcWo0B/TAbnOWy9\n",
       "sfd2Qwe5i4b/I7xLfYA706Sb4rE6cwUGkgyt0MCPRkmS8CNID8N6ICB9pr3NqgD96DauUsgZ2Nxh\n",
       "g0A4Q8vtr7+f//z9s/5ga0s3P7/yjTw/L2RDGVqIqhgQXkq6ogIxgZz4q++rfwod15D81F+rGJYZ\n",
       "SFoihCBEEshnCHswJRTdYiYzbDytcuHcvHPAqCn0eLLhFNZ0S/dTeFM0xwuZZa4fxlRntr8X2F1/\n",
       "Z0tVCF+y4oS79oQiKh1vxkSWzHllUEyNlWvWe+xpa310+vIEXax/9MttiGIwTkm5CgHIRUgavbgW\n",
       "0E3nN8Fh5rGYLmw/ewEqLdP1YK0YDbmYDk2SC1A52a7EADyPl0DUTWudhOGweHVt1Pfx9uq+epMv\n",
       "FEAqMTg2YUxeH6gtWHOxKqTdydTNZMXm0ZvKZIDPe5kl3XkhPJNF8QPMhWwsn3OrWot/wbbJKQiA\n",
       "p4toEwcMEdVygvsPiYUIAaHQdliVh1loKS/QsJLUgTOj/p/OX5hxl+E1E5p1w6jeooBneWTN102f\n",
       "eau1FB0D7PROSvNP4YGaMlbzRcAxs76lkiAKSim5KQfEHdIC0fOX/NHNjkDsU6BSpKkL4nUXaxPW\n",
       "BUsFo+T/ZVBcbuVSDGUMG/RekRR4xvv9pveUrUUvYVY3NHZDMzhvX0CLoaRUBdeUtZORPDBcifVn\n",
       "kUeR77Z5vaEkUsCdDFKP7dc2R5XdZiGOLZCISz4hLvOa23FeFTPZ5YN2O/Z5kWE4IYMiGnn8Ww/F\n",
       "m1H1ZdbXe/c41S53dtothM51tn/+Qrdlw2cSVJUt3YdO+6Yv9O3Vn/hX7sgcYT4DkZmFLUz93iRL\n",
       "zyelmGy43ClzAxxSKTST+oj0UMpx1izOmvMyL7qvANSZgSKdQ8/C/KhvutUOrY/KjmVFunRxuruX\n",
       "GydYQUC8XE0as6+lOMqLLHKj9MpaXnnIhp5hWgcrPcyLk2/0J/t0YyU2PVV6e7EPlh53tR0SQsy4\n",
       "CIF8zHdPNaz4SbtEBSS61hmCYkxVT0LrQB3Fn4roowH13c5qy7zE+SY/+bTWUL10lLrB9oKcHle4\n",
       "v6VcWo1T2fgrm8zXA/egpC0PS+O/pN97v8DsQVIGkqRigMCy26tChEpYt0f4s8HWR2FXejg0O6pb\n",
       "SC6nJFufzjlQE8pXQaImmo+082nun9rJBea0RCLBUj8p/qP4q+93+4H1EL68WYbSyyWAvkfOom/o\n",
       "TakgHLDBiPubo+862YVzKPjeUN68XNbnBN15sZQAtSSLq9GNHnivlMRUe2/P3sAXybWz276WxGrD\n",
       "JhgTnsKuCc02oVYPwXBRGy2wtmxyQvzf1M3C7TeqE7zFkIz6s0yJIq0WzK4dhvoL9a5XT66UrlM8\n",
       "cSe0F6/dlAZBqXlkhnZ5pXEYPsZVcTvYScxgNmzw9fMhdjPiExCYPpIKzySZETUDv3Ja08sKJoTh\n",
       "pxOu2RD9ba8wrr73TicnhyxzvybErdGXMbxO9z7RiuXqWb/ki3lBCS0i0v7cBxgKn2EFy/MBBTUi\n",
       "KHbxprAjxApiCj+gWg9u9N7RuoGn1QC82PsLhF9QlmJBkrKuKkf/inloAncuvgu58b2A0an7+waM\n",
       "BnjT5tht8TCQfLGNOR1NmYWCVRs2IfvSJpOM4Q6GpgZbB5o8OnNtlizxS6rFW5H7agytYkF9JrJa\n",
       "F3MaYI8m09CHN5y5z8F2qDsLHgwedpDyqEm2Gg08uOzaoUqdophfgX+ccYjcznRqaOfH83CLnfOO\n",
       "v3ZxdLPciwYXrbNamhxZMH/2fRX8KIU/IlHTdVODHADGfMvo6KUCDdIjaNL2z4Mco2RzV5CX9hOA\n",
       "hvTqF6A1cFWBoIT/1gkHEgycqlxsMeUvQGEiQgRAbwM4QioBs7kI5yUZrQ2Qw1i5MFvt5McLNkYK\n",
       "9mVSQkeQkwSs4O3CwezlLbgi3WO1qOUUTY1KmwFYPd48gzhpJk3/4FFDQCNe5GXY+JfmtULlMyjB\n",
       "sebNYpXbsf8Z3FX5wUvyGMn1M3q/25kIPNQUOL9YZ/Lq6KKncTsC2TUd8EsUy4xFSwknrggOSdDE\n",
       "bAJocHh9Ctx28CL5eksQrPxvh+Wqw5xLNIv2bk519t/pTn2F6nhrKD6aWljM7Kf0umcFAe7FMjAX\n",
       "9pJ2q39YSmkyW5rxUSgcL5ku9zgD4Q0IjPFx/U8ki/4x6JPHXJ9RZ+9YUlSf04YyERFW74iodLQ+\n",
       "a6LywP2E0lvcgtaEsrqxT8WkoI2oOtht+1d2jXp6zMUkwncGxZuJ94NmD5U9dqigEhM9wAJBJ/o6\n",
       "LVvgo5qz9cJuV53Oc4VIRl4jStidaYytRtgRWtmPS799rrG7VSrd4/pIK/w5BGIPuN5Fbh/mWQ3D\n",
       "u9GgkAWccSXyhB9TwHt/7CnwQ/7V8cc/2nyK0358ljK0tVXn0S2cruBrdOZLMSgYGIQRe7+dUu9Z\n",
       "0HCzeEb4ivZummYH3Gvcf0xV1ljA0PuVNeugOt7pHpfF3QkH/7qotEDqGTvtMr/0XO+lMtACTWaG\n",
       "gqdb7mRoAtflznWmcf5vuiTt4uck5tf6fwauM0Oxx25cjconv+ff5TngP8GwktAS3S5I1KvtUWez\n",
       "mKYy3Vhv4Vy1GufEKXGQ7URKvQ98Fceak4taVXWXpPiEeTIHzTETdz7I8nCNiwBWStNlGQ1XLwb9\n",
       "5PiZUuyVYLLZrqbWIUBclF5+YgVesY55NkF0noYbkdXSxYpLc8iy6GU9o3BkcPF2PZoOVe8DEbvf\n",
       "yJWFKtvvgxfZ2tw16D9ndMTMdWQW9RUesNpY1nowxpcJ3sqYCYRmJAsu0/hLTA+niN4Jek8b1Zl6\n",
       "piXWI/NhP0NHoys/zQMgDTQuTQnX6n2BPtGaUNhSyHaVVnP2W+GmekH2Wl+sEf6k9QdVhuEn5uXr\n",
       "Y5lj8vgMxzqtVZq21oenhbclYAEfx7YR1ez8HY7S8vqNvIMD2sA8wjfkFunfRjS8+KwcN3YAnMGN\n",
       "rhaFb3CakrQvJSLU9JbXXyrhbaLhIgGdvR567TxCkA9RZRhLMKV2f8qSre8Cxf3eCpUG10XwFsb0\n",
       "YrT3YxRGUTMKbn5N334/c6hhJiLx7AAxzoiY5ZWMfqNUhJYqS29Zv2m4+dVqYr2XMkiXDYmTdMpJ\n",
       "fgJvgMQ4p1tKMfx+pxQiZyG6IyP+h+Qnc74iunCBfGzduWNdY2sIOj2XcyGLZ1s/GvTgdLZ6tWkR\n",
       "RIyuUh5+QlcxwmUYnYz95PN+sO1ajscM8GQ0FGGqI4e5StkQ/YETG7PTvhC7acWXLwRl1DrigrLx\n",
       "se9gkoFt5QSPveOeVF4RXQZOZCstPFyDxVmK7MiZ/uLIEa4ELgcBsoREZtuFib8WdIKI9+EAAAJX\n",
       "QZohbEO//qmWEwDPQBCPdOuQpP1iy9TkbKTduV86QSUR5rLjvBUtsx+/vcJkAFvmDYopO4Qogvuf\n",
       "ov2ceIKtlrbR4Q6tRHkbxxfJVTKapinFEQKULR43NNscK3k8noXNHGZRrxHLX25eYq9Y80QjyqfP\n",
       "xGbFpQUWSPGOp8R6NvFpnWPSVngri0p4rdNDP005TQpScLUqRiewceqEL6dWAHs6CfrIYoIWxaxz\n",
       "9C/FOF9kf/6oABbiBzgkdCLHgkq7YDyOopsAOt9eMc4eU1Th2Mr9y/1FTwZZS/uHUC0msejXArvR\n",
       "GdPVv7ozGjD7Gegb7Q+fnmFAmsEmoWj9Vraux38g7/icHX5AbK/wMTbGnsW5BtQ9hw/lwHZg5slx\n",
       "dNJroQ0jmaxKWU97XlzwfqtvWAcp3mdas1tbDrBSRQ5vn3UGrIbSJECiahMPQcOAMtEZaRb78kUm\n",
       "Zrj/O+NZ+XWV263cJS9xa/JboixsxO23S1Ed8dDELC7NlHiCTep7MmtSVJGPQbOXJPkS0tzsV2W+\n",
       "BDEBLb9wcaUAGlco7dRvJxGAxdeMI3wlHaGzAiBxzqDCayHG/CiUoExeNiuBcdcpxDZP+bBIFTkF\n",
       "0X4lN7y5hYg91AGwhIZpRv5OxyMvVYMfzr7mFkOGfJXI0Pn/0ZMSrL2xw4o1sqcrX3KOpfOVYegW\n",
       "q+vz96NZsTq7QdhtBI28lIzrb4h2dItHpHEtZbf20ueDb4ew4UC887HyDhsp1q9xb4EXKo+mYv9e\n",
       "TJ0IfnG+Q6XFXvvB9UTv12Fcq723Ps1ed4UPSXAAAAMyQZpFPCGTKYQ7//6plgBZueeLZBP4ii2w\n",
       "mD8RxgAvhx6Iyg+WVkn2BA+TPiFxFUZazo6DkhMYTgu2nX1DeLZFmaRDGil/GJuyr4xgASPycxs0\n",
       "gSAWE5HZ1CWaB/TMkqlv4Rn29Ghrv1kmysFFTTlzeUevZg6chvyLsTT2hOQ403g7HFKAr0csm+gg\n",
       "/6/TTUM5qz8KFBoAOB9km9ghkq2NMDJhxBGv+AZ9pYSIJjesRQLN4fbxH+Pjn/yq8DO+Pa15cuYQ\n",
       "VSCT/LhlxMRVhGt9YGSFvc9UxkGki6hJT9I0MHZzMkaYnlwM66J1SZDAvIQbSuw52Mss7Z1w3+cJ\n",
       "NpSe+SrRmS4LYFlLGL/uX5jWdbQ3NvZHP2eRxHfCdyF+1lRFFvIm21Wb9bUItEj8xR7oiXFq1zIU\n",
       "fjbrD5VSXGIT7qcdnE8pwN0p5mE9BuE/BxfbYM/xiN46DgRikaEtAsGbi2kJ96lCvmGi66xUhYs8\n",
       "/PyoxqYs4jkgI1W+FtSN0ZQyb+rkJzjZF00lPylmd17nq85Y9CwuJlEJpSSf0fYJ4sfCZmcEtMc5\n",
       "2EMep/H91soAplxQP+FP0eP3LBzDDKYxL64JAa/mhSZXfEaNjOdC6NzymUF1rBcySAM7I++3jsn5\n",
       "4GCr7RsFbmqsG8PiDlyavFrmftGINo2Z6QX4GpW2GR44ph3TitLFa+Cq1r5CeWowzqrV6/aM5Xj2\n",
       "4PCy9Yz4+pP4k+gClUjOZsQD621GA0TL5Lemcb4HjmcJ76xGbikn2u5JyXScw8uE1bW1JRuff67r\n",
       "I8MkmobDQCOEY/ZDf67HBvAcqvEpYgI115KxfutSapgTJbT3SPyQUDP9x/48F9dJZsKBkoF5/YxI\n",
       "2DlB8QP21aaRb8gsZQit0+4JSFbeq+NN0HxkCNKN6s/geVjSf9VLP5baGfnpxHXWwSoHuDQ+MgJ1\n",
       "6gAOPukFsg3eBXfTfDdyeZWo6gFQ1qP4TiKlCd3DWAePSDfxsPViKOHk7023kZlXGVEQyvu9B+m7\n",
       "bP+KfRu3z2fXCIyQGCYyFpl1rsqzq+XgpORWzTq28BboQ+p0q1nv0HdrGB+e9sprBwU8JiUAAAFx\n",
       "QZ5jalPDPwBNbSuEWVaz7+9xZeBK2ngA2Xn4iNduN2KFFGlFOY7bZoowGe6K4BfGMYKNZA9AcBps\n",
       "i8u4vaZtZwZyBf7Bd11jFa9q1NWF8hno3B31zn0U4p4lcdkyL/R8QxTlp2k3yUOa/NarF7QxMsea\n",
       "H+n/74ZZEFHtbjYypM/qhHmLDpVq74UISDPCZicvL1UDdMWZFipPipY7U/LAld+1F8VxRBJU0+7X\n",
       "5ubuqUHv1y+aH/GFipNcJAvBfbU3LbBGJsUhj02QThe1b6DPM5tkDPcH1uBwo+uWAHJWISG2+qAa\n",
       "3eCOp8rkojv5mMLMFoJ2sV10QM5iLnmnLZd0S/9G7cBEtT7WUXj2HNFsDjqdQSr6gf67IUlBr4ym\n",
       "86YOb/zV+26DOdpBwD4FvmgrQ+/elxEglEV918sapZrZ1TlFfk+QuqfCO8SQsv/Vh3UZIMs/xeWJ\n",
       "p9ar0pb5bZEfhSnomSgU6OISp6l+UpDdTOWYAAAA6AGegnRCvwCO8UUI44Hzq+T/jhn4APxw9aFv\n",
       "hYFFOWJMrTZHNKSOy8NgU1vZ2OLh+a34a2yekv1bVnez/4ce5vmF6q6qAx6BPsVUokljLgPtHxWz\n",
       "4fBTkGgKm4hv+F3fQt+SVaO3PDMx4CQmn4dlnYuITucFVk3X3UHiA5Ea4cLAgay6yle7gzdqpKuA\n",
       "HpwV0OVTmKzKQj25hSM7gMqMwMpk7/6yktlyUBrlPSgH/s7u1ymliTttbkv6DsJBO+J8BZerGKNF\n",
       "2rpRVC9AELqIoO1rrT1YOk0WbVT0KU9flzb2gIziO45MCoEAAAD2AZ6EakK/AI7qfanXRAMROAA2\n",
       "fa7Fg7Hw1lUWCUWrkg2lmzkXMj5w1GbJXd4E9GYPtEHRVJJYk+Dfc52Celsc7Wjs6nkdami0osW8\n",
       "yNypsEDTQ4KgtejET9jHLR8YSC1kCSweDI0s6yGYtq8MGfPHYy8NErA0Y27t85L88ASO1Ky1wCuS\n",
       "mOlXQSXA3xrAV3DikT6FMw1D+MleVCJqOrvgQIsqNaLWgrL08zzE2MwSoCH+6XJmMa4HRzpqX2X3\n",
       "1KM6O2ckTpcokhErSAikPWJOHHTnQNrlohA4j/GE8v/r06BPZOSU9Kt4WBTqf/ElM2pxuxEMxQE7\n",
       "AAACtUGaiUmoQWiZTAhv//6nhACsKWsF0SyVcAAlDzOiXytjAQT6hB7nc1S4rPzq65CLu35gh9Br\n",
       "eb1CEbWa9aFy9rulstBW0eeqkqXLcRtpQ3dNkd+I2LDY6oxuYsPGZTh6q/UonOEeMzJ/IG5ZX5kX\n",
       "7lZhxCeNto5zpGQnGLziuVBlsG6fMzVGuxMGz6uuYF/A9nQXq9Rb3aDtX7rrT3ft8CI3v5CG4Ozi\n",
       "JqdwBoxx6LDtSSGilUbl+FIPHnUSuTGC+FOCAQN/5/Eaxw8spVamJMtW8TQVx56q1LiGy/8znpDs\n",
       "0MvBz+WghVu+eevfziRUGtRFOUZc4+lFTT5fHeRsTrEJXMzH9znER9Qm4xR98tg3EPINOmGZdHm+\n",
       "Z60+Uj9GZO/CLDIpAQuQNYWGtmS3e8+ZoJY7MHEHp0rMjW8f351iS7cCvFE2jbHtFOxni6nM3MQ/\n",
       "9kwbucbWLCD32TG+3Y7nScUngku4Yarumw5mlvBefxr7Z3zRfj3zam9aE0n5OyHEUNIVsn7Tbtrf\n",
       "KlPgMeyvxZU4ozRBtrdC0tb0Zh0fJFPxwdE+ph8sauPgJMZIn0Phwd+9KjXgL8bYc7BQL2jptR45\n",
       "/MDaym5KONilskVALcmZOJeEJ9FDkzgE1WfGlArUIjdWRoyOY5UpeYOrdKa4ocxM13X2PzIKnQ4r\n",
       "99hF8s574Hc3TWIXkrvneiGFpKCPPMG2w3XYVgPHGKpVnUFnJpxioH9UNmyjYlDbeDgqO19juGuj\n",
       "4q8zxL7GRCpUWo4hYOHpZ7owDwSuvyTc+h6Y0suRGXuDvR92jWXrzs5yo/pkFpkmnvN0ZFfS7204\n",
       "O9RFea75387S7Kw2+2Mu8kMW4TeGYfq4bGNIZA2okQGP0fjTyHMkMy95jST/Go0P//8kRctcIxZa\n",
       "UFxjK21s++hC8TwoeQAAATNBnqdFESwz/wBLFugVulOOgATmqkv47KIjLHH0OF5aVvwx4bL3AB/w\n",
       "MZsSb7MtEHggUv7CJNT4pKLt0e1KQixVDF2ce06DMGI2GIIx6cZVhxvSqmuHJK9bPBHiRnlu4ASe\n",
       "cLYOxrozBeFMrJJvmidA1lA68K8B+1aTD2+kXb58LUZ1N2PCuSnUdnczT+znRrgsN0flgBchzzBG\n",
       "nFggWFr2249TQPh06jo3aWuIqZXYJaTeJlwp2f6M6f87YfLxpcC6hL/PuRx+UxJ5TXHGZUu+LUv+\n",
       "6lQit4EeQKpwIA0Sq7ggE/n0cDJhbdsAHeGfWS3ub4bzrtjXoZSyF8rliVjM8zUmtIOAfAt80FaI\n",
       "YjckqUT9Opn7PHLfpZa2GkxrlO/28Z8dgUB4FyUDgiQy0EFzYorBAAAAxwGexnRCvwCO2b0y1e7J\n",
       "A74ASpkFJfI8bCeOEXdsSJhz7TjAiBJKwXJIJiBBy+Zg+xKa7/KuYdhVjNCtgkmwe32+9dhoboy8\n",
       "qD3M/3zGzspWDFpQdXojp8qm4lzrZQSJd6Nd94R76UWQ2AZwgpPrphYQUysBTOIF2nEaCl6evhwM\n",
       "kgcB7FEpylw2vQipZXidekg6z7GVi9FEQYdUJ4JuXCZFbbhuA8cbdq6c2DLSIpQ8cIFGOSDNAbl6\n",
       "zVQWY/lG28Jl303YUIAAAADOAZ7IakK/AI7Ho4jVVNX4ASelY+lFI+63ctFjdPqcvwoV52NF8TzZ\n",
       "pJJjM1ZlZk5jFzs0E2I69dITUDZCzmDrXLzRhRRcQTL73/0g9aqQcsLwWn3QfP+FiDr8Lf99P9L1\n",
       "nl7sz/9Gu221DgCy8SSpw84X8oz11u5dQXqYxsWOhKAYFBomAtPeuTPOS8Zv9nanDi/00NNhnzOb\n",
       "z3eJaeMln9IBTLRfBrR81nsjYEoLLjtqbSl5YKOdNS69ujHJBmgNBaVUfWVFQ99BWyWrswgAAAE9\n",
       "QZrKSahBbJlMCG///qeEAKvlCGuQALfS3vIBTASQ+qzdc27mkCX6PpcKY1m4x0tyIDVLMoeKMiUP\n",
       "mtpAcqzu+9TNCGwvyxlPmUSgiOSxHon/m/XYM2QK+GxyG5JLMtGUGNc1I5MljY8m3y5mYPEs8nHa\n",
       "R4IFtBXF91RIUVj8VVhQGd+Hywsv0x19MoD29HLu//8lr/zYVAduz/2B8t3ZvHaC87KAYPPCkUs+\n",
       "ZQ7rkLO3CKJOxuNOkOCbToGxyqoP8MFJv12cOoJKXqH14Rcf1GY8+RFUNxSzwOcYvUCcq/FWDRMy\n",
       "o+I52/szCMS3Pby8hu5ZihYEhBirx3e04rZz+utHlikh3wWg2dVhEQmyXfj8HM4QibPkvS6LqEDB\n",
       "/HEek3bqq4oBH3W98bcOW/7mtHYhnqeCUxiY2c+xAtcAAAFXQZrrSeEKUmUwId/+qZYAVwVAk0NE\n",
       "AD84sLnl6v9tNbgvK8s03Ar/reSa0SIwdASAZsiPlC4kDwW07SanmV1YbeAqWqn5PKma0eEpogBC\n",
       "ELogmKmtdIW3niJ1vyVNBMBhR8FbuN4hIFZp/p1DeWfpShc1UpG1YmV9HZN7rRuZ9/na651hQ1I0\n",
       "xBDl203//OndP6nLdLwCDZz/gl0NTww4Jj43a5K/nH0JK/Y4rRfYATRr/xRQ3Ij9J8AEOcfbPu3T\n",
       "6ZAh2yOwqYozbfpHjjU6Jr9RJH2Qm66JIQec01eSPAmWocsJlCwtwyAS/hhBz4Cilonu9KPDlvuv\n",
       "4LGB7I5jsReesQum8pNOYTx8yHZgNAkJLmwWIqslOj737oBXjOioEpNq+bCFtIrBv4J10XoaV9ke\n",
       "WJz4eWCemnv0hN/7OQg4XJSdsQgfIrlu+O7ZRX2XreT6aKRCEgAAAStBmwxJ4Q6JlMCH//6plgBW\n",
       "+GyUrgAmn9kd7GXn/bHTJ/wrOj7RBXjfPIe99ef8RMiBdZxqfZALb/4q7xCqhyNVSoUktNNdxPiT\n",
       "u/Vbhal+A/VJxaWThOVEqnGx+z4LWqE8KycpFRqvQoaAUZaCL37K8X6mTT4rRj3TfV5hYLv+GQ4s\n",
       "yu9mt08yg1xBgEfSa+I+Q9ZGJghu95MSaz+zfzBdS2Z9yvSde7qnVMDRXHcwmHCOj2sbM7KS0DMq\n",
       "/puhC5c12vEV717wiIM+59/7ZQAAGZDb9sx+tVuTywUcizUGL1o5xQ/fqwGPbcLgqgpT+IYZY+g2\n",
       "cK40eI6dphGUWtw79rYm5FE2p0U4UvXaarQ2LiUNNtUlyfsSggNuqAEwOgqKjPGvl886wvo4QwAA\n",
       "AhRBmzBJ4Q8mUwId//6plgBXfkHJScAKWUjECu0e6j4OsFdNE2T2o9apk2S8HtGWoAdzEfO77FFo\n",
       "U3Rf2/c9jb5R2f96VvnU3W37Q0i7XYJIrOJxkWuXR7N3ngYs4NWaoKG76Ay8ojKL4EOjLfzWgRb6\n",
       "HFjVCVpPlak1F8pFwDGLEvKFBmabJ3Ujo+DYcm1/J5Q8yL3wBLjx3nBVs3tJyhwFrFiYkEoRbWxy\n",
       "sTZFQkz5ol333clFVfAzUhWEJQn5lcnnOAx94of0C/6H5z+pZhQiKUPACojIJQMi6qTZPIios4zW\n",
       "z7jPepPWz3BHrdX50dbCk+VCxfcLByWfPiNkWaTsBYofBjZzc90O7eAumjq22HUcD1gX+2ZwnC5e\n",
       "kqMQXAK/fn4qhKXt6pyGXnuJz3JAknY95aKTdERGeEIVN5pkQFehF4CAPxLLJA00SdIdLIqYMdHV\n",
       "g2qbzeP3EyzS24F/Gla8pKctzlfVluD3gpVDLv9mV4mEfix4XFQMELiuZMIf//p3rsarv2Ho/+Et\n",
       "sM8uQxKCpVBI0JDHPJr74QI4Iz0YjayH8LnQCkkyl0avr+DnU6Nw8Vi0AyG78OgTCSp+kples3JD\n",
       "cbhf9I5NVkcEplu73PrjG/rqFu9TnpX+zK6SFwt5P2cX0m3LH9j6WJEKD/DtNUeqlh64VuDuo1re\n",
       "MCVKpnwEftBScT+8numIkez47RXhAAABDUGfTkURPDP/AEtsfwjlvhei7AAuRY5xnQhx8NKQBVV8\n",
       "SfTF/+nA+oQTys5ivNcLHJ2Qfd7RdpgK3wsEUoI9qYBfJUmbaegE2JqecnM6xZ0gmkDXIjoANvHd\n",
       "ISPjxuYIl4IjlvdL+rdAfkbQ4eBqDXqQZ15JXCBN/xDShuy06jMgMBABE38MNgbrXyoNcoXQ0K8y\n",
       "r9PI+KRKFJBH6FSQBXJaz5hONteizP7CSKfc2oL4Pgnoi2dy70os+FkJAbXuk90VBsW9OXpthVu9\n",
       "bCvvGIA+n1Y8W/caerxR4Hzu94XaXQBXNM8At5VxuSPVP60aLX7bGqWa2dU5RYX1qh+VG3tkiV1B\n",
       "qd9ielDEBprBAAAAxwGfbXRCvwCKo6/gL0gXg0AC50zE1jxSoDlFktCdEXa/Kn2zr36+D2bEUVAq\n",
       "RX8MmFh83/BYv9oWJRhJFw8QDj5ZxlTCpVsjz+P1hXFvk0lfsLKcBHo9vv1RzPe+scBXJ7cax3O8\n",
       "e3BbIWb1Cw4zEmjn9lYMCNwFG0d+miUJecikvHq6mzBQKSdx/edfcgD4p3qi46nsJIjpr1wo501L\n",
       "r26MelLql0rWrPK8GmhOQrqBeTCpFJp2OSnGIPdoY8Ryh1ByF2iV9EUAAADTAZ9vakK/AIkr+AMx\n",
       "J3lMALi6MsrQUMVtpeshsutxvQ63y7HD+YJZAX4H8fYPVnUCeEpFmGnwD8Xz7zDmyvJcTHsBePO+\n",
       "7/HcxSeww/+Q4OuoX2agK7sLOX2Vvxdq5BAtiMcLNP6wj3j6vIK5rRWq2Qb9gb9c/uwLDt5gnc2V\n",
       "n114hPqTLfbfQWELgMyXr9t+8TgrS5BbqViB7olfAzbd/2kRIRJJivejnTUuvbox6UuqXTd8QYTR\n",
       "JSz0K6gXkwqRSadjlHGVOfolWdqZ56yVFi3HIQAAAhRBm3RJqEFomUwId//+qZYAVT4AxnOiYFPt\n",
       "Vh+NrIoSi1RulmwbFHg9itRD8zADi8IFdkZmjlj75PXb7IpSvKLjYvnIvJBmSMGe10kMwTWyC9IJ\n",
       "AhhxCCjyNLENILtBPSZ0s1e6Z39JVqtf8GB6J4VeF/AGSUyjKyzypDkQgc9M8Dt7w3hb83W2mOgS\n",
       "uHSFUQpcF8qOCWa54aviKu7FH42D6FLoxMSTlxsyUPZyhWoZiIVFvF7bx+50cAhVgkYeP8BWvenk\n",
       "55cdugWorIHNaqk6cl6c8fmFu8EMEkHQ6RrhmPXHZLnZ1fW45b24AOToFTe5+nrOQPV8QQ2NvtXS\n",
       "CtnBM2ds4cXDtLP5YrkxHPRaICCuAuqXgmjz7agdwLESkg2M6YfxIgtGsBZGKnyLm37di7fJ90eK\n",
       "gSIj86UeqWwIbL7RkTKbqdzskFp/uc3EDauVfJjm3bP712E0xjOXeQoUN3uZfatXl7TmWamaT61F\n",
       "vECFwmlJYxLiprz5eoIxEJTkLq5VUMbC1WkwECvcvSNulyceK0RqfTf/p2aYjVkKfxVNK/u5yYE+\n",
       "QR5Hvbg8xDK24bcoXI1eGQwlfTglx23G8Idw2lB7NCh1FTLME79zQzGJBG8rvyifhElH7tDwUiSn\n",
       "pNVhcaalKiGXyr5jDHdRyaBwW+MVFgflBKw2iAUCiMoXI0aWR+1e0Uj6PcEprQCV3ISgAAABC0Gf\n",
       "kkURLDP/AEk9ofRmEZHBaqsXTYcNDqogABDevReXA+q59iHiRLtJlEt8hcS7NzrWsgyOYtaYa2hc\n",
       "0bVGkW72pQdxIjLOwQNd2+UCpsXWPbey2prLV8tYFfNY7MnLbEW9n9YZbu9s/U42Z7i2KtUesDkY\n",
       "KD/8OzC5C3nH29jZ44YRiUYvbwlP4nWtZ+qIk9OeOETEu7RpZDCfMWa1MqmnN2uZgRe/hZy26oSG\n",
       "JiPk5/wdZFTkCv1nAnbjVpnEkjn0dD0i8cACEanDPm2cF+ld0YHspAn14ld/p07ftLoArmmeAW8q\n",
       "43IoAOy8D2S45Y1SzWzqnKLC+tUNibZsdIEyJKKxwomkqsf6bQAAALkBn7F0Qr8AhteaFH1BhsZc\n",
       "WvnrUEAE413o27opuv3Z1yQH59AMNNYkH89Lhsid6WA5oHFnIeVAG0CBKaNiGaGIbKR0lq0M2UoL\n",
       "+Sxw/y4rkDdaAYUpSjXm1YBARFv7NgqS1VyaxLsuwlR7flnlGChHCuAmWlt0sbTiw6dZtp7s2Pfj\n",
       "jhXFz5uzAU+UoaFcDt3l83oCnhUbXrXwKsrowZaRFKHjhAoxyQZoENggxAGc8fUxcANfVDZbLAAA\n",
       "AMYBn7NqQr8AhOg7Z8QByVv1/0HCMMW/9F/9USXfHyEKHu6PcIKX6vUc4hY5uPI6B0QniHw6YdbH\n",
       "LjYcIqiNPp3EbKlcnoRfMQmnSZ+f1ZtABmFtsy3ZTDPBCI9PLL7iHzVSJEpLPJ9KrFUvbILZ9N4G\n",
       "U9Ypbgz7jpHyey6sH23Exu946lJPsstbGOJSk11QKU5326KL5QO0LM1W4waJ8tv1BkToV37svL/P\n",
       "zo3XDo501Lr26MckGaDmiMHhoUxZevfnGzTuzuAAAAGlQZu4SahBbJlMCHf//qmWACu/AoSjQeCu\n",
       "7lA21oD+KNM8fI9/STkUbTEOyXJmAfK9BJUcbr3o6K+NLG1OwPM+uiyvpWW4FeDSpatqWvGbZsmL\n",
       "dKjeHG/ZuxgNn8AFD3O3ez7CL0dJ0w0mChhKCMA9c8GOcPg+OVlbGcqjibwaaSkkIcu4Ff/8T05q\n",
       "L+W9+myRLIvI18iNjHPxwGgtA3E61AgFHKbu02n3PEj188ACR+KzHOYho0C5YazuWHFTLCPWGrv2\n",
       "WE3CcUvXoT15zKP4SATeZ8CWBUtiVaA1/2m2OY+SFBxLF/+Zw/iHEtq4VYeb4bGis2gLR/CrHAr/\n",
       "B3/va1t6MRnFo/huH7hVK5Asih9lN1h1OSQErudyGVLulWYMfAa/UaiXQ3ZPt8ex++bDuJEon/Xw\n",
       "AUYXTbIJvF4l0T22/wnv2j82sp7zmsoQEazYtlAfbBs89HOjPTQIhY03manq94D6ye49NLHhp9dB\n",
       "z223VBz4j3HRc5GcTOim3qhDm2AvyUt6XgI7+JkPVayyCzaKCD5qMi/saryKGy8Vlubf2CSOIQAA\n",
       "APpBn9ZFFSwz/wAlsR801T9F7KZiwmFerMIAJsSiVU0gWUh4QNe+hntwpDSdabimZaCiLS1TeT38\n",
       "kpfB0T7LMxYKPjevwhrfL5w4wSL8H/FVdixSSuBmHPzrkLb5n4H04GsE7xl1/Ft1tpAChdKPYfnN\n",
       "iPALdY14wE0LPGh2MIRtaWpMeU68lga9+p6Vmr/rw9uGWaUiqopWfcvIYDnofMRzJl5bgyIeum4V\n",
       "qKjTDP7rGk+u9ggMiwgTKFl3cqkd/o2l8ZSrsCi0SviJmrsqa9esJIYHEtYXO2y+GtwPakUWltuw\n",
       "YYDXywNY7kMLaub2Qs78WZELGQJJZJJAAAAAsAGf9XRCvwCC+KQ2OtTrBcE3lACRXlEGglX/St+i\n",
       "tGu0+HRtvCGRLh5vas291MR3EnjSCjWJw6OtyY1YLJMdX3M6fDTLKWgGdl2op+if0xj4dIUrodBH\n",
       "UiFoj8DFC9J7aFDKWUtBgsjaB2p7NVgxTQ5DhZSwLyY4lK467DNRUKIUuURTzTxc6QSxUg4T6XZm\n",
       "tL+thhnI4nFHOmpde3RjkgzQYmFW2hAK+sWufDmybFNHAAAAsQGf92pCvwCHBlPs3gSjKMQHhHQ+\n",
       "AT4AE26aW2ry7W/xbNaW5qjD/g99XlNc2zC4dU1p7cUifFkDJIm/jYyiqEnfZbdvJMKmSPlZ/xCS\n",
       "SlCEadXFbYBuwERHMeViQh23c5a/IbE452vT2Q9wQnOiq9HVm5DX2cazxXXltyec7W5rsXPGB5KJ\n",
       "Kd7zZfRDa9M4JHxBUEyZYd6GJxRzpqXXt0Y5IM0BsYGXTu5a4PWm+CorgQAAAVNBm/xJqEFsmUwI\n",
       "Z//+nhABRu9QWro3v7wKTgAQpDgQOPOaLwYwegMMLPCPSwlzXBfx5zGtZyT8B8hioVy8sc0Y9UB9\n",
       "ibswYkh1KlVXFpN0duUZvMmW98h7/19Iecbf/7fwb36EZMK8kdPLRSSZFJkN4J/LLaWxySox6i9L\n",
       "kXbYvG8s5ZoIrXo1KWGipm2pRwCJHcWsO6DsLq/Mc7sMPbxaZ5Bpfh/RbJVZ0cYw2bbb8USIEKLa\n",
       "mRIF5S16K56n3dkojZaRw2+8/wqT0GWuZcSZv7N761L8yDdHzg7MwFHISYzp8QKZ1fF/pK9G79x5\n",
       "6k87rorQb3NsyRmTit0deNXo1YIdv35RfQ+uxwzSQ8F05mmobk1gP807XMu7IGX4t0uMgVD71XcX\n",
       "SDgHwLfNBWh9+9O4z2XhPk1sat+llrYaTGuDLVAlprgSPRzq06DYA98ME8gAAADqQZ4aRRUsM/8A\n",
       "SXIHoLNxM1msK5EcQSJopkTtn4ABOYgpxggJJt4hGeVUSy4z32mB88B/lvTx7Ejlvd0M77DcYYjt\n",
       "ZkbJsEd1jHYDNnNgOd9gBqpNP6D6+MpfmM/A472dXWpNeUyINvUNXP5l1vGZPz1q+moA21EtN3P3\n",
       "HhBF7TSc422KtG+cwGEv5FQkGa6fSWwMSN9VudvvOKQnxZXr+UA/2FghNTaXGm35eMt0pFUMvWW4\n",
       "/tH11lCyM6jtLoArmmeAW8lldTM/vv9sXmgyLfpZa2Gkxrgy1Qf0Y0z7bN/e/ZpEcga/TznfAAAA\n",
       "0QGeOXRCvwCGubGcnnmsAD+di5M8xpJKBcK15CxUdWLsv6CrfniuYdD8fUN4V76Yw2IK8dqqJp1x\n",
       "xJVFKxmtDQeIlYO5m7cou2LB+CXEDtggB63STKM7aQPM5cYvsRjjLBBp38MCQ+nkW4W+2OFppCht\n",
       "vy1Q/rJzd4uAoiyS/7anRaH6tVLIouHaqYFNrzVxaWld5tV7MdDnLxIof7MXSjCAAnhzVAtQ5l+k\n",
       "xWIQ1tOoljPHK4vSlWE6OdNS69ujHJBmgKVwEZw8jYtA7xt3SH2AAAAA0gGeO2pCvwCG67lRzoFH\n",
       "XTCDX9Y61ACZI170R7cpQLhh5ykfSdlmrBmGyxeCQgaOabgoCEX44x2/gvZou8PqBDKPOEe0FuDH\n",
       "DO3YwftmCJ1AS65/+VfcL9UT0kneBzQZ2EVRrDZNuiBUz98spMsgjEwI9B6FjrNvMV6A98bZg4VZ\n",
       "QQV9W3lGDHqlWF8t/zG2PGr/nPsQPiv74+ctTVUUR+PG7lNJykMJMNjDox1Osvlz6P2cVGrG9HOm\n",
       "pde3RjkgzQFhRGq541uzDxZVcmtsiEK8IQAAAM9Bmj1JqEFsmUwIV//+OEAE/+G4zcqdHnWczmAE\n",
       "7ZzuTb4kP5dtEHhuYzTC+Lbbfo6ubi+WFM+0YevxJ4qDyIT4bWZ6dtI0sfkCcvPJnfJnWvlhAw1O\n",
       "JygEGsYaps82f1koBxZIekIrwjhcx30504OrqNjTFbVV9dGl35c41L7woaTEGyeWP9pUQmcFl8lf\n",
       "VhZI0oXSkBdpQOLrKdqOA+4uRfzDLCOHfx0c6al17nvqUZ0wTXHkfqmrO9CuoF5MKcOOnOt2S2vD\n",
       "xY4+USK4S4EAAAR+bW9vdgAAAGxtdmhkAAAAAAAAAAAAAAAAAAAD6AAABdwAAQAAAQAAAAAAAAAA\n",
       "AAAAAAEAAAAAAAAAAAAAAAAAAAABAAAAAAAAAAAAAAAAAABAAAAAAAAAAAAAAAAAAAAAAAAAAAAA\n",
       "AAAAAAAAAAAAAgAAA6h0cmFrAAAAXHRraGQAAAADAAAAAAAAAAAAAAABAAAAAAAABdwAAAAAAAAA\n",
       "AAAAAAAAAAAAAAEAAAAAAAAAAAAAAAAAAAABAAAAAAAAAAAAAAAAAABAAAAAAbAAAAEgAAAAAAAk\n",
       "ZWR0cwAAABxlbHN0AAAAAAAAAAEAAAXcAAAEAAABAAAAAAMgbWRpYQAAACBtZGhkAAAAAAAAAAAA\n",
       "AAAAAAAoAAAAPABVxAAAAAAALWhkbHIAAAAAAAAAAHZpZGUAAAAAAAAAAAAAAABWaWRlb0hhbmRs\n",
       "ZXIAAAACy21pbmYAAAAUdm1oZAAAAAEAAAAAAAAAAAAAACRkaW5mAAAAHGRyZWYAAAAAAAAAAQAA\n",
       "AAx1cmwgAAAAAQAAAotzdGJsAAAAs3N0c2QAAAAAAAAAAQAAAKNhdmMxAAAAAAAAAAEAAAAAAAAA\n",
       "AAAAAAAAAAAAAbABIABIAAAASAAAAAAAAAABAAAAAAAAAAAAAAAAAAAAAAAAAAAAAAAAAAAAAAAA\n",
       "AAAAGP//AAAAMWF2Y0MBZAAV/+EAGGdkABWs2UGwloQAAAMABAAAAwCgPFi2WAEABmjr48siwAAA\n",
       "ABx1dWlka2hA8l8kT8W6OaUbzwMj8wAAAAAAAAAYc3R0cwAAAAAAAAABAAAAHgAAAgAAAAAUc3Rz\n",
       "cwAAAAAAAAABAAAAAQAAAOhjdHRzAAAAAAAAABsAAAACAAAEAAAAAAEAAAoAAAAAAQAABAAAAAAB\n",
       "AAAAAAAAAAEAAAIAAAAAAQAACgAAAAABAAAEAAAAAAEAAAAAAAAAAQAAAgAAAAADAAAEAAAAAAEA\n",
       "AAoAAAAAAQAABAAAAAABAAAAAAAAAAEAAAIAAAAAAQAACgAAAAABAAAEAAAAAAEAAAAAAAAAAQAA\n",
       "AgAAAAABAAAKAAAAAAEAAAQAAAAAAQAAAAAAAAABAAACAAAAAAEAAAoAAAAAAQAABAAAAAABAAAA\n",
       "AAAAAAEAAAIAAAAAAQAABAAAAAAcc3RzYwAAAAAAAAABAAAAAQAAAB4AAAABAAAAjHN0c3oAAAAA\n",
       "AAAAAAAAAB4AABqIAAACWwAAAzYAAAF1AAAA7AAAAPoAAAK5AAABNwAAAMsAAADSAAABQQAAAVsA\n",
       "AAEvAAACGAAAAREAAADLAAAA1wAAAhgAAAEPAAAAvQAAAMoAAAGpAAAA/gAAALQAAAC1AAABVwAA\n",
       "AO4AAADVAAAA1gAAANMAAAAUc3RjbwAAAAAAAAABAAAALAAAAGJ1ZHRhAAAAWm1ldGEAAAAAAAAA\n",
       "IWhkbHIAAAAAAAAAAG1kaXJhcHBsAAAAAAAAAAAAAAAALWlsc3QAAAAlqXRvbwAAAB1kYXRhAAAA\n",
       "AQAAAABMYXZmNTcuNTIuMTAw\n",
       "\">\n",
       "  Your browser does not support the video tag.\n",
       "</video>"
      ],
      "text/plain": [
       "<IPython.core.display.HTML object>"
      ]
     },
     "execution_count": 35,
     "metadata": {},
     "output_type": "execute_result"
    }
   ],
   "source": [
    "HTML(anim.to_html5_video())"
   ]
  },
  {
   "cell_type": "code",
   "execution_count": null,
   "metadata": {
    "collapsed": true
   },
   "outputs": [],
   "source": []
  }
 ],
 "metadata": {
  "anaconda-cloud": {},
  "kernelspec": {
   "display_name": "Python [default]",
   "language": "python",
   "name": "python3"
  },
  "language_info": {
   "codemirror_mode": {
    "name": "ipython",
    "version": 3
   },
   "file_extension": ".py",
   "mimetype": "text/x-python",
   "name": "python",
   "nbconvert_exporter": "python",
   "pygments_lexer": "ipython3",
   "version": "3.5.2"
  }
 },
 "nbformat": 4,
 "nbformat_minor": 1
}
