{
 "cells": [
  {
   "cell_type": "code",
   "execution_count": 1,
   "metadata": {
    "collapsed": true
   },
   "outputs": [],
   "source": [
    "import sympy\n",
    "sympy.init_printing()\n",
    "\n",
    "(u_max, u_star, rho_max, \n",
    " rho_star, A, B) = sympy.symbols('u_max u_star rho_max rho_star A B')"
   ]
  },
  {
   "cell_type": "code",
   "execution_count": 2,
   "metadata": {
    "collapsed": true
   },
   "outputs": [],
   "source": [
    "eq1 = sympy.Eq( 0, u_max*rho_max*(1 - A*rho_max-B*rho_max**2) )\n",
    "eq2 = sympy.Eq( 0, u_max*(1 - 2*A*rho_star-3*B*rho_star**2) )\n",
    "eq3 = sympy.Eq( u_star, u_max*(1 - A*rho_star - B*rho_star**2) )"
   ]
  },
  {
   "cell_type": "code",
   "execution_count": 3,
   "metadata": {
    "collapsed": false
   },
   "outputs": [
    {
     "data": {
      "image/png": "[encoded data removed]",
      "text/latex": [
       "$$0 = \\rho_{max} u_{max} \\left(- A \\rho_{max} - B \\rho_{max}^{2} + 1\\right)$$"
      ],
      "text/plain": [
       "              ⎛                2    ⎞\n",
       "0 = ρₘₐₓ⋅uₘₐₓ⋅⎝-A⋅ρₘₐₓ - B⋅ρₘₐₓ  + 1⎠"
      ]
     },
     "execution_count": 3,
     "metadata": {},
     "output_type": "execute_result"
    }
   ],
   "source": [
    "eq1"
   ]
  },
  {
   "cell_type": "code",
   "execution_count": 4,
   "metadata": {
    "collapsed": false
   },
   "outputs": [
    {
     "data": {
      "image/png": "[encoded data removed]",
      "text/latex": [
       "$$0 = u_{max} \\left(- 2 A \\rho_{star} - 3 B \\rho_{star}^{2} + 1\\right)$$"
      ],
      "text/plain": [
       "         ⎛                      2    ⎞\n",
       "0 = uₘₐₓ⋅⎝-2⋅A⋅ρₛₜₐᵣ - 3⋅B⋅ρₛₜₐᵣ  + 1⎠"
      ]
     },
     "execution_count": 4,
     "metadata": {},
     "output_type": "execute_result"
    }
   ],
   "source": [
    "eq2"
   ]
  },
  {
   "cell_type": "code",
   "execution_count": 5,
   "metadata": {
    "collapsed": false
   },
   "outputs": [
    {
     "data": {
      "image/png": "[encoded data removed]",
      "text/latex": [
       "$$u_{star} = u_{max} \\left(- A \\rho_{star} - B \\rho_{star}^{2} + 1\\right)$$"
      ],
      "text/plain": [
       "             ⎛                  2    ⎞\n",
       "uₛₜₐᵣ = uₘₐₓ⋅⎝-A⋅ρₛₜₐᵣ - B⋅ρₛₜₐᵣ  + 1⎠"
      ]
     },
     "execution_count": 5,
     "metadata": {},
     "output_type": "execute_result"
    }
   ],
   "source": [
    "eq3"
   ]
  },
  {
   "cell_type": "code",
   "execution_count": 6,
   "metadata": {
    "collapsed": false
   },
   "outputs": [
    {
     "data": {
      "image/png": "[encoded data removed]",
      "text/latex": [
       "$$\\left(0 = u_{max} \\left(- 2 A \\rho_{star} - 3 B \\rho_{star}^{2} + 1\\right)\\right) - 3 \\left(u_{star} = u_{max} \\left(- A \\rho_{star} - B \\rho_{star}^{2} + 1\\right)\\right)$$"
      ],
      "text/plain": [
       "⎛         ⎛                      2    ⎞⎞     ⎛             ⎛                  \n",
       "⎝0 = uₘₐₓ⋅⎝-2⋅A⋅ρₛₜₐᵣ - 3⋅B⋅ρₛₜₐᵣ  + 1⎠⎠ - 3⋅⎝uₛₜₐᵣ = uₘₐₓ⋅⎝-A⋅ρₛₜₐᵣ - B⋅ρₛₜₐᵣ\n",
       "\n",
       "2    ⎞⎞\n",
       "  + 1⎠⎠"
      ]
     },
     "execution_count": 6,
     "metadata": {},
     "output_type": "execute_result"
    }
   ],
   "source": [
    "eq2 - 3*eq3"
   ]
  },
  {
   "cell_type": "code",
   "execution_count": 8,
   "metadata": {
    "collapsed": false
   },
   "outputs": [
    {
     "data": {
      "image/png": "[encoded data removed]",
      "text/latex": [
       "$$- 3 u_{star} = u_{max} \\left(- 2 A \\rho_{star} - 3 B \\rho_{star}^{2} + 1\\right) - 3 u_{max} \\left(- A \\rho_{star} - B \\rho_{star}^{2} + 1\\right)$$"
      ],
      "text/plain": [
       "                ⎛                      2    ⎞          ⎛                  2   \n",
       "-3⋅uₛₜₐᵣ = uₘₐₓ⋅⎝-2⋅A⋅ρₛₜₐᵣ - 3⋅B⋅ρₛₜₐᵣ  + 1⎠ - 3⋅uₘₐₓ⋅⎝-A⋅ρₛₜₐᵣ - B⋅ρₛₜₐᵣ  + \n",
       "\n",
       " ⎞\n",
       "1⎠"
      ]
     },
     "execution_count": 8,
     "metadata": {},
     "output_type": "execute_result"
    }
   ],
   "source": [
    "eq4 = sympy.Eq(eq2.lhs - 3*eq3.lhs, eq2.rhs - 3*eq3.rhs)\n",
    "eq4\n"
   ]
  },
  {
   "cell_type": "code",
   "execution_count": 9,
   "metadata": {
    "collapsed": false
   },
   "outputs": [
    {
     "data": {
      "image/png": "[encoded data removed]",
      "text/latex": [
       "$$3 u_{star} = - u_{max} \\left(A \\rho_{star} - 2\\right)$$"
      ],
      "text/plain": [
       "3⋅uₛₜₐᵣ = -uₘₐₓ⋅(A⋅ρₛₜₐᵣ - 2)"
      ]
     },
     "execution_count": 9,
     "metadata": {},
     "output_type": "execute_result"
    }
   ],
   "source": [
    "eq4.simplify()"
   ]
  },
  {
   "cell_type": "code",
   "execution_count": 10,
   "metadata": {
    "collapsed": false
   },
   "outputs": [
    {
     "data": {
      "image/png": "[encoded data removed]",
      "text/latex": [
       "$$- 3 u_{star} = u_{max} \\left(- 2 A \\rho_{star} - 3 B \\rho_{star}^{2} + 1\\right) - 3 u_{max} \\left(- A \\rho_{star} - B \\rho_{star}^{2} + 1\\right)$$"
      ],
      "text/plain": [
       "                ⎛                      2    ⎞          ⎛                  2   \n",
       "-3⋅uₛₜₐᵣ = uₘₐₓ⋅⎝-2⋅A⋅ρₛₜₐᵣ - 3⋅B⋅ρₛₜₐᵣ  + 1⎠ - 3⋅uₘₐₓ⋅⎝-A⋅ρₛₜₐᵣ - B⋅ρₛₜₐᵣ  + \n",
       "\n",
       " ⎞\n",
       "1⎠"
      ]
     },
     "execution_count": 10,
     "metadata": {},
     "output_type": "execute_result"
    }
   ],
   "source": [
    "eq4"
   ]
  },
  {
   "cell_type": "code",
   "execution_count": 11,
   "metadata": {
    "collapsed": false
   },
   "outputs": [
    {
     "data": {
      "image/png": "[encoded data removed]",
      "text/latex": [
       "$$- 3 u_{star} = A \\rho_{star} u_{max} - 2 u_{max}$$"
      ],
      "text/plain": [
       "-3⋅uₛₜₐᵣ = A⋅ρₛₜₐᵣ⋅uₘₐₓ - 2⋅uₘₐₓ"
      ]
     },
     "execution_count": 11,
     "metadata": {},
     "output_type": "execute_result"
    }
   ],
   "source": [
    "eq4.expand()"
   ]
  },
  {
   "cell_type": "code",
   "execution_count": 12,
   "metadata": {
    "collapsed": false
   },
   "outputs": [
    {
     "data": {
      "image/png": "[encoded data removed]",
      "text/latex": [
       "$$\\frac{1}{A u_{max}} \\left(2 u_{max} - 3 u_{star}\\right)$$"
      ],
      "text/plain": [
       "2⋅uₘₐₓ - 3⋅uₛₜₐᵣ\n",
       "────────────────\n",
       "     A⋅uₘₐₓ     "
      ]
     },
     "execution_count": 12,
     "metadata": {},
     "output_type": "execute_result"
    }
   ],
   "source": [
    "rho_sol = sympy.solve(eq4,rho_star)[0]\n",
    "rho_sol"
   ]
  },
  {
   "cell_type": "code",
   "execution_count": 13,
   "metadata": {
    "collapsed": false
   },
   "outputs": [
    {
     "data": {
      "image/png": "[encoded data removed]",
      "text/latex": [
       "$$\\frac{1}{\\rho_{max}^{2}} \\left(- A \\rho_{max} + 1\\right)$$"
      ],
      "text/plain": [
       "-A⋅ρₘₐₓ + 1\n",
       "───────────\n",
       "       2   \n",
       "   ρₘₐₓ    "
      ]
     },
     "execution_count": 13,
     "metadata": {},
     "output_type": "execute_result"
    }
   ],
   "source": [
    "B_sol = sympy.solve(eq1,B)[0]\n",
    "B_sol"
   ]
  },
  {
   "cell_type": "code",
   "execution_count": 14,
   "metadata": {
    "collapsed": false
   },
   "outputs": [
    {
     "data": {
      "image/png": "[encoded data removed]",
      "text/latex": [
       "$$0 = u_{max} \\left(1 - \\frac{1}{u_{max}} \\left(4 u_{max} - 6 u_{star}\\right) - \\frac{3 \\left(2 u_{max} - 3 u_{star}\\right)^{2}}{A^{2} \\rho_{max}^{2} u_{max}^{2}} \\left(- A \\rho_{max} + 1\\right)\\right)$$"
      ],
      "text/plain": [
       "         ⎛                                               2              ⎞\n",
       "         ⎜    2⋅(2⋅uₘₐₓ - 3⋅uₛₜₐᵣ)   3⋅(2⋅uₘₐₓ - 3⋅uₛₜₐᵣ) ⋅(-A⋅ρₘₐₓ + 1)⎟\n",
       "0 = uₘₐₓ⋅⎜1 - ──────────────────── - ───────────────────────────────────⎟\n",
       "         ⎜            uₘₐₓ                       2     2     2          ⎟\n",
       "         ⎝                                      A ⋅ρₘₐₓ ⋅uₘₐₓ           ⎠"
      ]
     },
     "execution_count": 14,
     "metadata": {},
     "output_type": "execute_result"
    }
   ],
   "source": [
    "quadA = eq2.subs([(rho_star, rho_sol), (B,B_sol)])\n",
    "quadA"
   ]
  },
  {
   "cell_type": "code",
   "execution_count": 15,
   "metadata": {
    "collapsed": false
   },
   "outputs": [
    {
     "data": {
      "image/png": "[encoded data removed]",
      "text/latex": [
       "$$- 3 u_{max} + 6 u_{star} + \\frac{3 \\left(2 u_{max} - 3 u_{star}\\right)^{2}}{A \\rho_{max} u_{max}} - \\frac{3 \\left(2 u_{max} - 3 u_{star}\\right)^{2}}{A^{2} \\rho_{max}^{2} u_{max}} = 0$$"
      ],
      "text/plain": [
       "                                        2                       2    \n",
       "                    3⋅(2⋅uₘₐₓ - 3⋅uₛₜₐᵣ)    3⋅(2⋅uₘₐₓ - 3⋅uₛₜₐᵣ)     \n",
       "-3⋅uₘₐₓ + 6⋅uₛₜₐᵣ + ───────────────────── - ───────────────────── = 0\n",
       "                         A⋅ρₘₐₓ⋅uₘₐₓ             2     2             \n",
       "                                                A ⋅ρₘₐₓ ⋅uₘₐₓ        "
      ]
     },
     "execution_count": 15,
     "metadata": {},
     "output_type": "execute_result"
    }
   ],
   "source": [
    "quadA.simplify()"
   ]
  },
  {
   "cell_type": "code",
   "execution_count": 16,
   "metadata": {
    "collapsed": true
   },
   "outputs": [],
   "source": [
    "A_sol = sympy.solve(quadA, A)"
   ]
  },
  {
   "cell_type": "code",
   "execution_count": 18,
   "metadata": {
    "collapsed": false
   },
   "outputs": [
    {
     "data": {
      "image/png": "[encoded data removed]",
      "text/latex": [
       "$$\\frac{1}{2 \\rho_{max} u_{max} \\left(u_{max} - 2 u_{star}\\right)} \\left(\\sqrt{- u_{star} \\left(4 u_{max} - 9 u_{star}\\right)} \\left(- 2 u_{max} + 3 u_{star}\\right) + \\left(2 u_{max} - 3 u_{star}\\right)^{2}\\right)$$"
      ],
      "text/plain": [
       "  ___________________________                                         2\n",
       "╲╱ -uₛₜₐᵣ⋅(4⋅uₘₐₓ - 9⋅uₛₜₐᵣ) ⋅(-2⋅uₘₐₓ + 3⋅uₛₜₐᵣ) + (2⋅uₘₐₓ - 3⋅uₛₜₐᵣ) \n",
       "───────────────────────────────────────────────────────────────────────\n",
       "                      2⋅ρₘₐₓ⋅uₘₐₓ⋅(uₘₐₓ - 2⋅uₛₜₐᵣ)                     "
      ]
     },
     "execution_count": 18,
     "metadata": {},
     "output_type": "execute_result"
    }
   ],
   "source": [
    "A_sol[0]"
   ]
  },
  {
   "cell_type": "code",
   "execution_count": 19,
   "metadata": {
    "collapsed": false
   },
   "outputs": [
    {
     "data": {
      "image/png": "[encoded data removed]",
      "text/latex": [
       "$$\\frac{1}{2 \\rho_{max} u_{max} \\left(u_{max} - 2 u_{star}\\right)} \\left(2 u_{max} - 3 u_{star}\\right) \\left(2 u_{max} - 3 u_{star} + \\sqrt{- u_{star} \\left(4 u_{max} - 9 u_{star}\\right)}\\right)$$"
      ],
      "text/plain": [
       "                   ⎛                     ___________________________⎞\n",
       "(2⋅uₘₐₓ - 3⋅uₛₜₐᵣ)⋅⎝2⋅uₘₐₓ - 3⋅uₛₜₐᵣ + ╲╱ -uₛₜₐᵣ⋅(4⋅uₘₐₓ - 9⋅uₛₜₐᵣ) ⎠\n",
       "─────────────────────────────────────────────────────────────────────\n",
       "                     2⋅ρₘₐₓ⋅uₘₐₓ⋅(uₘₐₓ - 2⋅uₛₜₐᵣ)                    "
      ]
     },
     "execution_count": 19,
     "metadata": {},
     "output_type": "execute_result"
    }
   ],
   "source": [
    "A_sol[1]"
   ]
  },
  {
   "cell_type": "code",
   "execution_count": 20,
   "metadata": {
    "collapsed": false
   },
   "outputs": [
    {
     "data": {
      "image/png": "[encoded data removed]",
      "text/latex": [
       "$$-0.0171107219255619$$"
      ],
      "text/plain": [
       "-0.0171107219255619"
      ]
     },
     "execution_count": 20,
     "metadata": {},
     "output_type": "execute_result"
    }
   ],
   "source": [
    "aval = A_sol[0].evalf(subs={u_star: 0.7, u_max:1.0, rho_max:10.0} )\n",
    "aval"
   ]
  },
  {
   "cell_type": "code",
   "execution_count": 21,
   "metadata": {
    "collapsed": false
   },
   "outputs": [
    {
     "data": {
      "image/png": "[encoded data removed]",
      "text/latex": [
       "$$0.0146107219255619$$"
      ],
      "text/plain": [
       "0.0146107219255619"
      ]
     },
     "execution_count": 21,
     "metadata": {},
     "output_type": "execute_result"
    }
   ],
   "source": [
    "A_sol[1].evalf(subs={u_star: 0.7, u_max:1.0, rho_max:10.0} )"
   ]
  },
  {
   "cell_type": "code",
   "execution_count": 22,
   "metadata": {
    "collapsed": false
   },
   "outputs": [
    {
     "data": {
      "image/png": "[encoded data removed]",
      "text/latex": [
       "$$0.0117110721925562$$"
      ],
      "text/plain": [
       "0.0117110721925562"
      ]
     },
     "execution_count": 22,
     "metadata": {},
     "output_type": "execute_result"
    }
   ],
   "source": [
    "bval = B_sol.evalf(subs={rho_max:10.0, A:aval} )\n",
    "bval"
   ]
  },
  {
   "cell_type": "code",
   "execution_count": 23,
   "metadata": {
    "collapsed": true
   },
   "outputs": [],
   "source": [
    "sympy.init_printing(use_latex=False)"
   ]
  },
  {
   "cell_type": "code",
   "execution_count": 24,
   "metadata": {
    "collapsed": false
   },
   "outputs": [
    {
     "name": "stdout",
     "output_type": "stream",
     "text": [
      "<class 'sympy.core.symbol.Symbol'> <class 'sympy.core.symbol.Symbol'>\n"
     ]
    }
   ],
   "source": [
    "print(type(rho_max), type(u_max))"
   ]
  },
  {
   "cell_type": "code",
   "execution_count": 25,
   "metadata": {
    "collapsed": true
   },
   "outputs": [],
   "source": [
    "rho_max = 10.\n",
    "u_max = 1."
   ]
  },
  {
   "cell_type": "code",
   "execution_count": 26,
   "metadata": {
    "collapsed": true
   },
   "outputs": [],
   "source": [
    "def computeF(u_max, rho, aval, bval):\n",
    "    return u_max*rho*(1 - aval*rho-bval*rho**2)"
   ]
  },
  {
   "cell_type": "code",
   "execution_count": 27,
   "metadata": {
    "collapsed": true
   },
   "outputs": [],
   "source": [
    "import numpy\n",
    "from matplotlib import pyplot\n",
    "%matplotlib inline\n",
    "from matplotlib import rcParams\n",
    "rcParams['font.family'] = 'serif'\n",
    "rcParams['font.size'] = 16"
   ]
  },
  {
   "cell_type": "code",
   "execution_count": 28,
   "metadata": {
    "collapsed": true
   },
   "outputs": [],
   "source": [
    "def rho_green_light(nx, rho_light):\n",
    "    \"\"\"Computes \"green light\" initial condition with shock, and linear distribution behind\n",
    "\n",
    "    Parameters\n",
    "    ----------\n",
    "    nx        : int\n",
    "        Number of grid points in x\n",
    "    rho_light : float\n",
    "        Density of cars at stoplight\n",
    "\n",
    "    Returns\n",
    "    -------\n",
    "    rho_initial: array of floats\n",
    "        Array with initial values of density\n",
    "    \"\"\"    \n",
    "    rho_initial = numpy.arange(nx)*2./nx*rho_light  # Before stoplight\n",
    "    rho_initial[int((nx-1)/2):] = 0\n",
    "    \n",
    "    return rho_initial"
   ]
  },
  {
   "cell_type": "code",
   "execution_count": 29,
   "metadata": {
    "collapsed": true
   },
   "outputs": [],
   "source": [
    "#Basic initial condition parameters\n",
    "#defining grid size, time steps\n",
    "nx = 81\n",
    "nt = 30\n",
    "dx = 4.0/(nx-1)\n",
    "\n",
    "x = numpy.linspace(0,4,nx)\n",
    "\n",
    "rho_light = 5.5"
   ]
  },
  {
   "cell_type": "code",
   "execution_count": 30,
   "metadata": {
    "collapsed": true
   },
   "outputs": [],
   "source": [
    "rho_initial = rho_green_light(nx, rho_light)"
   ]
  },
  {
   "cell_type": "code",
   "execution_count": 31,
   "metadata": {
    "collapsed": false
   },
   "outputs": [
    {
     "data": {
      "image/png": "[encoded data removed]",
      "text/plain": [
       "<matplotlib.figure.Figure at 0x7fe4108a84a8>"
      ]
     },
     "metadata": {},
     "output_type": "display_data"
    }
   ],
   "source": [
    "pyplot.plot(x, rho_initial, color='#003366', ls='-', lw=3)\n",
    "pyplot.ylim(-0.5,11.);"
   ]
  },
  {
   "cell_type": "code",
   "execution_count": 32,
   "metadata": {
    "collapsed": true
   },
   "outputs": [],
   "source": [
    "def ftbs(rho, nt, dt, dx, rho_max, u_max):\n",
    "    \"\"\" Computes the solution with forward in time, backward in space\n",
    "    \n",
    "    Parameters\n",
    "    ----------\n",
    "    rho    : array of floats\n",
    "            Density at current time-step\n",
    "    nt     : int\n",
    "            Number of time steps\n",
    "    dt     : float\n",
    "            Time-step size\n",
    "    dx     : float\n",
    "            Mesh spacing\n",
    "    rho_max: float\n",
    "            Maximum allowed car density\n",
    "    u_max  : float\n",
    "            Speed limit\n",
    "    \n",
    "    Returns\n",
    "    -------\n",
    "    rho_n : array of floats\n",
    "            Density after nt time steps at every point x\n",
    "    \"\"\"\n",
    "    \n",
    "    #initialize our results array with dimensions nt by nx\n",
    "    rho_n = numpy.zeros((nt,len(rho))) \n",
    "    \n",
    "    #copy the initial u array into each row of our new array\n",
    "    rho_n[0,:] = rho.copy()              \n",
    "    \n",
    "    for t in range(1,nt):\n",
    "        F = computeF(u_max, rho, aval, bval)\n",
    "        rho_n[t,1:] = rho[1:] - dt/dx*(F[1:]-F[:-1])\n",
    "        rho_n[t,0] = rho[0]\n",
    "        rho_n[t,-1] = rho[-1]\n",
    "        rho = rho_n[t].copy()\n",
    "\n",
    "    return rho_n"
   ]
  },
  {
   "cell_type": "code",
   "execution_count": 33,
   "metadata": {
    "collapsed": true
   },
   "outputs": [],
   "source": [
    "sigma = 1.\n",
    "dt = sigma*dx/u_max\n",
    "\n",
    "rho_n = ftbs(rho_initial, nt, dt, dx, rho_max, u_max)"
   ]
  },
  {
   "cell_type": "code",
   "execution_count": 34,
   "metadata": {
    "collapsed": true
   },
   "outputs": [],
   "source": [
    "from matplotlib import animation\n",
    "from IPython.display import HTML"
   ]
  },
  {
   "cell_type": "code",
   "execution_count": 35,
   "metadata": {
    "collapsed": false
   },
   "outputs": [
    {
     "data": {
      "image/png": "[encoded data removed]",
      "text/plain": [
       "<matplotlib.figure.Figure at 0x7fe4109d0390>"
      ]
     },
     "metadata": {},
     "output_type": "display_data"
    }
   ],
   "source": [
    "fig = pyplot.figure();\n",
    "ax = pyplot.axes(xlim=(0,4),ylim=(-1,8),xlabel=('Distance'),ylabel=('Traffic density'));\n",
    "line, = ax.plot([],[],color='#003366', lw=2);\n",
    "\n",
    "def animate(data):\n",
    "    x = numpy.linspace(0,4,nx)\n",
    "    y = data\n",
    "    line.set_data(x,y)\n",
    "    return line,\n",
    "\n",
    "anim = animation.FuncAnimation(fig, animate, frames=rho_n, interval=50)"
   ]
  },
  {
   "cell_type": "code",
   "execution_count": 36,
   "metadata": {
    "collapsed": false
   },
   "outputs": [
    {
     "data": {
      "text/html": [
       "<video width=\"432.0\" height=\"288.0\" controls autoplay loop>\n",
       "  <source type=\"video/mp4\" src=\"data:video/mp4;base64,AAAAHGZ0eXBNNFYgAAACAGlzb21pc28yYXZjMQAAAAhmcmVlAAA9i21kYXQAAAKuBgX//6rcRem9\n",
       "5tlIt5Ys2CDZI+7veDI2NCAtIGNvcmUgMTQ4IHIyNjQzIDVjNjU3MDQgLSBILjI2NC9NUEVHLTQg\n",
       "QVZDIGNvZGVjIC0gQ29weWxlZnQgMjAwMy0yMDE1IC0gaHR0cDovL3d3dy52aWRlb2xhbi5vcmcv\n",
       "eDI2NC5odG1sIC0gb3B0aW9uczogY2FiYWM9MSByZWY9MyBkZWJsb2NrPTE6MDowIGFuYWx5c2U9\n",
       "MHgzOjB4MTEzIG1lPWhleCBzdWJtZT03IHBzeT0xIHBzeV9yZD0xLjAwOjAuMDAgbWl4ZWRfcmVm\n",
       "PTEgbWVfcmFuZ2U9MTYgY2hyb21hX21lPTEgdHJlbGxpcz0xIDh4OGRjdD0xIGNxbT0wIGRlYWR6\n",
       "b25lPTIxLDExIGZhc3RfcHNraXA9MSBjaHJvbWFfcXBfb2Zmc2V0PS0yIHRocmVhZHM9OSBsb29r\n",
       "YWhlYWRfdGhyZWFkcz0xIHNsaWNlZF90aHJlYWRzPTAgbnI9MCBkZWNpbWF0ZT0xIGludGVybGFj\n",
       "ZWQ9MCBibHVyYXlfY29tcGF0PTAgY29uc3RyYWluZWRfaW50cmE9MCBiZnJhbWVzPTMgYl9weXJh\n",
       "bWlkPTIgYl9hZGFwdD0xIGJfYmlhcz0wIGRpcmVjdD0xIHdlaWdodGI9MSBvcGVuX2dvcD0wIHdl\n",
       "aWdodHA9MiBrZXlpbnQ9MjUwIGtleWludF9taW49MjAgc2NlbmVjdXQ9NDAgaW50cmFfcmVmcmVz\n",
       "aD0wIHJjX2xvb2thaGVhZD00MCByYz1jcmYgbWJ0cmVlPTEgY3JmPTIzLjAgcWNvbXA9MC42MCBx\n",
       "cG1pbj0wIHFwbWF4PTY5IHFwc3RlcD00IGlwX3JhdGlvPTEuNDAgYXE9MToxLjAwAIAAABc+ZYiE\n",
       "ADv//vdOvwKbRZdqA5JXCvbKpCZZuVJrAfKmAAADAAARsIY/aJvYgOIA4Z/2ZyXw+295iesdRypa\n",
       "JELSRFfi0i1d++b3067/TvzkpCnGQ58iqQhIKnv2jOCJJk//h1/lDyZvegcggMoDNGAqJA1100zn\n",
       "8aPxQX6g9gZHIdcKzwO+OAlvNYEBIxoNiNeIjXR5F9co0rCAcCrTc8yZlFcKIekSMClDhb14BzVv\n",
       "t7NULK2DCdeEMhyNw2Q+F1Es3uHdipeVY7fasfcja68HIvEi1+cxiDb+ZDqUfzkaa124h2HUmt9I\n",
       "Sc8glqLFm33fg7pZfA2j1R2rUl/03Twh3a1u2+E5YQanL1dbA3ZGjl+zGOp7/MKGPMJw12kH1Nhs\n",
       "2oQiI4tn1qxBwgvQlfQPBDkt/eaaqATC6VuImVskb6emy1sGgWbvbj/EbDL3flfjvh22FChoFOYd\n",
       "Q7tN4VIul+P3uI5IMlVdDaSLztle0eLv34l8+578x54aCt2HhgzHJnU1w2Ycb9xfiGFHAG+EcZPr\n",
       "Fep/wgy99+jc9vPL7U0N/oLpOvR1T3p1jjR+9lP+odd1oiQvvKV6ywL3gj1thMBMNWYpYuSNkynT\n",
       "PJ+mCtWXNCaNHwl6pKWD2JeYjexql+DNCrKlHS9/uN++dLMPOjwBrUiIvRTxxotcESJ9PV6+YgNo\n",
       "XqAiUPhJhRrjunkYpqwAoNd91TlqO3PLrIcTarivHCRDjS9YjjffX+hPFvvQ/udxF6bpNdGI4Vp7\n",
       "hqnnKZMDvPNLi8g0W532tPC62kPiLhYrsnVgb7jRt6UnVj1kxa1CdhIKyfXbTdzFJbhxFknEFJdF\n",
       "LwuMmbYeqt63Cs92rqQdbhOt40cknV90vnEVIAJoVBILdFZ9UK8c002uHd+TCLz5x4YcoDgVo5nP\n",
       "s9tYaKtgwRv+PlWF4XZSKZ6MKVUtHcKhToKtW8Io0j0IR0YVGpZ3Tsm72hMA0OhLxCV56VZ1fExJ\n",
       "MXhSpp6GaWxM0mPcjNVNbvkdTd8xX/+HBd9QXFcd8lEFp8Q+qz/AD7NZXGzdWq0B6m6BtBzBmWam\n",
       "2eylSIqJgc+C1JV1l4H67GTaL4wXR/G3d/ojIV2BtdqFw8KZ8rUTQbhFaB/lwhSGuUMT1KixKrwC\n",
       "gp8H/yZWzO8wK1yaQQ5uSi8n3PdfKgj1MXtiV/XC2JQw4P//TYNwt8x03NoFbkIAAofQGeFz1baL\n",
       "8qUymvereeM8TSTegpirx1B0Sq0Ad0dtJGdV2mGGo8hkUJ7RTcpK+R67Fg0RPB7ZZtei/pbib3fz\n",
       "qPn1XoDLluWwQWq8y9CHgrp0enT/f9ZdfuvWhsgRZgImOF5xjpYPhJUg71iGuh+nov3ZgMeb4vQj\n",
       "co0G2ZrtYN8Vwx35V1pxm4FQTBgJhR5gg23/aRpQwdg++9Ey50rZCAOf5aoh3TDiMw2nk26DLumz\n",
       "fzBjc58K8AZyzk4f5vIqFtrl04NRYaBe0dSsui7qGCg0tlXRxqrJPzsx2NSJkrqaiHuf4HxRBg6u\n",
       "8RiQUCu4tb27WdxwLFqQB8Sqmn1tvDi1JZfvVhETJye7f4a2xZQ+7t9rVaQYsaADbPKpRxVLuYvQ\n",
       "qfgCWG3nsjtxfjToG/9wW47VqSzmnoQdmP56UYg6rZynX4ZTY3ZrrAOIA2tuDA5PCsgUsdTDIwW8\n",
       "07dqn2sP5qqUncnC+blIlpw96/P2vL6RsXjDyYgciN2Xytvsb4KREL41iCiNlZk4qPU1WTpGAiHj\n",
       "DVaiYVV37oMrEj0koapb3Nk/Io0Qb5GqlmfSm4PBGfdLLONhY70/kMQ8CxRZFH4xx68oY+ymsnfv\n",
       "5iqjOesUqWFiwMKl6OCYwEIyhajTKmM10ORdqt0xqjJzeTXyUIXyeEX/gPkYmGQqFgphJspyZIhh\n",
       "GS94Tlgwvyk/xX8IhAP3JgeVBPmQyE84aFEe5G61gQ/AxRAFWteXQ3wtJq/US1xgd/1fwsL1CNEB\n",
       "+BFGNuun6JR8HHvWIO3Hr3SLzjuEy7tReWdHsdcIhG0JmbzPrBdXgWMUo8pKV1LPW6K4QOn6ri8J\n",
       "obChHk57DDoblzjN89bbvfASpp365i6z3LfmL738ZO1ZDQ2kToUHTU59Ua6eZPfYhIFXa0CFSVzL\n",
       "15u5PdI9DVJZEwxAm9XsV6bSNtYUogTtCRd5C9HAsaq37JOk/WZjH1gegBHHzJXpiPq5QPfxtlvV\n",
       "NPa5a6kYynVMaGXbj0iMGqyoKv+spWjbnZVhbYVwqCqvo4rf2NJeyLg8PLzKUxja2yRI8ANrf0b7\n",
       "m4N6nfnL4Btxt8rnvcSSUdWbpWdPSwXh0Ssa9BnxhF9wIEuf2IEu3ewD9iB93SeQwnAPT+/YnOZb\n",
       "jTM7PCsDkOkb08VlTrpQcN0uH+37WGXvn8xM71j0HrKGwl6JeCgt3U3siEEs5xJP2jTUuNnqJWZv\n",
       "/yv92DOIlbdFn/6NLG44b8dETGGPaoueFVa5m5XaD7xoFbmEMQkbyzlQNLXfxA+y+MKqDVrPrB+G\n",
       "80JW1x/k4E3uz8JcrvBfkgb9AogsMSqXeESXtcZ/61PYFovdFA214L9SvPeu1muHqtXo1Wpu8glR\n",
       "P14DvUDxp8zDs8qT0+SWgK6z6gMreu9Z6TsyvZH1FtgzYVG8Pu53kOrDA5/qB1xVQAZWtF29TB6T\n",
       "VEjqfoikJftrjlVCrBfZvMIzUhwhQs/fJd0hy0BEt9n32Rm1LBI+u0TwbORfReDVXrcuO9uWJPgd\n",
       "UeGMpB6Gqx2BvRfObkpvu389TDhFLDflVr9dJY9X8qRu9QLZ5rw8hg1EIfGU3YZUOAgsuTtxCz6t\n",
       "XBEhaMWPkUZzjxk0j+K1Rq6i/ACBEXRUVY2f7oIqeOli8fo6GpN1SE1Kp2fUnPwfypHK3K3P5Gps\n",
       "vFbiNeI73D9PaG3tcVY58ZDUm4WZVOq/JyLeuEt/LdAruexl/vMkL2xvT5WX7zh5rYgM7iTAqaxt\n",
       "QVUHDosCOzDiXG0OWNg9ONo8k+ahCLwuHjZvkASp83YbjlaqMEembAQXoAD3+jPoWxicX0bjtZwT\n",
       "g592CR06GKE8HkEypZeMG2jJ0KsEAvq2jT5yKRr8xmtRIqDA19iv4/3x0yikl0kZB2XWk1psUf8b\n",
       "af4UAB0pGcfD0DXPDywJKLfZL97Nyh8WLBP1m3zqLGY51MDFZzyFXhwSBOD/+e7IZK5H6atOrYGy\n",
       "LMgEbQ5LD9/Q7huQiSCCSXl2yCQuyj5TWcRYa6lJJLCNTIcoMFRwUD+AukYrYP3EHpFSeAgflpsw\n",
       "dYlbkRRQ1mwd1RLbS9LnfMJGAGLxwnrAP+X0uqlaQ+mENXVPnCrbVPzFJV/uTMI+Wob1fRM95YOy\n",
       "cD23Zv82KjpvUT4u0f7khD8BVa+1pR2lSFK/qPsPmmnu9jsJnyhm7TCmYZB+gjGbOumaEdxBAAY2\n",
       "nISHq3D4/ge2tdX3ff8b3j1ynyzJdjDlNBVMyWx/ErvuiuGuqgR5z6uSsuai2mmQ4wPePNk2sl1x\n",
       "3yjpPWlFafJC932rkONq5qcOzUSXy+wDKUPUd99O4l4kLfNkoMDX6qjnY3BHWeq2UdvK244h7JLJ\n",
       "20UWyqf34QK9+STz4GZhR2U9Wd4DFH9acK3kIjCmgdioaS4FAWSIhruMvnt1ttwMyodAZZFS50j/\n",
       "cBgc5mfnLTz1qwK6pTG5GydlcbW2xxqHwmgqGHtBBHHKxm2rkswHqOiVcBcXrzDAjT3+cqDM+JDD\n",
       "ftgcmeReyQtoUDwkqmSMKl4b8/xtfvG4psUlobNxUg6Z0zbSPLKq9IkchaGoI871TKffK1Zhxbgz\n",
       "ow1vm4AtNDMdq9MbPRPG58GejWhf3J0LKqfS/Q/GdhO3JWUHuQNHfHMmA+nxaK7YVrJhAmC0FQPg\n",
       "hvAgoRXQGgkFXZ78yfGmqcbF1KoMoYnR7nrLW4jqW/aiwz/KUsGWu1ai1OUPBfref5Qv/kfG6/8P\n",
       "gWvboOF8C//n4KFQAuyoZlu0XfyJOfGPM9zRAhgRCLeY2MsLQwWuuBooDfmy7IXctvbnV3+g8uRy\n",
       "xM+64S/6X8sd4Qlq3OkA68Rot1vMu2IuH5bnbaQ9JYuwg1WkqGUGKxndx8wHeIGEGbFXc54cYwkG\n",
       "ujblmyANjrwqbS+tKicvO1XebEeWkoZwX3UL8zN6CRlb+1uptaTND0OgId4vfQ7zPPEreOHqESNm\n",
       "YIx4rzEJvFJIpfg8098lYAd2Ay4mfYrmAWzuX8LJjelJcb7ZL+fVNkytLfKI7CPaJk12x6R7S5au\n",
       "lSjBcP+KpVx/dsKH6jIr9a1K5rdgLQmGKAPJSG/UYCkSxp/woQ5v9nXgzoGBZNBhjCD6noekFfZ1\n",
       "YeuenoMJpd0AOeP2XZb+JtOP2AcTl069InqLmOhz2BZ5c53445AceBW1g2UGnsQtrH+MFy0eulB/\n",
       "mJC9YtLPKGGgb+QjztGWMdjbD9R7b+1NYImuFlt8kdSez/s60m12lmAym7+ikto2SIeMIaiJzwjF\n",
       "S5c7nmKKRGkcOezB5xczn8O3X/WDGEbbuqYervoI0dWO6L2ikkjBTsQn1p5AFac/57GSqyhTwo6K\n",
       "IJdFSBuaN8YO0GjEv7E7OEQxbbHCMJInjo5bCbzT/KTK/OP01q2m1P6pX8HhA4mpUTVvrSZkjAf8\n",
       "KpBStAq0iE7x80oCi483mXEu9QcTbJ4Xu/KMaYhn1j8psXsizNOhJOvTS6uYtXcgwlr6Rnuwu4bs\n",
       "vc0O5CcVeJNKH/g9Ub+2JDIY/9JUT8UFlmeLc4837itGPqsiQuN7blV6LmbbHMtHA+OaKvYeahPf\n",
       "c/3EKAEjpcwqplfg+xPeGg6UPL4rEYwuVQZO07PApLdtykXXwC95V08z9dRiOrOn7X9Q3Qy79oPO\n",
       "PixAlMJbMeWbeqIiqe9Z77Glrke77XYkCHZbbEMRS/uEJI2M3nP7EZ3nHwbfuS9qL19XAQ37Ul0z\n",
       "/ri+nlCXr9I/96QeYAXVcAHZuJS4qAGsRgN9jAV+MXfyj7neQzA0s0BBg5xRS64suM7AZtVJkwrg\n",
       "vZZ9TlLGl7QlemO5II7WKjj4wWIkpP0OoAhg8fLLybqIf8Q6JUQjnz2shwjQCNgOxmWretARtZwh\n",
       "+vxf6VWTq3vHGu8JjM0Q+bxl6yMx31vUwmwyca+TkUOFJwzkbn3M0xiRjyscJW+D1VLzVxvsVpqe\n",
       "p7u5GFFEQHvtXUPPpvY1GbGjjViUVeQloaxMYgkQBAdgcGLSTgyEwdnfo0Fr1pitZcEXx1qAgW+D\n",
       "5QFh1Im6sPNfoSLbmEfWtD/hDSECuVBN1uuRIahzrJbmITL4C4j+J2EWMeXxUOUKbBHTbBB1W+c2\n",
       "e30RSwl8rSfbqGRiRSjD5YLLipCqw/yFUhyeVTiTqXyNUPnbHWSS/eOYRS5APIRbJxd0uI2KKZXr\n",
       "W/8m9jUW6EDISrmnsBzstiEqdurPWNdDlYcZqLdEBlkzMgbfB0GZq8gnKikc2D3DDBW0DzePOxSG\n",
       "LAkKjTBtdYtNAj4QrNjsCZW7qsgYUaUueepkIQqBlRXsVvHMQQaMnWRwrmmb0P1qFSvRoPpyT4/M\n",
       "FWl55yIdMwHCScu3Mi5QOISf7c2Uvzb9h3GKAPvlkQ25/eYXmyydyMKYx7QX0WHeTiWBkH6RDFHV\n",
       "yRYT+kkjnQooXmqRPrhr11DEmJ8kwmSTHtLcAM5d/y9ANUTorrqGe9SrJqnP5KTPHAOVZ++yUUUp\n",
       "EipC8obZPQeRPqIQJNK0qFXQLppJ7ZY37u7vJRyk9LEqQ8grieAuG9amhvGjt/o84gpXH2QqfLGl\n",
       "JfVpl/CBBWbdaNcBBDCz6bSNmJE7NLV985Y+ce0UVRXlKHBBCDi6qy19X3q71c7KBlZ8Ka+ZveY0\n",
       "vqpHfqZTZieX5R7tCrQfwMMQOGSjhnYaZv1JDgdjbotBAzmqNJIPYU2kaGt5qz+kP0FwTCrdsLZs\n",
       "ckJ/nGmd/boHSn8BFIL4c7piEkVaLZlYUVLAYqU1DoFB9e8jmOwFjgfhtA+WwrhcOFZwtE7FP9dO\n",
       "g7HVkVRiFFK8vntHkL6s+ITEJkCNQQD/79L9hyIhh6W9flCotebWP0S0N3IZ1aeve8fP9oOh+AoU\n",
       "FoCSs/MaothHS/Z4BdENCqeDoy3GMb2997UVNsFy/L/cdIih28abY04HXor+yqNlSp60jeY7Xs8b\n",
       "PnwG75MRXud/5rojSlsn8KSUAD+6U4r1ZhlhAU3sIaMBnjU0K3VcPV1rbH1gyv49OFZtOCnMP+Ii\n",
       "mgiRmu0NKf+rbrrj3AEpBePfYUU6e9IBZPbHzq+qFtCExoLy3Lc0kkoglzDLVehJ97Z8bi0ZcI2V\n",
       "iQFKD9CZZAltwLVjE5ugzu8umA2gmsKx/mnO+g0o54EjahswpvQxE16LUsoYGbiyfKZUvfyxhVyj\n",
       "7US0kugWQMOv3eH5SgQbpEbRspmsa84/DGiPIS/qNv0N6dQvQGrgqwM7q/+4Eg4kGTlUc3j7yl6A\n",
       "wkSIqUDeBnCEVANu/LVvhoZ+ckMNYgDBb7eTHCzZGKDZlUkJHkJgErODtwsHs83CyhLGAJ8dkN4P\n",
       "0P92LcRmvITprtfH29PxaILIx470Zc0U8x6DPo72kdWlWPCyH4SVjeOYsZSUh4++hYw9zt/zQJHz\n",
       "DZUOL9YZ/S3rNKYVMXgVxD/Ul0Su/X0nzI29nEQUEf6wA5K8C7JQuMpop4x1FjhMPBJpvWmkinjg\n",
       "y7b8HOvtujW6AwXqeX5xnpqZmqWrLSOxNIH4msUyK//09tqcsN/KzT5KeyFHT33MDnSRsTPoZSrh\n",
       "uqBAHpjOsmc/nAKtZnXRoaTaUMjfA3tVQkMXCJEpWhzN86LxrhNJb3ILVKkO6gKfl8BpGAbOH9qn\n",
       "e22gw39yafopjRSodILdfnKcnO/N9AB+iGG98nhCE1jbxSsu4O9KWi0V1F00Azeo6q9OiFIUYRh2\n",
       "enDoeqOmQ1bwDYB9z8OQRJj7jeRW4eCliyp9TMG5+j0JYZ834fU8B7f+w7Rh/+jgCnP84FI2BRBz\n",
       "e+4N2fKUWck1T93CqOrEbdGR2nbM9lvFAbQkdAFs63lJf5aROI1ZsFRnxQt3cganVOq3A87DcAbw\n",
       "7wM9r0H/5LMnKCLlbO9iIbMXO+lMs/qTV0Ggqdb7mX52bdlznWmcf5u4BeGTawJOmblvquySY1ed\n",
       "u52p0Iz/2M9aL/o2cK9fxMTDVSJJPbJRZ7OYoRFlAm/pPK4RQf1FIPHGbE1Wty35V2FhD9cSCgTq\n",
       "M7kDCulgpPfeiqaogNMRC2M+Hi/iqM8HfwPG/gZemgVYLLZrqbWIUBSiGIRYgVesY55IvWdmlm9E\n",
       "o51tX5OelO4jGSHIIoJh5uDchCdBhPRjvLM3+9JOx2h1fTgb6Ea9B+zumJkmyzCGIkntvSLg8hu5\n",
       "RQFKV4sBLwzEgWXad7h4TuPFzTsrEGE5PWSJMS6xH5sJ+hkPw1n+cQAOmDbTiZ033UBwbyDZs9Fu\n",
       "9JaWJxan5+R6QfsM0vIS9svJXRy4SfnkWgdEL5mUBmOdVpX3W2tD08LbkqMAj+PbCOr2fg7HVj6Q\n",
       "5EnMKx12tjWoe67gHlLg2guqBw3dgCcwY2uFmdvYoqsiW8lItT0ltdg804qSRggbSdvR567TxL3B\n",
       "9O8vtKJW32XM38YJl0ov7vBUp+sKL4C2N6MVp5vWyjUTMKbn5N35I/c6hhJiLx7AAxze5Y5ZWMfq\n",
       "NS92fv7RTt+iLIPVVzV2SyC8zX5EmTdMpJfgBvgMQ4p1tKMfx+p7jTA1sRjT590u4fJ9wDoINvCB\n",
       "xpuWNdY2sIOo0U1Xgj/LameFLAk9kMKrBkzNuoekymd8GKvaBj65ridPk6GeysoGs76p/bGVBlPG\n",
       "Q6aLkkMPZgUSEsmSFwm0SH4EjLqHHVBKIsG+EJG1FZc6bLk91M/daPugkm2WExpgxAah8DLYpqb0\n",
       "barbh568OoSQ6CLE34wXO6WwkQAAAlZBmiFsQ7/+qZYTAM9AEI9065Ck/WLL1OQLLiND19X1dDaT\n",
       "XY+jswJvsntZbwyhlomdpUpqyielolJ7uawmrCHqOmgEn9KwTP1pEI+ucxgmwDnC3LpEXJPor8tT\n",
       "YznwOdh+SZCNz7MKtNbCeX7lwXeE/5PlLG/J8iHkYt3UjpR6FvxCiN8vGNBtwyNOB1RRfPypPv3/\n",
       "0qCRd0unYzJnLxaak9c4z5jmapRy2xsjGcHUKM4wNHP0BTN1jyE2MnPCoAMcL295F6DFqQ4pMz4k\n",
       "thnnOWFwHvnD9CtULHWd4J4Ck1ovud9hMVRrDTIb7qRGuMVA6aznmJewVxd/1q3khVUGg+ZxYLwP\n",
       "0fQWQttfWnwf1X/34eQAYDRwtsjKDKDtvCJ3kKlbvzm8rM7AeA/HSxC5E5pSIIPGjTjQDWy7tM6G\n",
       "MlBhqhrqwA8uxnBTgOPzQJvWkwLQN+3bQcLGAdtWth7yOYKcS15pfRNJmTZtlpFViwe/72tSCTwo\n",
       "+/Ak181Rw7KgYO968AclLaydMXsqdGkhzkJDxkfYzTYIfN8g3K9A3zC6CW26RAlmtiJHxFK56gez\n",
       "RfYfDsPXmJqqbnAEmLnvCJIWTu4j4DPJBWnI/brMhOp+pLoSndChrrfl/F8Rd1HRpNfcaoKfir1H\n",
       "hGM8cTHkSkQyZSYIhdQj1kx6KD/5rQj5heNQJ/Air+zL2JN3SJkIxdA9CMuikHYtmvzGfdEv3TY3\n",
       "r6d/TvBPUKkydoXqrLCXNmFIV272FAcws0+YPgR6Zi6AsU/cvQGOGtKXYTeQcWupBIXgAAAC/EGa\n",
       "RTwhkymEO//+qZYJWa1ABRX6+2m85lN3pFNkN5aWK92b40CbWj3USukFPzQjIlpWZUnrTaNh+Cp5\n",
       "P5LQ5H/zv1r2+wstB8bNCvWnPFjMZJJ+99HnqeRnR+JEDP/DXPzeOlTvw+gYOr3IkGj0uXgOP+0w\n",
       "4QHG91fSyglUyxj+DPrawQryM/p8aDM4G8w9jafLbwh04jMmeOg8ClgOFm3/qUl/xe/cvhkXiCDC\n",
       "bWCWR6NVLez6WxMUHgzQ5YLnfRncpbkxtDDkyBGNnl29yM43dUrWmaY5eE+C0J5FqNKKMsDNDkrW\n",
       "NHVqF2j37x1Oq/YvcvTN8OhA2pUIpPC1l/BN57XHyIzW1VGKDlWl7PAbXt+tcqwUYRTjM986DG0e\n",
       "X8g41DQeBwCC6fqr6zbZ17H+TywmxdzymuZUEsxvhZHVmnTCkPXlUPPE219r9Qwbb/co6QTJ798L\n",
       "obkA4ByVNVe9vGK93zF5wnOjN0vDz6sOz2g7bEi7zzycky4VPZyEu//M7tcSm1/MKCOz9LXOfV6U\n",
       "Gfk/wsII7yEGXMeawHgjRIT3YOrZCMtqlBViM9H+f7eFLRRUmjvM2W1QC66+wx8jZuxu8XJ0Yge9\n",
       "tHbR7XlAgLhrOk7a3ww/RXJ4qRgIEojXdIkfiIXWe8cGAmQOzMsiFH0/TPOj+qi5y+wYO3/pgXSg\n",
       "C4imZ5ATELcmrBE0SJMo17BhpLnqtNPUYJr8pWjI/OiN6hQXDkA2JGM3PM1rWMAWsfgZ4qoOiozt\n",
       "dyPDlhOqYn/+ar22LcgP4PoYLFtX1rGRK9pTvmZcsCAEqZH+AhtsB2AqAGA/uRaqBXvo5rAgtdYA\n",
       "fF+gJJdMP/oL7oLt7fmASwIgCQlRMsKv26LbXOAJRsiigyoL7L4HOqgCM8Y8NM73H63NPKNa/yMt\n",
       "Im2498qSC0ROGmvMchxW7i/PVCt+hwOcZYXdxHpn0EXlsNDNBg432nc/Um2C3Ek6okAHWzhyFyT2\n",
       "5+3MGxlkw9CG76Hmfs8ClUvS2Pq3AAABb0GeY2pTwz8AjuE31FwC8pNYk5jihmbmW5UUWB3k4bVK\n",
       "PGajubAAECgDTDxkNLCe8eLLj2cxovKum4wBAvgwqD8UCMowR5JY8FMz6g4T9QKS5wpzlKJBP7kd\n",
       "mw/KytVyQzaN63MyYAlOE6bek6I4u4L1lC66KhghDlVre7yXoUFM4nDzx3piAkLOAgxMzNq7saVq\n",
       "h7uHQta/hdn5flFe9Gb8gO0wAQU1O/SAPb6mYNY7q5dZxi0ninAn6zkMnJ97J1T20oaL/GKtTQn3\n",
       "xNdRbJqMME1apNncvUPE+lDwsMB11Rtb+EakbKyjWvl3jfe9XPuqJ9szfrjFnJIaUg5vuA03zwo6\n",
       "E+lp1XnGV8heCHUx8YJEymX3b3mIvKiwWKaVSwQmEHRcFZF2HjAPkqvckF1yY/jUZ8b5xH6n2KOl\n",
       "Lk1G3zzoHvHgh0iPWiyUmRxlJkI9cZezt0LSMN6fii37Q9qR9H5TTeQFyEAUJWYJ7TAAAAD6AZ6C\n",
       "dEK/ACKuiSaRR+R4AWpdKAXfy1H1BX/oC2lHHhC7KDds7qXUZb8DnYNwYIotcp/w6YccCRZbBFs3\n",
       "RH+e42SQSPE31WaCTIOg70/QBWt6EkFII/Pj/6vBXLO+Njn5D2GhR9vobAlZyPgSO8R44Mr7lCHI\n",
       "9p+7U1M/SisrEiXnS+x1edT2SXocRTYU8wS2vQ+4Oja33xRKbEyfRJWqFiT+v92CFqBV9JrXnmst\n",
       "OWiEOROUbR1iYBA9GqBcotSJnhCz4M1gxA+9IDHSdi1Xov+fN6p4cw9SvKQHVUegbuF/LLANnp0q\n",
       "G6aYCAUHh1xZosWAM5k5GIpw4QAAAOcBnoRqQr8AIrsBhm4zEzZN7y8GOY3+N7IACIMQ2pOs6Bgh\n",
       "T9FTxxn/rzjWdXjsPQcRKdQPR2ZqkBTe44h8yjK7wyph3k63ZY/w3GiYzOq4nP76tId5pQp3fjI2\n",
       "fu0UXvgilhFsOWtCkPv90IEXVzCt8i/q4RnlzpX8KZnGd3cR/uE7uzMOVdXf74IfsNaoQHuI1sZ1\n",
       "A1axdl4UT3AEv98aRcWkPSMghM69qjuna5prm2Obuv4/WXxBqU9QAs1MQihpqjlvcEFrs5D9/ZkX\n",
       "RV2FlUqe57MMat6aSjLNyicVmqSThHSCVscAAAGUQZqGSahBaJlMCH///qmWAAsnAq9rwA45nLOQ\n",
       "LTK4Od1Svph9R8HPNy2w4lvAU3f1O+Bni+hVf4MmTwt87leQcjb1Nlq2CRwHy078s3K19FNArqg6\n",
       "KCMJblFDgeXChRfiB9vkagPzHysmVZTNh/p+tLuSJBn4uzO1HQg/pulK1E6LMB0nT9FyXUtgfa5Z\n",
       "WFtsBzFLBOmXB7xzHNnf+73LC2rKgF/xWxM7ENTc77h/CqBGLHnSGKK90Pe5BPArJzu0CJPp0bKI\n",
       "HiLh1nAv6ak5PdxMqFuRLYg+LAd83mNvHqvw6RQ1bDN0bSCVNgZjrhUWaL1mF6YiougZwK/jZ/r/\n",
       "kxglJ6Vxkj6TNTTvqfpkGhN+GgpAkhTI8jtcC05EKZP+d3VYhOl26uExlTYtAw/cqxMYkp2vngI3\n",
       "OO/1eTnK/u+z6L8px2yqkkbVzh21AIv7g3dJ5RgWfS1eZqjhjGJFyfpF6b+Bq77KB+R78WRpzVvW\n",
       "mDmGHmm4sLIvo/K4VBBT/AR8GdNvOcujd1z6SekUBlf8cmEAAAIpQZqqSeEKUmUwId/+qZYACzfA\n",
       "r35pO4Die/4kwAWRdGs5blOdAw2MG7THKcVjgNUb2zFmQvDBwULDzR2Yaz0xVcgU7KIcJnj1MnIK\n",
       "kN3L7392dp8VMxFcXrezPaOV9bC+3yKOUqG6MFnFc7O0z0BhyZCCBqKah0dRaOzlZHBE3+tKhdS6\n",
       "mzuuyOrKnsu/T/2frbWvVcnK3DISdoW8kcoNKkl94PRmEXna4Z5wTGfyxJrOlMfX0yo74LpGDMZh\n",
       "MQzf+6EcOpO5sG0MOHfWSXnYXRN+1+MO7zZKAgCfkgTnALva1sD1eF5qcTDrdTGzk8aNWISp3D7P\n",
       "9nUBj/oyhYdNJGQbSidQw65SBumIFnbC8F9E2/mGvLHUg60xYTIeVBqRR73tdcU6XDUOHNNgfSvj\n",
       "hgLWrUQWQnJtw7er17dRDBpQXKEZLhDSY7ku6YNzhKJvZvH5wr1XwRiXDQVy/uKSaZ3g0FAf9Cr1\n",
       "/3PF32ITo31GcPO3OM9zF4jlL3k1j5qAvYrYphau14xilDwjVmPjiodYl98Haw/+6/yG3RgeN72e\n",
       "fcaiphzxqkDQGl6xHhNDxWXJY+KMzx7AzQ9a6jyCqzTT3Y1smb8z5w7YjKQMKhHqhy2nRnhFxqo0\n",
       "13hHuIdsdQQFK9NTaRBnl1qcVJ1Ko9chFGo2Zh+reNXzDES9vEzuyid3WYzkQbcWleET4ckQ43tx\n",
       "Hu7diUwp8/QxDGpwvOfqTY51P0qmnQAAAURBnshFNEwz/wCO5BchdI8tkCzcn74AP3HNFiBiUZ/S\n",
       "LdkUlBUzKHNzeY545CD9KPYV7kZGirsdkN0XPZ+re0A2V59nZ8riE80UUbx4ZISLVQKoVNHXov9W\n",
       "edG2AsbeN/4fSdtT4OVEckfEwcAAAATnu4Mkws3WPze5KDJ38LO/wInjJBLnNQJeq/E9g9KrfZqA\n",
       "6KXOaOWKXZcw72VhvbInAhBBtaemOgRniWD4UqvQiMCsatrnPcn05J9yw8LDG7+/oBm4HNg47O23\n",
       "oy2czvtdSERt7tbBYtuE2tKi3pEE8kNKQc3J05byrjct9hB54InGV8hal1Jl8tXtuYAPiibaLlxe\n",
       "grU0GTzTVejOqJBewHjARzqzr8HZYZ+PiOwMIdIj35Xd+zjKHnJZfCMNBz5jivHfeirT5stWA1zq\n",
       "1sG/e28XKcAAAADmAZ7ndEK/ACKuiSawEMGeoAWGrMLxm4KTSYQmEu1rVhqY8pM3jzXbtDaojIGh\n",
       "CRPbP7axY+cD0epF2WpdMQqYhFNLDoCpsq4zqaMyauhiVUjeB5b+RRogQuwmNRcxfbhNzCUR7bW1\n",
       "DJqKFLp7D2YPj56+2VnaTja2QQvft+dsLJq6/zf7cXlt0lrg1cM5QWh2qkpbx9nLC0tz/8FcetV1\n",
       "RK6LfUGUjUfDlkjxmKjB81oa3bVmqfZJuE2krC2qSikuSHkqZ2tYdZadOenK0ptbW2REze4qsss1\n",
       "sgytSXnC1LmAWNX9hFQAAADlAZ7pakK/ACK7AaMZn4yAEgGl8oACdfmQzDsvA2wg3sYOdfeVpoPQ\n",
       "OGdmJBo8p3o8C/Hl/Gok0vIuAoLdgxWQ6GsT1EAkz4zIGYZBaDU4M7FLQR4gnXYfamH0sswAAhD4\n",
       "Ts+tO5FZheRIoQAT5KM0l0fLmf+3Q7W/bLkRQ9qoYoJ9x/yTMQYxhxP1sGF9LxlZUk91fwPzaj5F\n",
       "1sFmPZBuevexzHO+yCDsC6BUZGEEovi2XI6Mt5YU3Ar0InNdDfrqgkQ1GTRmQq0hLBfzrBQS/vro\n",
       "CIS0NFn4F+uWPitYevAarNGnnwAAAiRBmu5JqEFomUwId//+qZYACt6QXG11wStgHQAORAVZDlJI\n",
       "HBjuXtu8IWzLCBQ7bbl0ZsHBlusopPXS4h2D+b3fRbwZfYhQSIYGBOZJASetHhYBI58262CmMsfX\n",
       "5JIcqa4gBJSYeFPcEuqq6erMvKYDkYXq7Uz+AmfF+kwRJRMiZZX4DI3Dg1OOx1fVX2u5hbG5RHJ6\n",
       "kUILN74z+6Y+1k+GWs0G0e+UQ+P/qgqNr5613+ydMQDQI3zNMkLS9j5/vzIepSjgIXDtDYuUns55\n",
       "b8zPS/HwTN3QUVbIpydGCvL/+Hncrti8My1/l/PHdLWDKt08CA3tOqvSjdJD6ePHqKX0RA3NrfrQ\n",
       "t0ww938blShOtFm8IKe3LFm3f773uea/KKu+GNPIpFmvVlOmbWnQy4QJNkVr456Ud5whRs44csx7\n",
       "2Ha+sFUxNHRRAjH5HySFT3jlVZHhoI7GSE67K6AelGRU5zHD7p19FslAitTiMRz6bZ/jYGdJqJRe\n",
       "M39dO5BjuNxIQAJeTyk4NjQ8ZmsVSzC9P9EWfdWXObwxaeN9citCH6mF2UZfVqpEOMz+ypfQAJt+\n",
       "wOUpk5VDYJBlM1+eAfEkA/8w3rH0dDOn01yzJ2vAMbNDg8TcqN72eV4N+/9QIopM31KN5Ewsy3IB\n",
       "3R1SYpdvgxLnTFmeGYrJywSm2drz7noe+bWgdAn42fF/xWXjpH1wSBqR1zgXYLBV26/svFPa7Eyx\n",
       "hwAAARdBnwxFESwz/wCO67ySbibRVX8uO1AA++WytTnBHIIYc9poH3ViJWJvSue7VTxHBgkjWiTj\n",
       "UGpAU+CAehtNMjxUxAF3Sdt1mNYnQVoegL+gn8fQqRxWcs4LPmSWzL/K/SbK0K5Z6Ty3rhWFn2m9\n",
       "qajtAolnc3bFzZatgJv3VEWGNPg+cmYZsHFzYJT2gKBIVTEFUfqyaEq06P/ZPERSFmosiL7ub9hz\n",
       "L2lViHIr/FvoA7vLjrtlyGxrTJtkrGXPATmpPN8oZXGZiCf6pPqg0zvKE+sI7YshuUAHwC8qkOHG\n",
       "R28ZCQDWn9r44kSQcA+Bb5oK0QxG5dfj3iTui1hSkiu0zAy+/CV3/1Ra+rQmhx/qoJLniGrYjJAA\n",
       "AACuAZ8rdEK/ACKuhMYwpnS6MiAD+ZEgQAAFsk1BHv3CrycEUORdBFeSEA2+89NObkwcZIEg59Eo\n",
       "1wFudqNVHg1Aun3JEWevnp6e/QHAOQAHMBRE/kCImDB6mGqbUS8U8a/5+6+xced05b7IZ1tFLrNq\n",
       "NlX84G9LPRpa8JtDGN8m6GXQKGu3eR07Oeq3en6Al3ttEdEFRn0tjbthgnblJqkNy6V1vf+MVv+G\n",
       "oxZib56BAAAArwGfLWpCvwAiuu5fKsFVNAC3NgRV885dN5jpvuuk3Oer9M5mzVuUSxbDw1CjACeT\n",
       "SOMIg5vPOsbWcxEyERqYicRZbpPus/HjQFTdYqz0elW9XxQj5JD9WW24DMBnpxq5If6vlbqvzauS\n",
       "njD1XpNpli0XeDsFeiEuT+ANqMPN6jCcu85En742SRSakRSh44QKMelLql0cmSogc0dYUpIqzs/W\n",
       "u21k6pLZYfTQveWoqsEAAAKJQZsySahBbJlMCG///qeEABWuZdlqRiRjf/zABJ/WLmGks20K+p7P\n",
       "qq8ZKJefRQchr52rByq8cndpLK2t7RXJ33PxKL7Nla5FOEpeQtUyORtcB6XnWckP/U5UgrqCJj4y\n",
       "IfRCPUSG3ajSmFk8fzwVkcv2/+Mc/F6KWZD4VZCqHdmwILQvoSSbDOIX9kfd8/zSomV7v5045rHw\n",
       "wYb/5L51/6cRQXKPIgPfvvt7BBXbZVwrJd7xUcHH2iC0a4gMKxFeC/AjhQEhUJMdaQ8fAhmxRCx/\n",
       "XdQwj4Ba2v1wKAjPxFP28FP9zjgIGO2xc5lwsOH1F7qlRPlORC3WUsNCV9X4VwtdDLIxphB+FY5/\n",
       "a28YdfsyTZU9MFKMVRNyt810yYtraAxnVTzgP6+uKnEiRS74h5cee73BdKxiwIoSCJ8U+L44LVct\n",
       "gnzX4z8kiZp+P5j9omW0tpcWN84i8NcfDZafMN+NfcD5cxKl8fMD/knfDrHAn5qCLUSR3D7P0a7W\n",
       "YuQUAaf5b0Jc4cu2uB4LRPbZ/WJDw/YIH4XdvULaLP3UaLHBL8CbLqVNgu83YfgUALuxJpxZ9oh4\n",
       "kFkGfDy46Z695JUtTtBX/DzCIj9BvBinHSO42OBL2/Chxr2WX/qACiwVtLrtVyKRs+Va/Ny2CrgF\n",
       "eTqg16IrMXJuecageDZYFgC2X20zNmMwdcJwSuYWQvfgfTiVcvX5wYse0AHG2MctwHs5ERiVtdtn\n",
       "MXI+q1QDRsMZIU42c3b48P7lDWqxNwQgeRqr+3/HCbxcxQEQyYcWMP/IoEHphgrO3LCs3yvGVWgg\n",
       "35RvmN1wfUjCZt3MimgeB71uxugPdfwQqzYP0xYwLvqr7rSv7nECgQAAAPxBn1BFFSwz/wCO67yS\n",
       "biWpHbREqj/KZ5QUCOIg6cD44IIRdDe8N0r8ONSJktxZFC+kIvCaufybcZYDw1ch0hBVqBGPrO+k\n",
       "yugnsS26XPEBSIwgUdph0HK3TVQ9FR5so/Qv6waWEHrK/1yL8Brw3+0XY+o4DxnhFTqCz6Cv55R0\n",
       "fjVBQz9stFBUDRZUWji3iVVhbXdILJPkE2jhj0qgArJG7lh5A+8Wqu40ST3UaBurwXMdhDrkofLx\n",
       "6wSxyZ8LvRpxnVKQ1p5LEe3j9GDj6sd72Z+bIlRRTrTPI2gOYa+L3x8cxI2kI8JPRhuBMwlU1ImV\n",
       "JGQbqqF7JdyeRjkAAACsAZ9vdEK/ACKubGwCWjqwchy5VTKAEukoyQUZs6ZZW6BAtxJxJYlYEqUf\n",
       "zK/5niG75bqZCgNPWkiVIvlmcIyFndtw2/mGOwHQgpWngRrVL7M4bXqY+ygkjS4CYoC5qcGpseJ3\n",
       "SqgXsDsE7zKJk4/evvipMKVaaoK1utk08yMKR4WXEw5yaO18Qpuy9jt6gC9kygO44kPR1mySY5YD\n",
       "XocsUp1lcadVWcUsoTdRwAAAAK0Bn3FqQr8AIrruXuEP8o0R9L/oAJq4PFFSvEm0rTDCegLGRW45\n",
       "Inc7rz2i6ZSPqAKjiVWUdZ7gS75oJSIK0IlLlpcG10jkCwJ0LGUhQyTSVqIYfRMqmkND+J2A5pr9\n",
       "L0PyD5gCPFGUOIXjahShAs4PbvlXkLI84qbocuniJAuGozXQYpUsABFssOhIvOz13/y3v700jSI6\n",
       "9tufSijO5kXfjrXjHDnIEyuFdbvwQQAAARFBm3NJqEFsmUwIb//+p4QBRbULjsFZvfIc22AAXPXl\n",
       "nVskso4p/e/ddZA3/jP3fVoK0EA5ViSufD2B/5Uo86XJpY4VYex4rfQ9P09lqB1Ae7a5Mr+Ugbdm\n",
       "XCK/nrZyTrC4pBl4OwChbcFZokXMu44nWVpg9SLKEV1DivvcNp/KDxnn2d2Vgz18TuxnXN7V4vCu\n",
       "KvD5NNKI6Mnt9Sitv2YJNgHpW8Fr7m/niAeSogHsjp9gC/ldnmJRZ3oPrZci0dyAPrXv2y28eECG\n",
       "ZRytNN69FRLvZJJIKFXVBEmir9qdLkvg6x3UZ6lSR06DtxjyER4zZEyjC0zMa6l4ul3QfsInkhUQ\n",
       "5Z2x6UYCgXBQZYCZv8AAAAEZQZuUSeEKUmUwId/+qZYACpvhum2W7AALn+Fg6RhCq8+rFPFTdP6X\n",
       "7Wvujo9WTxg6Uv2V024Ud1dbcRmZiUKo6JCDgombsNi7fUYNgCP3P1QZNnGCLyxaVTCG3wAsDjnn\n",
       "rUmPSzumLDEWw6gRIvK9+sARPcDNdlchtfdFhHuInr9L70Efs/u7TOHxqQ7d/vo8a25KMnbHO3f2\n",
       "TveRd4TjrDl107OylMHxh2/65u3+muR0ujDgxtqvKAqw7cz15e/iRJPBVzg3XOyU89fnR0b31vj9\n",
       "hb2B2uQmjZrv38w3Ie9bb3XyDys7W4/CsnCxtSlpI9I+gOw/wgFT7BCYVcKtzjeZKdYxxW84617y\n",
       "04339cJhB4farfRHDawAAAEvQZu1SeEOiZTAh3/+qZYACpvdAT4ITACV3n+BRovfHeJBM5sm95Rv\n",
       "T5nv48AiUB1aYRAIfN0yvX1H4v0dX54cQQsHqRY16BJ/dbtJwop4zFrdg4/3UKF8AAX8tXJxfxHu\n",
       "BhqdFBF7DJk+3dsrXelEeehCSiuUJbLWp3W8J8bTy+cUOzreCj5u48wl9RuJHtQiOOWkojGH5xzT\n",
       "wnbxcR+OTgjISVRUiiaA/CdUtLFEYrvtLL/zcio95RnyZ7xPkQ3OBXRlefVRHc6AX7MMz8W/+d+R\n",
       "qk+0Er21y1wp8kLs97VCa1n/sCJ49JR/BpQKRbT/4brq9yeU54pntdYjDX3gYPAhR3p6nowpgHFH\n",
       "dNynxweffNNkY3cmHMyCRzGrNOBdMz9rLFM7rkYTRUIP90bvAAABZ0Gb2UnhDyZTAhv//qeEABUe\n",
       "ZdfqtmYmAARAdklRuL2ChQ5sAbWwA5S3RnjqkUu7CyGs4s4wSx3u1ZJ3YhW2xGHn3a0f51vxXJ5E\n",
       "0eGgd/k59jNzvKApgtlhrknA4IFZkbbXvDChooqfGhsOCEyQJ9IB3+YgGansQV8hbVMKpsQ2duQv\n",
       "xTTzSuuQMcT/Srul0HIMy76JnhXGdYJWJ0i5q7r0n1mGdfGXAYex45yhnbaRLwORHyen8V2Gh+5M\n",
       "aZhnE03NWZ5pIuC/Wr5VKiK9H/0mYRMrMfRrqu+uqbIJt4uZtAzyaDJIrjarrRu1gA3u7zZie/SM\n",
       "0COgJkF5REQR5aD1SdhCxTklMWcvXZlPKl4crBDfjWYyKsGjHqUJ0vb91thfwZLVZ07hIEyWUlcO\n",
       "OLI2n+z/Kpz69U2jN8iu42OaT/Mw+51+horJ8sktWijVfbsIkMyv97Y7nIJrCe6JI9qDpu568xAo\n",
       "AAAA00Gf90URPDP/AAkr4IZoYLRLGgBMCNGXEmBLMyyVV6AjEzKjEtlIFgKR2AuqteHp0Nn+/uBy\n",
       "dFfbeO8zxIktcqTUJYKhxIt+XDZHhY4vVDGJrbWYrRUAi9v01o5wbZ1IETdWi2ZwKH3PDpWQFR72\n",
       "1HP5Qv2K85NWCy5bpmOB5R8q4yoVqyeRDGCg/kLE9z01jWnNEH/vaMWDBE7E9Ui2YXZkYja3LpNl\n",
       "c0y9gPCGf2VyGOytbwrLrmOB9s/V0Ot5IR4Sehz13ZrY2mT7LWJUtiPOwVsAAACiAZ4WdEK/ABDa\n",
       "8972iwAcZtogEOHQPPYm9oYz7sLtF8IiR9fsc9fpFdGxlJbRwgY1GHFqi3gk4HWbkfNJh/0Gx1K2\n",
       "eC0IGITLvzU/KlFLBRUpEd/UD5PncpdgbLTblKv9hmHQTRALxwlu+ksAghc9kKw/6MmknleG9nWf\n",
       "LmMmTgMjkaYp2HnZDYkzTDOOIorFHWbJJjnG4j2X0r0c1fTc2hsxAAAAqgGeGGpCvwAQpZI+DbwT\n",
       "cAATnvaX0AMHqLcgHnCi1jvXhHEWB3ZQeNQ1I4G1F5Dg9YQeA92f1rmJOxHxRjr2P0sE4Z67wVB8\n",
       "y1s6zcoEc8Lzku8Z/wCZe+I0oa80zBYYaEuSAyNryrwwvSpWROPg+3kjJmogcMEKs7loehZ4Sslr\n",
       "jASNsHb0loswam25C4GkRv/BL6FmMlxHXttz6UUZ3MjB+tLwaZq7jBeQAAABC0GaHUmoQWiZTAhX\n",
       "//44QAE09NNQy3bjk68ALZcWJyS9h5thzd8J9sicbH6udTu32Xd7v6chMWdr7X2xBP02U1Z4S+kK\n",
       "a0OOpvxmH7F4Ae7uI7iAX10+8FpEvOOa4GpGCI3/bXvvzNpbJABUapRrxC9miMKk6vS0J+JiJeJy\n",
       "izVkD7xuTt1rIWghMF1ro99YIkuiMdkf80OPi41YgF/5YrLnbXT7tz/8glyRu2DexVTUQ93YpKM1\n",
       "/rzIgyw9Oe36T26tUAAAAwEor46hz4ZsAVtz/6TYBXNrDLnrQygHbb6gGKCp3KoEH1Is5t7bRE/j\n",
       "9GUKOs2STHONxHsvotXgW/pz/oCM1sU26XeLowAAAN9BnjtFESwz/wAI7qedYWLAAuUm3qocNNOo\n",
       "GZ7kH81jbdNLh3wzRiPoRCBdFRKKklDCvkD09prapMoOhm5UiwaL115FMi43X+ufrHGPE8LW0Hgj\n",
       "dPuKnHqru4yBTaSimd5kYmSm03+5Qmz/mXx9vfaVfclVkDzWxmHMVYoSig16R8LbSiImqmd+OU5J\n",
       "2/8SVLkz/pQSLVViQZp3sgfx3NktU140QQfQuXgjfOftUvpGUrcQCo45/iuHFm2CZs5Q1Hh/kUlv\n",
       "o+IkhHhJ6HPXdmtjaZBY86j+pBNPy/XZhAdgAAAAqAGeWnRCvwAQpZKSfuFgBdIFIvc2uWdmtTCk\n",
       "RCF9Ts1V6ziYid7vrblvmpXOsT3ENzSobjD2OQVIlAPPT4fXxqU14t8PJ+IncHdJo2+OHbbjdgby\n",
       "sc6Odq+uH5XGYqsXDmn4L21EYpZVJ013ry8hkxSnhPy67y1c94igsTiNV1V2Ub65+rSipdvSN0+I\n",
       "Dr2iBsZ9Ijr225845v91rqVAVdRZxy4H1rq48QAAAMYBnlxqQr8AEKWRC17qGAC5WgrEfTBVzoWf\n",
       "jAO3TmgHzrEaUH43wJtkCEF0fu9UyNNCBId9D2Fcd923xz0x3MWBTnhFf3typQGIvtt0GJw4kubH\n",
       "CSrjJqgFI1DMxjX9Q2M/uHyIHue6BQK6trp/04fDxNCk3wEGi+NsQFVQon1okBhd6B9Fkylneut8\n",
       "3ZSaMuoQ61nz9EpffZ8Hceuq6PNY7oQbiDaFYB5+/8Dlxrfa0uRLK7L/GVo46KOlAGBsDH+mzfok\n",
       "d/UAAAR+bW9vdgAAAGxtdmhkAAAAAAAAAAAAAAAAAAAD6AAABdwAAQAAAQAAAAAAAAAAAAAAAAEA\n",
       "AAAAAAAAAAAAAAAAAAABAAAAAAAAAAAAAAAAAABAAAAAAAAAAAAAAAAAAAAAAAAAAAAAAAAAAAAA\n",
       "AAAAAgAAA6h0cmFrAAAAXHRraGQAAAADAAAAAAAAAAAAAAABAAAAAAAABdwAAAAAAAAAAAAAAAAA\n",
       "AAAAAAEAAAAAAAAAAAAAAAAAAAABAAAAAAAAAAAAAAAAAABAAAAAAbAAAAEgAAAAAAAkZWR0cwAA\n",
       "ABxlbHN0AAAAAAAAAAEAAAXcAAAEAAABAAAAAAMgbWRpYQAAACBtZGhkAAAAAAAAAAAAAAAAAAAo\n",
       "AAAAPABVxAAAAAAALWhkbHIAAAAAAAAAAHZpZGUAAAAAAAAAAAAAAABWaWRlb0hhbmRsZXIAAAAC\n",
       "y21pbmYAAAAUdm1oZAAAAAEAAAAAAAAAAAAAACRkaW5mAAAAHGRyZWYAAAAAAAAAAQAAAAx1cmwg\n",
       "AAAAAQAAAotzdGJsAAAAs3N0c2QAAAAAAAAAAQAAAKNhdmMxAAAAAAAAAAEAAAAAAAAAAAAAAAAA\n",
       "AAAAAbABIABIAAAASAAAAAAAAAABAAAAAAAAAAAAAAAAAAAAAAAAAAAAAAAAAAAAAAAAAAAAGP//\n",
       "AAAAMWF2Y0MBZAAV/+EAGGdkABWs2UGwloQAAAMABAAAAwCgPFi2WAEABmjr48siwAAAABx1dWlk\n",
       "a2hA8l8kT8W6OaUbzwMj8wAAAAAAAAAYc3R0cwAAAAAAAAABAAAAHgAAAgAAAAAUc3RzcwAAAAAA\n",
       "AAABAAAAAQAAAOhjdHRzAAAAAAAAABsAAAACAAAEAAAAAAEAAAoAAAAAAQAABAAAAAABAAAAAAAA\n",
       "AAEAAAIAAAAAAQAABAAAAAABAAAKAAAAAAEAAAQAAAAAAQAAAAAAAAABAAACAAAAAAEAAAoAAAAA\n",
       "AQAABAAAAAABAAAAAAAAAAEAAAIAAAAAAQAACgAAAAABAAAEAAAAAAEAAAAAAAAAAQAAAgAAAAAD\n",
       "AAAEAAAAAAEAAAoAAAAAAQAABAAAAAABAAAAAAAAAAEAAAIAAAAAAQAACgAAAAABAAAEAAAAAAEA\n",
       "AAAAAAAAAQAAAgAAAAAcc3RzYwAAAAAAAAABAAAAAQAAAB4AAAABAAAAjHN0c3oAAAAAAAAAAAAA\n",
       "AB4AABn0AAACWgAAAwAAAAFzAAAA/gAAAOsAAAGYAAACLQAAAUgAAADqAAAA6QAAAigAAAEbAAAA\n",
       "sgAAALMAAAKNAAABAAAAALAAAACxAAABFQAAAR0AAAEzAAABawAAANcAAACmAAAArgAAAQ8AAADj\n",
       "AAAArAAAAMoAAAAUc3RjbwAAAAAAAAABAAAALAAAAGJ1ZHRhAAAAWm1ldGEAAAAAAAAAIWhkbHIA\n",
       "AAAAAAAAAG1kaXJhcHBsAAAAAAAAAAAAAAAALWlsc3QAAAAlqXRvbwAAAB1kYXRhAAAAAQAAAABM\n",
       "YXZmNTcuNTIuMTAw\n",
       "\">\n",
       "  Your browser does not support the video tag.\n",
       "</video>"
      ],
      "text/plain": [
       "<IPython.core.display.HTML object>"
      ]
     },
     "execution_count": 36,
     "metadata": {},
     "output_type": "execute_result"
    }
   ],
   "source": [
    "HTML(anim.to_html5_video())"
   ]
  },
  {
   "cell_type": "code",
   "execution_count": null,
   "metadata": {
    "collapsed": true
   },
   "outputs": [],
   "source": []
  }
 ],
 "metadata": {
  "anaconda-cloud": {},
  "kernelspec": {
   "display_name": "Python [default]",
   "language": "python",
   "name": "python3"
  },
  "language_info": {
   "codemirror_mode": {
    "name": "ipython",
    "version": 3
   },
   "file_extension": ".py",
   "mimetype": "text/x-python",
   "name": "python",
   "nbconvert_exporter": "python",
   "pygments_lexer": "ipython3",
   "version": "3.5.2"
  }
 },
 "nbformat": 4,
 "nbformat_minor": 1
}
